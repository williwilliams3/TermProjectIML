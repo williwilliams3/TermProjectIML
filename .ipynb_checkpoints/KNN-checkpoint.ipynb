{
 "cells": [
  {
   "cell_type": "markdown",
   "metadata": {
    "id": "VAu8ecZHwzxv"
   },
   "source": [
    "Repeat KNN algorithm process with stratified sampling"
   ]
  },
  {
   "cell_type": "code",
   "execution_count": 6,
   "metadata": {
    "id": "G4adJP_wRswu"
   },
   "outputs": [],
   "source": [
    "import numpy as np\n",
    "import pandas as pd\n",
    "from scipy import linalg\n",
    "from sklearn.manifold import TSNE\n",
    "import matplotlib.pyplot as plt\n",
    "import matplotlib.patches as mpatches\n",
    "import pandas as pd\n",
    "import numpy as np\n",
    "import seaborn as sns\n",
    "from sklearn import preprocessing \n",
    "from sklearn.feature_selection import chi2, SelectKBest\n",
    "from sklearn.naive_bayes import GaussianNB, ComplementNB, MultinomialNB, BernoulliNB, CategoricalNB\n",
    "from sklearn.metrics import accuracy_score, confusion_matrix\n",
    "from matplotlib.pyplot import figure"
   ]
  },
  {
   "cell_type": "code",
   "execution_count": 7,
   "metadata": {
    "id": "OaPxSIsexERf"
   },
   "outputs": [],
   "source": [
    "#data imports\n",
    "import pandas as pd\n",
    "import numpy as np\n",
    "from sklearn.model_selection import train_test_split\n",
    "\n",
    "def data_cleaner(df):\n",
    "    data = df.copy()\n",
    "    #remove the id, partlybad columns\n",
    "    data.drop([\"id\",\"partlybad\"],1,inplace=True)\n",
    "    #set new index using the date column\n",
    "    data.set_index([\"date\"],inplace=True)\n",
    "    #add binary 'class2' col for event/non-event\n",
    "    data[\"class2\"] = np.where(data[\"class4\"] == \"nonevent\", \"nonevent\",\"event\")\n",
    "    #arrange to put class2 col at the front\n",
    "    cols = ['class2'] + [col for col in data if col != 'class2']\n",
    "    data = data[cols]\n",
    "    return data\n",
    "\n",
    "##### New way to generate the data\n",
    "\n",
    "def data_generator(df):\n",
    "    '''\n",
    "    input:\n",
    "        df: dataframe to split stratified by variable class\n",
    "        class: string with variable to use as response and as variable to stratify by\n",
    "    output:\n",
    "        X_train, y_train: variables and response 60% data \n",
    "        X_val, y_val: variables and response 20% data \n",
    "        X_trainval, y_trainval: variables and response 80% data (for cross validation)\n",
    "        X_test, y_test: variables and response 20% data \n",
    "    '''\n",
    "    \n",
    "    X = df.drop([\"class2\",\"class4\"], axis=1)\n",
    "    y = df['class4']\n",
    "    \n",
    "    # 60%, 20%, 20%\n",
    "    # Generate TrainVal 80% and test 20% \n",
    "    X_trainval, X_test, y_trainval, y_test = train_test_split( X, y, test_size=0.20, random_state=42, stratify=y)\n",
    "    \n",
    "    # Furthermore split train into Train and Val\n",
    "    X_train, X_val, y_train, y_val= train_test_split( X_trainval, y_trainval, test_size=0.25, random_state=42, stratify=y_trainval)\n",
    "    \n",
    "    return X_train, X_val, X_trainval, X_test, y_train, y_val, y_trainval, y_test\n",
    "\n",
    "\n",
    "def convert_binary(y):\n",
    "    '''\n",
    "    Parameters\n",
    "    ----------\n",
    "    y : repsonse variable with 4 classes\n",
    "    Returns\n",
    "    -------\n",
    "    y : reponse variable 2 classes\n",
    "    '''\n",
    "    y_bin = np.where(y == \"nonevent\", \"nonevent\",\"event\")\n",
    "    return y_bin\n",
    "\n",
    "url = \"https://raw.githubusercontent.com/williwilliams3/TermProjectIML/master/data/train.csv\"\n",
    "df = pd.read_csv(url)\n",
    "df = data_cleaner(df)\n",
    "\n",
    "\n",
    "X_train, X_val, X_trainval, X_test, y_train, y_val, y_trainval, y_test = data_generator(df)\n",
    "\n",
    "# If needed conversion from 4 classes to binary classes\n",
    "y_train_bin = convert_binary(y_train)\n",
    "y_val_bin = convert_binary(y_val)\n",
    "y_trainval_bin = convert_binary(y_trainval)\n",
    "y_test_bin = convert_binary(y_test)\n",
    "\n"
   ]
  },
  {
   "cell_type": "code",
   "execution_count": 8,
   "metadata": {
    "colab": {
     "base_uri": "https://localhost:8080/",
     "height": 969
    },
    "id": "NTrDLpC2RvAa",
    "outputId": "f5f3f2cc-9794-4409-b89e-cdd536dc89c9"
   },
   "outputs": [
    {
     "name": "stdout",
     "output_type": "stream",
     "text": [
      "rate of correct predictions for k = 1 0.9038461538461539\n",
      "rate of correct predictions for k = 2 0.7884615384615384\n",
      "rate of correct predictions for k = 3 0.7692307692307693\n",
      "rate of correct predictions for k = 4 0.7692307692307693\n",
      "rate of correct predictions for k = 5 0.8461538461538461\n",
      "rate of correct predictions for k = 6 0.8076923076923077\n",
      "rate of correct predictions for k = 7 0.8461538461538461\n",
      "rate of correct predictions for k = 8 0.8269230769230769\n",
      "rate of correct predictions for k = 9 0.7884615384615384\n",
      "rate of correct predictions for k = 10 0.8269230769230769\n",
      "rate of correct predictions for k = 11 0.7884615384615384\n",
      "rate of correct predictions for k = 12 0.8076923076923077\n",
      "rate of correct predictions for k = 13 0.8076923076923077\n",
      "rate of correct predictions for k = 14 0.7884615384615384\n",
      "rate of correct predictions for k = 15 0.8076923076923077\n",
      "rate of correct predictions for k = 16 0.8076923076923077\n",
      "rate of correct predictions for k = 17 0.8461538461538461\n",
      "rate of correct predictions for k = 18 0.8269230769230769\n",
      "rate of correct predictions for k = 19 0.8269230769230769\n",
      "rate of correct predictions for k = 20 0.8076923076923077\n",
      "rate of correct predictions for k = 21 0.8269230769230769\n",
      "rate of correct predictions for k = 22 0.8269230769230769\n",
      "rate of correct predictions for k = 23 0.8076923076923077\n",
      "rate of correct predictions for k = 24 0.8076923076923077\n",
      "rate of correct predictions for k = 25 0.8076923076923077\n",
      "rate of correct predictions for k = 26 0.7692307692307693\n",
      "rate of correct predictions for k = 27 0.8076923076923077\n",
      "rate of correct predictions for k = 28 0.8076923076923077\n",
      "rate of correct predictions for k = 29 0.7884615384615384\n",
      "rate of correct predictions for k = 30 0.7884615384615384\n",
      "rate of correct predictions for k = 31 0.7884615384615384\n",
      "rate of correct predictions for k = 32 0.8076923076923077\n",
      "rate of correct predictions for k = 33 0.7884615384615384\n",
      "rate of correct predictions for k = 34 0.7884615384615384\n",
      "rate of correct predictions for k = 35 0.7884615384615384\n",
      "rate of correct predictions for k = 36 0.7884615384615384\n",
      "rate of correct predictions for k = 37 0.7884615384615384\n",
      "rate of correct predictions for k = 38 0.7884615384615384\n",
      "rate of correct predictions for k = 39 0.7884615384615384\n"
     ]
    },
    {
     "data": {
      "text/plain": [
       "(1.0, 40.0)"
      ]
     },
     "execution_count": 8,
     "metadata": {
      "tags": []
     },
     "output_type": "execute_result"
    },
    {
     "data": {
      "image/png": "[encoded data removed]",
      "text/plain": [
       "<Figure size 432x288 with 1 Axes>"
      ]
     },
     "metadata": {
      "needs_background": "light",
      "tags": []
     },
     "output_type": "display_data"
    }
   ],
   "source": [
    "#unscaled data\n",
    "#set up for storing error rate\n",
    "pred_rate = np.zeros(40)\n",
    "\n",
    "#find error rate on the validation set \n",
    "for k in range(1,40):\n",
    "    #run algorithm\n",
    "    knn = KNeighborsClassifier(n_neighbors=k) \n",
    "    #fit to training data\n",
    "    knn.fit(X_train, y_train_bin) \n",
    "    #predicted values for class2 on validation set\n",
    "    y_pred_val_bin = knn.predict(X_val)\n",
    "    #compare predictions with actual results\n",
    "    pred_rate[k] = metrics.accuracy_score(y_val_bin, y_pred_val_bin)\n",
    "    print('rate of correct predictions for k = %i' %k,pred_rate[k])\n",
    "\n",
    "f, ax = plt.subplots(1)\n",
    "plt.plot(pred_rate,color=\"green\")\n",
    "ax.set_xlim(1, 40)"
   ]
  },
  {
   "cell_type": "code",
   "execution_count": 37,
   "metadata": {
    "colab": {
     "base_uri": "https://localhost:8080/",
     "height": 318
    },
    "id": "KiXJ1z9JSmKm",
    "outputId": "e02a2c93-faae-4dad-96a8-371ca014a56d"
   },
   "outputs": [
    {
     "name": "stdout",
     "output_type": "stream",
     "text": [
      "multiclass accuracy for 3-NN on test set= 0.75\n"
     ]
    },
    {
     "data": {
      "text/plain": [
       "<matplotlib.axes._subplots.AxesSubplot at 0x7fc28acb5b70>"
      ]
     },
     "execution_count": 37,
     "metadata": {
      "tags": []
     },
     "output_type": "execute_result"
    },
    {
     "data": {
      "image/png": "[encoded data removed]",
      "text/plain": [
       "<Figure size 432x288 with 2 Axes>"
      ]
     },
     "metadata": {
      "needs_background": "light",
      "tags": []
     },
     "output_type": "display_data"
    }
   ],
   "source": [
    "#k=3 \n",
    "#run on test set \n",
    "\n",
    "knn = KNeighborsClassifier(n_neighbors=3) \n",
    "#fit with optimum k to training data\n",
    "knn.fit(X_train, y_train_bin) \n",
    "\n",
    "y_pred_test = knn.predict(X_test)\n",
    "\n",
    "print('multiclass accuracy for 3-NN on test set=', metrics.accuracy_score(y_test_bin, y_pred_test))\n",
    "\n",
    "#map predictions on heat map\n",
    "confusion_matrix = pd.crosstab(y_test_bin, y_pred_test, rownames=['Actual'], colnames=['Predicted'])\n",
    "sns.heatmap(confusion_matrix, annot=True)\n"
   ]
  },
  {
   "cell_type": "code",
   "execution_count": 10,
   "metadata": {
    "colab": {
     "base_uri": "https://localhost:8080/",
     "height": 969
    },
    "id": "C384sEBqsmB3",
    "outputId": "14b6728b-54b2-468d-f72a-f8b3e183a098"
   },
   "outputs": [
    {
     "name": "stdout",
     "output_type": "stream",
     "text": [
      "rate of correct predictions for k = 1 0.6153846153846154\n",
      "rate of correct predictions for k = 2 0.5192307692307693\n",
      "rate of correct predictions for k = 3 0.5769230769230769\n",
      "rate of correct predictions for k = 4 0.6153846153846154\n",
      "rate of correct predictions for k = 5 0.5961538461538461\n",
      "rate of correct predictions for k = 6 0.6153846153846154\n",
      "rate of correct predictions for k = 7 0.5769230769230769\n",
      "rate of correct predictions for k = 8 0.6153846153846154\n",
      "rate of correct predictions for k = 9 0.6538461538461539\n",
      "rate of correct predictions for k = 10 0.6923076923076923\n",
      "rate of correct predictions for k = 11 0.6153846153846154\n",
      "rate of correct predictions for k = 12 0.5961538461538461\n",
      "rate of correct predictions for k = 13 0.5961538461538461\n",
      "rate of correct predictions for k = 14 0.5769230769230769\n",
      "rate of correct predictions for k = 15 0.5769230769230769\n",
      "rate of correct predictions for k = 16 0.5576923076923077\n",
      "rate of correct predictions for k = 17 0.5576923076923077\n",
      "rate of correct predictions for k = 18 0.5384615384615384\n",
      "rate of correct predictions for k = 19 0.5384615384615384\n",
      "rate of correct predictions for k = 20 0.5384615384615384\n",
      "rate of correct predictions for k = 21 0.5576923076923077\n",
      "rate of correct predictions for k = 22 0.5769230769230769\n",
      "rate of correct predictions for k = 23 0.5576923076923077\n",
      "rate of correct predictions for k = 24 0.5384615384615384\n",
      "rate of correct predictions for k = 25 0.5576923076923077\n",
      "rate of correct predictions for k = 26 0.5384615384615384\n",
      "rate of correct predictions for k = 27 0.5576923076923077\n",
      "rate of correct predictions for k = 28 0.5769230769230769\n",
      "rate of correct predictions for k = 29 0.5576923076923077\n",
      "rate of correct predictions for k = 30 0.5384615384615384\n",
      "rate of correct predictions for k = 31 0.5576923076923077\n",
      "rate of correct predictions for k = 32 0.5384615384615384\n",
      "rate of correct predictions for k = 33 0.5576923076923077\n",
      "rate of correct predictions for k = 34 0.5192307692307693\n",
      "rate of correct predictions for k = 35 0.5961538461538461\n",
      "rate of correct predictions for k = 36 0.5769230769230769\n",
      "rate of correct predictions for k = 37 0.5769230769230769\n",
      "rate of correct predictions for k = 38 0.5769230769230769\n",
      "rate of correct predictions for k = 39 0.5576923076923077\n"
     ]
    },
    {
     "data": {
      "text/plain": [
       "(1.0, 40.0)"
      ]
     },
     "execution_count": 10,
     "metadata": {
      "tags": []
     },
     "output_type": "execute_result"
    },
    {
     "data": {
      "image/png": "[encoded data removed]",
      "text/plain": [
       "<Figure size 432x288 with 1 Axes>"
      ]
     },
     "metadata": {
      "needs_background": "light",
      "tags": []
     },
     "output_type": "display_data"
    }
   ],
   "source": [
    "#multiclass unscaled\n",
    "#set up for storing error rate\n",
    "pred_rate = np.zeros(40)\n",
    "\n",
    "#find error rate on the validation set \n",
    "for k in range(1,40):\n",
    "    #run algorithm\n",
    "    knn = KNeighborsClassifier(n_neighbors=k) \n",
    "    #fit to training data\n",
    "    knn.fit(X_train, y_train) \n",
    "    #predicted values for class2 on validation set\n",
    "    y_pred_val = knn.predict(X_val)\n",
    "    #compare predictions with actual results\n",
    "    pred_rate[k] = metrics.accuracy_score(y_val, y_pred_val)\n",
    "    print('rate of correct predictions for k = %i' %k,pred_rate[k])\n",
    "\n",
    "f, ax = plt.subplots(1)\n",
    "plt.plot(pred_rate,color=\"fuchsia\")\n",
    "ax.set_xlim(1, 40)"
   ]
  },
  {
   "cell_type": "code",
   "execution_count": 39,
   "metadata": {
    "colab": {
     "base_uri": "https://localhost:8080/",
     "height": 314
    },
    "id": "xmwJiG5Xs72v",
    "outputId": "9dd90365-14e9-476f-ceb3-12b7f8f390af"
   },
   "outputs": [
    {
     "name": "stdout",
     "output_type": "stream",
     "text": [
      "multiclass accuracy for 10-NN on test set= 0.5769230769230769\n"
     ]
    },
    {
     "data": {
      "text/plain": [
       "<matplotlib.axes._subplots.AxesSubplot at 0x7fc28ac547b8>"
      ]
     },
     "execution_count": 39,
     "metadata": {
      "tags": []
     },
     "output_type": "execute_result"
    },
    {
     "data": {
      "image/png": "[encoded data removed]",
      "text/plain": [
       "<Figure size 432x288 with 2 Axes>"
      ]
     },
     "metadata": {
      "needs_background": "light",
      "tags": []
     },
     "output_type": "display_data"
    }
   ],
   "source": [
    "#k=10 gives lowest error\n",
    "#run on test set\n",
    "\n",
    "knn = KNeighborsClassifier(n_neighbors=10) \n",
    "#fit with optimum k to training data\n",
    "knn.fit(X_train, y_train) \n",
    "\n",
    "y_pred_test = knn.predict(X_test)\n",
    "\n",
    "print('multiclass accuracy for 10-NN on test set=', metrics.accuracy_score(y_test, y_pred_test))\n",
    "\n",
    "#map predictions on heat map\n",
    "confusion_matrix = pd.crosstab(y_test, y_pred_test, rownames=['Actual'], colnames=['Predicted'])\n",
    "sns.heatmap(confusion_matrix, annot=True)"
   ]
  },
  {
   "cell_type": "code",
   "execution_count": 41,
   "metadata": {
    "colab": {
     "base_uri": "https://localhost:8080/",
     "height": 971
    },
    "id": "pPGTJ8K_T5Us",
    "outputId": "bf950788-f684-4eaf-bde6-5edd7d2fec23"
   },
   "outputs": [
    {
     "name": "stdout",
     "output_type": "stream",
     "text": [
      "rate of correct predictions for k = 1 0.5576923076923077\n",
      "rate of correct predictions for k = 2 0.4807692307692308\n",
      "rate of correct predictions for k = 3 0.5961538461538461\n",
      "rate of correct predictions for k = 4 0.6153846153846154\n",
      "rate of correct predictions for k = 5 0.6153846153846154\n",
      "rate of correct predictions for k = 6 0.5961538461538461\n",
      "rate of correct predictions for k = 7 0.6346153846153846\n",
      "rate of correct predictions for k = 8 0.5961538461538461\n",
      "rate of correct predictions for k = 9 0.6730769230769231\n",
      "rate of correct predictions for k = 10 0.5769230769230769\n",
      "rate of correct predictions for k = 11 0.5961538461538461\n",
      "rate of correct predictions for k = 12 0.5961538461538461\n",
      "rate of correct predictions for k = 13 0.5961538461538461\n",
      "rate of correct predictions for k = 14 0.6153846153846154\n",
      "rate of correct predictions for k = 15 0.5384615384615384\n",
      "rate of correct predictions for k = 16 0.5576923076923077\n",
      "rate of correct predictions for k = 17 0.5384615384615384\n",
      "rate of correct predictions for k = 18 0.5769230769230769\n",
      "rate of correct predictions for k = 19 0.5576923076923077\n",
      "rate of correct predictions for k = 20 0.5576923076923077\n",
      "rate of correct predictions for k = 21 0.5576923076923077\n",
      "rate of correct predictions for k = 22 0.5769230769230769\n",
      "rate of correct predictions for k = 23 0.5576923076923077\n",
      "rate of correct predictions for k = 24 0.5576923076923077\n",
      "rate of correct predictions for k = 25 0.5769230769230769\n",
      "rate of correct predictions for k = 26 0.5769230769230769\n",
      "rate of correct predictions for k = 27 0.5576923076923077\n",
      "rate of correct predictions for k = 28 0.5576923076923077\n",
      "rate of correct predictions for k = 29 0.5384615384615384\n",
      "rate of correct predictions for k = 30 0.5961538461538461\n",
      "rate of correct predictions for k = 31 0.5576923076923077\n",
      "rate of correct predictions for k = 32 0.5576923076923077\n",
      "rate of correct predictions for k = 33 0.5384615384615384\n",
      "rate of correct predictions for k = 34 0.5\n",
      "rate of correct predictions for k = 35 0.5\n",
      "rate of correct predictions for k = 36 0.5192307692307693\n",
      "rate of correct predictions for k = 37 0.5769230769230769\n",
      "rate of correct predictions for k = 38 0.5961538461538461\n",
      "rate of correct predictions for k = 39 0.5769230769230769\n"
     ]
    },
    {
     "data": {
      "text/plain": [
       "(1.0, 40.0)"
      ]
     },
     "execution_count": 41,
     "metadata": {
      "tags": []
     },
     "output_type": "execute_result"
    },
    {
     "data": {
      "image/png": "[encoded data removed]",
      "text/plain": [
       "<Figure size 432x288 with 1 Axes>"
      ]
     },
     "metadata": {
      "needs_background": "light",
      "tags": []
     },
     "output_type": "display_data"
    }
   ],
   "source": [
    "#normalised x data\n",
    "#normalise 0to1\n",
    "def normalize_0to1(X):\n",
    "    # Normalize X values to be between 0 and 1\n",
    "    x = X.values\n",
    "    min_max_scaler = preprocessing.MinMaxScaler()\n",
    "    x_scaled = min_max_scaler.fit_transform(x)\n",
    "    return pd.DataFrame(x_scaled)\n",
    "\n",
    "X_train_norm = normalize_0to1(X_train)\n",
    "X_val_norm = normalize_0to1(X_val)\n",
    "X_test_norm = normalize_0to1(X_test)\n",
    "\n",
    "#repeat \n",
    "#set up for storing error rate\n",
    "pred_rate = np.zeros(40)\n",
    "\n",
    "#find error rate on the validation set \n",
    "for k in range(1,40):\n",
    "    #run algorithm\n",
    "    knn = KNeighborsClassifier(n_neighbors=k) \n",
    "    #fit to training data\n",
    "    knn.fit(X_train_norm, y_train) \n",
    "    #predicted values for class2 on validation set\n",
    "    y_pred_val = knn.predict(X_val_norm)\n",
    "    #compare predictions with actual results\n",
    "    pred_rate[k] = metrics.accuracy_score(y_val, y_pred_val)\n",
    "    print('rate of correct predictions for k = %i' %k,pred_rate[k])\n",
    "\n",
    "f, ax = plt.subplots(1)\n",
    "plt.plot(pred_rate,color=\"blue\")\n",
    "ax.set_xlim(1, 40)\n"
   ]
  },
  {
   "cell_type": "code",
   "execution_count": 42,
   "metadata": {
    "colab": {
     "base_uri": "https://localhost:8080/",
     "height": 314
    },
    "id": "OMeuLx4PVQdw",
    "outputId": "330eb103-2cbf-48a9-e684-31a10c9c41f7"
   },
   "outputs": [
    {
     "name": "stdout",
     "output_type": "stream",
     "text": [
      "multiclass accuracy for 9-NN on test set= 0.6153846153846154\n"
     ]
    },
    {
     "data": {
      "text/plain": [
       "<matplotlib.axes._subplots.AxesSubplot at 0x7fc28aea33c8>"
      ]
     },
     "execution_count": 42,
     "metadata": {
      "tags": []
     },
     "output_type": "execute_result"
    },
    {
     "data": {
      "image/png": "[encoded data removed]",
      "text/plain": [
       "<Figure size 432x288 with 2 Axes>"
      ]
     },
     "metadata": {
      "needs_background": "light",
      "tags": []
     },
     "output_type": "display_data"
    }
   ],
   "source": [
    "#k=9\n",
    "\n",
    "knn = KNeighborsClassifier(n_neighbors=9) \n",
    "#fit with optimum k to training data\n",
    "knn.fit(X_train_norm, y_train) \n",
    "\n",
    "y_pred_test = knn.predict(X_test_norm)\n",
    "\n",
    "print('multiclass accuracy for 9-NN on test set=', metrics.accuracy_score(y_test, y_pred_test))\n",
    "\n",
    "#map predictions on heat map\n",
    "confusion_matrix = pd.crosstab(y_test, y_pred_test, rownames=['Actual'], colnames=['Predicted'])\n",
    "sns.heatmap(confusion_matrix, annot=True)"
   ]
  },
  {
   "cell_type": "code",
   "execution_count": 43,
   "metadata": {
    "id": "Zx8cLqCbGXJk"
   },
   "outputs": [],
   "source": [
    "def select_n_best_feature(X, y, n):\n",
    "    # Normalize X values to be between 0 and 1\n",
    "    x = X.values\n",
    "    min_max_scaler = preprocessing.MinMaxScaler()\n",
    "    x_scaled = min_max_scaler.fit_transform(x)\n",
    "    X = pd.DataFrame(x_scaled)\n",
    "\n",
    "    # Use SelectKBest class to extract top n best features\n",
    "    bestfeatures = SelectKBest(score_func=chi2, k=n)\n",
    "    fit = bestfeatures.fit(X,y)\n",
    "    dfscores = pd.DataFrame(fit.scores_)\n",
    "    dfcolumns = pd.DataFrame(X.columns)\n",
    "\n",
    "    # Concat two dataframes for better visualization and print best features\n",
    "    featureScores = pd.concat([dfcolumns,dfscores],axis=1)\n",
    "    featureScores.columns = ['Feature_index','Score']\n",
    "    #print(featureScores.nlargest(n,'Score'))\n",
    "\n",
    "    # Filter X. Leave only top n features\n",
    "    #X = bestfeatures.fit_transform(X, y)\n",
    "    \n",
    "    # Return X\n",
    "    #return X\n",
    "    return bestfeatures"
   ]
  },
  {
   "cell_type": "code",
   "execution_count": 48,
   "metadata": {
    "colab": {
     "base_uri": "https://localhost:8080/",
     "height": 282
    },
    "id": "RDYWOa27ZZwl",
    "outputId": "3b853763-74ba-4b72-f1d5-c0dcea6a13b3"
   },
   "outputs": [
    {
     "name": "stdout",
     "output_type": "stream",
     "text": [
      "highest accuracy on validation at  0.6538461538461539\n"
     ]
    },
    {
     "data": {
      "image/png": "[encoded data removed]",
      "text/plain": [
       "<Figure size 432x288 with 1 Axes>"
      ]
     },
     "metadata": {
      "needs_background": "light",
      "tags": []
     },
     "output_type": "display_data"
    }
   ],
   "source": [
    "#feature selection \n",
    "\n",
    "#select optimum number of features on validation set\n",
    "acc_rate = np.zeros(100)\n",
    "\n",
    "for i in range(1,100): \n",
    "    bestFeaturesFilter = select_n_best_feature(X_train, y_train, i)\n",
    "    X_train_filter = bestFeaturesFilter.fit_transform(X_train_norm, y_train)\n",
    "    X_val_filter = bestFeaturesFilter.fit_transform(X_val_norm, y_val)\n",
    "#    X_test_filter = bestFeaturesFilter.fit_transform(X_test_norm, y_test_bin) \n",
    "    \n",
    "    knn = KNeighborsClassifier(n_neighbors=9) \n",
    "    #fit with optimum k to training data\n",
    "    knn.fit(X_train_filter, y_train) \n",
    "    y_pred_val = knn.predict(X_val_filter)\n",
    "\n",
    "#   print('Accuracy on test set: ',metrics.accuracy_score(y_test_bin, y_pred_test))\n",
    "    acc_rate[i] = metrics.accuracy_score(y_val, y_pred_val)\n",
    "#    print('Accuracy on train set: ',metrics.accuracy_score(y_train_bin, y_pred_train))\n",
    "#    print('for  k = %i' %i, acc_rate[i])\n",
    "\n",
    "\n",
    "\n",
    "f, ax = plt.subplots(1)\n",
    "plt.plot(acc_rate,color=\"red\")\n",
    "ax.set_xlim(1, 100)\n",
    "\n",
    "\n",
    "max_value = max(acc_rate)\n",
    "\n",
    "print('highest accuracy on validation at ', max_value)\n"
   ]
  },
  {
   "cell_type": "code",
   "execution_count": 59,
   "metadata": {
    "colab": {
     "base_uri": "https://localhost:8080/"
    },
    "id": "51Xn3b7oGYPM",
    "outputId": "1e601c8e-cd16-486e-ed9a-618d518d5fe8"
   },
   "outputs": [
    {
     "name": "stdout",
     "output_type": "stream",
     "text": [
      "Accuracy on train set:  0.6558441558441559\n",
      "Accuracy on validation set:  0.6538461538461539\n",
      "Accuracy on test set:  0.4423076923076923\n"
     ]
    }
   ],
   "source": [
    "#98 features\n",
    "bestFeaturesFilter = select_n_best_feature(X_train, y_train, 98)\n",
    "X_train_filter = bestFeaturesFilter.fit_transform(X_train_norm, y_train)\n",
    "X_val_filter = bestFeaturesFilter.fit_transform(X_val_norm, y_val)\n",
    "X_test_filter = bestFeaturesFilter.fit_transform(X_test_norm, y_test) \n",
    "\n",
    "knn = KNeighborsClassifier(n_neighbors=9) \n",
    "\n",
    "#fit with optimum k to training data\n",
    "knn.fit(X_train_filter, y_train) \n",
    "y_pred_val = knn.predict(X_val_filter)\n",
    "y_pred_test = knn.predict(X_test_filter)\n",
    "y_pred_train = knn.predict(X_train_filter)\n",
    "\n",
    "#compare all metrics\n",
    "print('Accuracy on train set: ',metrics.accuracy_score(y_train, y_pred_train))\n",
    "print('Accuracy on validation set: ',metrics.accuracy_score(y_val, y_pred_val))\n",
    "print('Accuracy on test set: ',metrics.accuracy_score(y_test, y_pred_test))\n",
    "\n"
   ]
  },
  {
   "cell_type": "code",
   "execution_count": 46,
   "metadata": {
    "colab": {
     "base_uri": "https://localhost:8080/",
     "height": 297
    },
    "id": "TBZoDeCQHRg3",
    "outputId": "f4080598-355f-42f1-ac91-9fd62f778c22"
   },
   "outputs": [
    {
     "data": {
      "text/plain": [
       "<matplotlib.axes._subplots.AxesSubplot at 0x7fc28dd0cc88>"
      ]
     },
     "execution_count": 46,
     "metadata": {
      "tags": []
     },
     "output_type": "execute_result"
    },
    {
     "data": {
      "image/png": "[encoded data removed]",
      "text/plain": [
       "<Figure size 432x288 with 2 Axes>"
      ]
     },
     "metadata": {
      "needs_background": "light",
      "tags": []
     },
     "output_type": "display_data"
    }
   ],
   "source": [
    "confusion_matrix = pd.crosstab(y_test, y_pred_test, rownames=['Actual'], colnames=['Predicted'])\n",
    "sns.heatmap(confusion_matrix, annot=True)"
   ]
  },
  {
   "cell_type": "code",
   "execution_count": 25,
   "metadata": {
    "id": "bsLQVmaxICyJ"
   },
   "outputs": [],
   "source": []
  }
 ],
 "metadata": {
  "colab": {
   "collapsed_sections": [],
   "name": "KNN.ipynb",
   "provenance": []
  },
  "kernelspec": {
   "display_name": "Python 3",
   "language": "python",
   "name": "python3"
  },
  "language_info": {
   "codemirror_mode": {
    "name": "ipython",
    "version": 3
   },
   "file_extension": ".py",
   "mimetype": "text/x-python",
   "name": "python",
   "nbconvert_exporter": "python",
   "pygments_lexer": "ipython3",
   "version": "3.8.3"
  }
 },
 "nbformat": 4,
 "nbformat_minor": 1
}
