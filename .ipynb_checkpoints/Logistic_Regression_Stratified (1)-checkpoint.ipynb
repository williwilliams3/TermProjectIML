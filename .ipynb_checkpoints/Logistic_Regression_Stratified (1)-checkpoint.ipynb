{
 "cells": [
  {
   "cell_type": "code",
   "execution_count": null,
   "metadata": {
    "id": "ihnOrOMu8Uv2"
   },
   "outputs": [],
   "source": [
    "import numpy as np\n",
    "import pandas as pd\n",
    "from scipy import linalg\n",
    "from sklearn import metrics\n",
    "import matplotlib.pyplot as plt\n",
    "import matplotlib.patches as mpatches\n",
    "import pandas as pd\n",
    "import numpy as np\n",
    "import seaborn as sns\n",
    "from sklearn import preprocessing \n",
    "from sklearn.feature_selection import chi2, SelectKBest\n",
    "from sklearn.metrics import accuracy_score, confusion_matrix\n",
    "from matplotlib.pyplot import figure\n",
    "import pandas as pd\n",
    "import numpy as np\n",
    "from sklearn.model_selection import train_test_split\n",
    "from sklearn.linear_model import LogisticRegression"
   ]
  },
  {
   "cell_type": "code",
   "execution_count": null,
   "metadata": {
    "id": "czk2qIaHMKMW"
   },
   "outputs": [],
   "source": [
    "\n",
    "def data_cleaner(df):\n",
    "    data = df.copy()\n",
    "    #remove the id, partlybad columns\n",
    "    data.drop([\"id\",\"partlybad\"],1,inplace=True)\n",
    "    #set new index using the date column\n",
    "    data.set_index([\"date\"],inplace=True)\n",
    "    #add binary 'class2' col for event/non-event\n",
    "    data[\"class2\"] = np.where(data[\"class4\"] == \"nonevent\", \"nonevent\",\"event\")\n",
    "    #arrange to put class2 col at the front\n",
    "    cols = ['class2'] + [col for col in data if col != 'class2']\n",
    "    data = data[cols]\n",
    "    return data\n",
    "\n",
    "##### New way to generate the data\n",
    "def normalize_0to1(df):\n",
    "    # create a scaler object\n",
    "    scaler = preprocessing.MinMaxScaler()\n",
    "    # fit and transform the data\n",
    "    df_norm = pd.DataFrame(scaler.fit_transform(df), columns=df.columns)\n",
    "    # Return result\n",
    "    return df_norm\n",
    "\n",
    "def data_generator(df):\n",
    "    '''\n",
    "    input:\n",
    "        df: dataframe to split stratified by variable class\n",
    "        class: string with variable to use as response and as variable to stratify by\n",
    "    output:\n",
    "        X_train, y_train: variables and response 60% data \n",
    "        X_val, y_val: variables and response 20% data \n",
    "        X_trainval, y_trainval: variables and response 80% data (for cross validation)\n",
    "        X_test, y_test: variables and response 20% data \n",
    "    '''\n",
    "    \n",
    "    X = df.drop([\"class2\",\"class4\"], axis=1)\n",
    "    X = normalize_0to1(X) \n",
    "    y = df['class4']\n",
    "    \n",
    "    # 60%, 20%, 20%\n",
    "    # Generate TrainVal 80% and test 20% \n",
    "    X_trainval, X_test, y_trainval, y_test = train_test_split( X, y, test_size=0.20, random_state=42, stratify=y)\n",
    "    \n",
    "    # Furthermore split train into Train and Val\n",
    "    X_train, X_val, y_train, y_val= train_test_split( X_trainval, y_trainval, test_size=0.25, random_state=42, stratify=y_trainval)\n",
    "    \n",
    "    return X_train, X_val, X_trainval, X_test, y_train, y_val, y_trainval, y_test\n",
    "\n",
    "def convert_binary(y):\n",
    "    '''\n",
    "    Parameters\n",
    "    ----------\n",
    "    y : repsonse variable with 4 classes\n",
    "    Returns\n",
    "    -------\n",
    "    y : reponse variable 2 classes\n",
    "    '''\n",
    "    y_bin = np.where(y == \"nonevent\", \"nonevent\",\"event\")\n",
    "    return y_bin\n",
    "\n",
    "url = \"https://raw.githubusercontent.com/williwilliams3/TermProjectIML/master/data/train.csv\"\n",
    "df = pd.read_csv(url)\n",
    "df = data_cleaner(df)\n",
    "\n",
    "X_train, X_val, X_trainval, X_test, y_train, y_val, y_trainval, y_test = data_generator(df)\n",
    "\n",
    "# If needed conversion from 4 classes to binary classes\n",
    "y_train_bin = convert_binary(y_train)\n",
    "y_val_bin = convert_binary(y_val)\n",
    "y_trainval_bin = convert_binary(y_trainval)\n",
    "y_test_bin = convert_binary(y_test)\n"
   ]
  },
  {
   "cell_type": "code",
   "execution_count": null,
   "metadata": {
    "id": "lbwZBf9e7sqW"
   },
   "outputs": [],
   "source": [
    "def select_n_best_feature(X, y, n):\n",
    "    # Normalize X values to be between 0 and 1\n",
    "    x = X.values\n",
    "    min_max_scaler = preprocessing.MinMaxScaler()\n",
    "    x_scaled = min_max_scaler.fit_transform(x)\n",
    "    X = pd.DataFrame(x_scaled)\n",
    "\n",
    "    # Use SelectKBest class to extract top n best features\n",
    "    bestfeatures = SelectKBest(score_func=chi2, k=n)\n",
    "    fit = bestfeatures.fit(X,y)\n",
    "    dfscores = pd.DataFrame(fit.scores_)\n",
    "    dfcolumns = pd.DataFrame(X.columns)\n",
    "\n",
    "    # Concat two dataframes for better visualization and print best features\n",
    "    featureScores = pd.concat([dfcolumns,dfscores],axis=1)\n",
    "    featureScores.columns = ['Feature_index','Score']\n",
    "    #print(featureScores.nlargest(n,'Score'))\n",
    "\n",
    "    # Filter X. Leave only top n features\n",
    "    #X = bestfeatures.fit_transform(X, y)\n",
    "    \n",
    "    # Return X\n",
    "    #return X\n",
    "    return bestfeatures"
   ]
  },
  {
   "cell_type": "code",
   "execution_count": null,
   "metadata": {
    "colab": {
     "base_uri": "https://localhost:8080/",
     "height": 336
    },
    "id": "CL3_NQH6OxuY",
    "outputId": "e3251dff-8632-4730-ab25-6641fd1d4fcb"
   },
   "outputs": [
    {
     "name": "stdout",
     "output_type": "stream",
     "text": [
      "Accuracy on train set:  0.8636363636363636\n",
      "Accuracy on validation set:  0.8461538461538461\n",
      "Accuracy on test set:  0.8461538461538461\n"
     ]
    },
    {
     "data": {
      "image/png": "[encoded data removed]",
      "text/plain": [
       "<Figure size 432x288 with 2 Axes>"
      ]
     },
     "metadata": {
      "needs_background": "light",
      "tags": []
     },
     "output_type": "display_data"
    }
   ],
   "source": [
    "#binary classifier with logistic regression\n",
    "logistic_regression= LogisticRegression()\n",
    "logistic_regression.fit(X_train,y_train_bin)\n",
    "y_pred_test = logistic_regression.predict(X_test)\n",
    "y_pred_train = logistic_regression.predict(X_train)\n",
    "y_pred_val = logistic_regression.predict(X_val)\n",
    "\n",
    "confusion_matrix = pd.crosstab(y_test_bin, y_pred_test, rownames=['Actual'], colnames=['Predicted'])\n",
    "sns.heatmap(confusion_matrix, annot=True)\n",
    "\n",
    "print('Accuracy on train set: ',metrics.accuracy_score(y_train_bin, y_pred_train))\n",
    "print('Accuracy on validation set: ',metrics.accuracy_score(y_val_bin, y_pred_val))\n",
    "print('Accuracy on test set: ',metrics.accuracy_score(y_test_bin, y_pred_test))\n",
    "\n",
    "bin_train_val = np.c_[X_trainval.index,logistic_regression.predict_proba(X_trainval)]\n",
    "bin_test = np.c_[X_test.index,logistic_regression.predict_proba(X_test)]\n",
    "\n",
    "\n",
    "from numpy import savetxt\n",
    "#savetxt('bin_trainval_logReg.csv', bin_train_val, delimiter=',')\n",
    "#savetxt('bin_test_logReg.csv', bin_test, delimiter=',')\n",
    "\n",
    "from google.colab import files\n",
    "#files.download(\"bin_trainval_logReg.csv\")\n",
    "#files.download(\"bin_test_logReg.csv\")"
   ]
  },
  {
   "cell_type": "code",
   "execution_count": null,
   "metadata": {
    "id": "DVJVvm67GmbI"
   },
   "outputs": [],
   "source": []
  },
  {
   "cell_type": "code",
   "execution_count": null,
   "metadata": {
    "colab": {
     "base_uri": "https://localhost:8080/",
     "height": 313
    },
    "id": "Q8cNPDQxPPsE",
    "outputId": "5ca15809-3c91-4f93-d1ed-4a8985042487"
   },
   "outputs": [
    {
     "data": {
      "text/plain": [
       "Text(0.5, 0, 'Linear Response')"
      ]
     },
     "execution_count": 40,
     "metadata": {
      "tags": []
     },
     "output_type": "execute_result"
    },
    {
     "data": {
      "image/png": "[encoded data removed]",
      "text/plain": [
       "<Figure size 432x288 with 1 Axes>"
      ]
     },
     "metadata": {
      "needs_background": "light",
      "tags": []
     },
     "output_type": "display_data"
    }
   ],
   "source": [
    "#Linear Reponse of test set\n",
    "\n",
    "#extract coefs\n",
    "betas = logistic_regression.coef_\n",
    "beta_interr = logistic_regression.intercept_\n",
    "#find linear responses for training set\n",
    "beta_t_x =  X_test @ betas.T + beta_interr\n",
    "\n",
    "#figures for linear response\n",
    "fig = plt.figure()\n",
    "plt.scatter(beta_t_x,y_test_bin)\n",
    "plt.title(\"Linear Response on Test Set\")\n",
    "plt.ylabel(\"nonEvent =1, Event =0\")\n",
    "plt.xlabel(\"Linear Response\")\n"
   ]
  },
  {
   "cell_type": "markdown",
   "metadata": {
    "id": "Y8mRAi1CvaEW"
   },
   "source": [
    "##Reducing Features\n",
    "\n",
    "-selecting the best features"
   ]
  },
  {
   "cell_type": "code",
   "execution_count": null,
   "metadata": {
    "id": "KrTuTS4khJth"
   },
   "outputs": [],
   "source": [
    "def find_n_best_feature(X, y, n):\n",
    "    '''\n",
    "    input:\n",
    "        X:\n",
    "        y:\n",
    "        n:\n",
    "    output:\n",
    "     cols:\n",
    "    '''\n",
    "    bestfeatures = SelectKBest(score_func=chi2, k=n)\n",
    "    fit = bestfeatures.fit(X_train, y_train)\n",
    "    dfscores = pd.DataFrame(fit.scores_)\n",
    "    dfcolumns = pd.DataFrame(X_train.columns)\n",
    "    featureScores = pd.concat([dfcolumns,dfscores],axis=1)\n",
    "    featureScores.columns = ['col_name','Score']\n",
    "    featureScores= featureScores.nlargest(n,'Score')\n",
    "    cols = list(featureScores[\"col_name\"])\n",
    "    return cols"
   ]
  },
  {
   "cell_type": "code",
   "execution_count": null,
   "metadata": {
    "colab": {
     "base_uri": "https://localhost:8080/",
     "height": 282
    },
    "id": "Z_n178CE_Jxl",
    "outputId": "8e8c8219-0220-49ff-fd49-5386abe91fdb"
   },
   "outputs": [
    {
     "data": {
      "text/plain": [
       "(1.0, 100.0)"
      ]
     },
     "execution_count": 42,
     "metadata": {
      "tags": []
     },
     "output_type": "execute_result"
    },
    {
     "data": {
      "image/png": "[encoded data removed]",
      "text/plain": [
       "<Figure size 432x288 with 1 Axes>"
      ]
     },
     "metadata": {
      "needs_background": "light",
      "tags": []
     },
     "output_type": "display_data"
    }
   ],
   "source": [
    "#select optimum number of features on validation set\n",
    "train_acc_rate = np.zeros(100)\n",
    "val_acc_rate = np.zeros(100)\n",
    "test_acc_rate = np.zeros(100)\n",
    "\n",
    "for i in range(1,100): \n",
    "    bestFeatureCols = find_n_best_feature(X_train, y_train, i)\n",
    "    #bestFeaturesFilter = select_n_best_feature(X_train, y_train, i)\n",
    "    X_train_filter = X_train[bestFeatureCols]\n",
    "    X_val_filter = X_val[bestFeatureCols]\n",
    "    X_test_filter = X_test[bestFeatureCols]\n",
    "        \n",
    "    \n",
    "    #binary classifier with logistic regression\n",
    "    logistic_regression= LogisticRegression()\n",
    "    logistic_regression.fit(X_train_filter,y_train_bin)\n",
    "    y_pred_train = logistic_regression.predict(X_train_filter)\n",
    "    y_pred_val = logistic_regression.predict(X_val_filter)\n",
    "    y_pred_test = logistic_regression.predict(X_test_filter)\n",
    "\n",
    "    test_acc_rate[i] = metrics.accuracy_score(y_test_bin, y_pred_test)\n",
    "    val_acc_rate[i] = metrics.accuracy_score(y_val_bin, y_pred_val)\n",
    "    train_acc_rate[i] = metrics.accuracy_score(y_train_bin, y_pred_train)\n",
    "\n",
    "\n",
    "f, ax = plt.subplots(1)\n",
    "plt.plot(train_acc_rate,color=\"red\")\n",
    "plt.plot(val_acc_rate,color=\"blue\")\n",
    "plt.plot(test_acc_rate,color=\"yellow\")\n",
    "\n",
    "ax.set_xlim(1, 100)\n",
    "\n",
    "\n"
   ]
  },
  {
   "cell_type": "code",
   "execution_count": null,
   "metadata": {
    "colab": {
     "base_uri": "https://localhost:8080/",
     "height": 336
    },
    "id": "3vo8R1Ve8Y6M",
    "outputId": "65c7435e-b0c6-44ab-ce1a-62d71c84e492"
   },
   "outputs": [
    {
     "name": "stdout",
     "output_type": "stream",
     "text": [
      "Accuracy on train set:  0.8636363636363636\n",
      "Accuracy on validation set:  0.8653846153846154\n",
      "Accuracy on test set:  0.8461538461538461\n"
     ]
    },
    {
     "data": {
      "image/png": "[encoded data removed]",
      "text/plain": [
       "<Figure size 432x288 with 2 Axes>"
      ]
     },
     "metadata": {
      "needs_background": "light",
      "tags": []
     },
     "output_type": "display_data"
    }
   ],
   "source": [
    "#rerun logistic regression with top features only\n",
    "bestFeatureCols = find_n_best_feature(X_train, y_train, 70)\n",
    "\n",
    "#filter normalised data for each\n",
    "X_train_filter = X_train[bestFeatureCols]\n",
    "X_val_filter = X_val[bestFeatureCols]\n",
    "X_test_filter = X_test[bestFeatureCols] \n",
    "\n",
    "#binary classifier with logistic regression\n",
    "logistic_regression= LogisticRegression()\n",
    "logistic_regression.fit(X_train_filter,y_train_bin)\n",
    "y_pred_train = logistic_regression.predict(X_train_filter)\n",
    "y_pred_val = logistic_regression.predict(X_val_filter)\n",
    "y_pred_test = logistic_regression.predict(X_test_filter)\n",
    "\n",
    "confusion_matrix = pd.crosstab(y_test_bin, y_pred_test, rownames=['Actual'], colnames=['Predicted'])\n",
    "sns.heatmap(confusion_matrix, annot=True)\n",
    "\n",
    "\n",
    "print('Accuracy on train set: ',metrics.accuracy_score(y_train_bin, y_pred_train))\n",
    "print('Accuracy on validation set: ',metrics.accuracy_score(y_val_bin, y_pred_val))\n",
    "print('Accuracy on test set: ',metrics.accuracy_score(y_test_bin, y_pred_test))"
   ]
  },
  {
   "cell_type": "code",
   "execution_count": null,
   "metadata": {
    "colab": {
     "base_uri": "https://localhost:8080/",
     "height": 473
    },
    "id": "sKzy-o2a9lYt",
    "outputId": "2a53e77f-43a1-43cf-d1f8-bdfeabc89be4"
   },
   "outputs": [
    {
     "name": "stdout",
     "output_type": "stream",
     "text": [
      "Accuracy on train set:  0.7207792207792207\n",
      "Accuracy on validation set:  0.5384615384615384\n",
      "Accuracy on test set:  0.6538461538461539\n"
     ]
    },
    {
     "name": "stderr",
     "output_type": "stream",
     "text": [
      "/usr/local/lib/python3.6/dist-packages/sklearn/linear_model/_logistic.py:940: ConvergenceWarning: lbfgs failed to converge (status=1):\n",
      "STOP: TOTAL NO. of ITERATIONS REACHED LIMIT.\n",
      "\n",
      "Increase the number of iterations (max_iter) or scale the data as shown in:\n",
      "    https://scikit-learn.org/stable/modules/preprocessing.html\n",
      "Please also refer to the documentation for alternative solver options:\n",
      "    https://scikit-learn.org/stable/modules/linear_model.html#logistic-regression\n",
      "  extra_warning_msg=_LOGISTIC_SOLVER_CONVERGENCE_MSG)\n"
     ]
    },
    {
     "data": {
      "application/javascript": [
       "\n",
       "    async function download(id, filename, size) {\n",
       "      if (!google.colab.kernel.accessAllowed) {\n",
       "        return;\n",
       "      }\n",
       "      const div = document.createElement('div');\n",
       "      const label = document.createElement('label');\n",
       "      label.textContent = `Downloading \"${filename}\": `;\n",
       "      div.appendChild(label);\n",
       "      const progress = document.createElement('progress');\n",
       "      progress.max = size;\n",
       "      div.appendChild(progress);\n",
       "      document.body.appendChild(div);\n",
       "\n",
       "      const buffers = [];\n",
       "      let downloaded = 0;\n",
       "\n",
       "      const channel = await google.colab.kernel.comms.open(id);\n",
       "      // Send a message to notify the kernel that we're ready.\n",
       "      channel.send({})\n",
       "\n",
       "      for await (const message of channel.messages) {\n",
       "        // Send a message to notify the kernel that we're ready.\n",
       "        channel.send({})\n",
       "        if (message.buffers) {\n",
       "          for (const buffer of message.buffers) {\n",
       "            buffers.push(buffer);\n",
       "            downloaded += buffer.byteLength;\n",
       "            progress.value = downloaded;\n",
       "          }\n",
       "        }\n",
       "      }\n",
       "      const blob = new Blob(buffers, {type: 'application/binary'});\n",
       "      const a = document.createElement('a');\n",
       "      a.href = window.URL.createObjectURL(blob);\n",
       "      a.download = filename;\n",
       "      div.appendChild(a);\n",
       "      a.click();\n",
       "      div.remove();\n",
       "    }\n",
       "  "
      ],
      "text/plain": [
       "<IPython.core.display.Javascript object>"
      ]
     },
     "metadata": {
      "tags": []
     },
     "output_type": "display_data"
    },
    {
     "data": {
      "application/javascript": [
       "download(\"download_2ae039bd-88fa-42f1-b229-1012199baa12\", \"multi_trainval_logReg.csv\", 25750)"
      ],
      "text/plain": [
       "<IPython.core.display.Javascript object>"
      ]
     },
     "metadata": {
      "tags": []
     },
     "output_type": "display_data"
    },
    {
     "data": {
      "application/javascript": [
       "\n",
       "    async function download(id, filename, size) {\n",
       "      if (!google.colab.kernel.accessAllowed) {\n",
       "        return;\n",
       "      }\n",
       "      const div = document.createElement('div');\n",
       "      const label = document.createElement('label');\n",
       "      label.textContent = `Downloading \"${filename}\": `;\n",
       "      div.appendChild(label);\n",
       "      const progress = document.createElement('progress');\n",
       "      progress.max = size;\n",
       "      div.appendChild(progress);\n",
       "      document.body.appendChild(div);\n",
       "\n",
       "      const buffers = [];\n",
       "      let downloaded = 0;\n",
       "\n",
       "      const channel = await google.colab.kernel.comms.open(id);\n",
       "      // Send a message to notify the kernel that we're ready.\n",
       "      channel.send({})\n",
       "\n",
       "      for await (const message of channel.messages) {\n",
       "        // Send a message to notify the kernel that we're ready.\n",
       "        channel.send({})\n",
       "        if (message.buffers) {\n",
       "          for (const buffer of message.buffers) {\n",
       "            buffers.push(buffer);\n",
       "            downloaded += buffer.byteLength;\n",
       "            progress.value = downloaded;\n",
       "          }\n",
       "        }\n",
       "      }\n",
       "      const blob = new Blob(buffers, {type: 'application/binary'});\n",
       "      const a = document.createElement('a');\n",
       "      a.href = window.URL.createObjectURL(blob);\n",
       "      a.download = filename;\n",
       "      div.appendChild(a);\n",
       "      a.click();\n",
       "      div.remove();\n",
       "    }\n",
       "  "
      ],
      "text/plain": [
       "<IPython.core.display.Javascript object>"
      ]
     },
     "metadata": {
      "tags": []
     },
     "output_type": "display_data"
    },
    {
     "data": {
      "application/javascript": [
       "download(\"download_8069c0f3-af5c-45c4-ac38-e90b71498ec6\", \"multi_test_logReg.csv\", 6500)"
      ],
      "text/plain": [
       "<IPython.core.display.Javascript object>"
      ]
     },
     "metadata": {
      "tags": []
     },
     "output_type": "display_data"
    },
    {
     "data": {
      "image/png": "[encoded data removed]",
      "text/plain": [
       "<Figure size 432x288 with 2 Axes>"
      ]
     },
     "metadata": {
      "needs_background": "light",
      "tags": []
     },
     "output_type": "display_data"
    }
   ],
   "source": [
    "#multi classifier with logistic regression\n",
    "logistic_regression= LogisticRegression()\n",
    "logistic_regression.fit(X_train,y_train)\n",
    "y_pred_train = logistic_regression.predict(X_train)\n",
    "y_pred_val = logistic_regression.predict(X_val)\n",
    "y_pred_test = logistic_regression.predict(X_test)\n",
    "\n",
    "confusion_matrix = pd.crosstab(y_test, y_pred_test, rownames=['Actual'], colnames=['Predicted'])\n",
    "sns.heatmap(confusion_matrix, annot=True)\n",
    "\n",
    "print('Accuracy on train set: ',metrics.accuracy_score(y_train, y_pred_train))\n",
    "print('Accuracy on validation set: ',metrics.accuracy_score(y_val, y_pred_val))\n",
    "print('Accuracy on test set: ',metrics.accuracy_score(y_test, y_pred_test))\n",
    "\n",
    "multi_train_val = np.c_[X_trainval.index,logistic_regression.predict_proba(X_trainval)]\n",
    "multi_test = np.c_[X_test.index,logistic_regression.predict_proba(X_test)]\n",
    "\n",
    "\n",
    "from numpy import savetxt\n",
    "savetxt('multi_trainval_logReg.csv', multi_train_val, delimiter=',')\n",
    "savetxt('multi_test_logReg.csv', multi_test, delimiter=',')\n",
    "\n",
    "from google.colab import files\n",
    "files.download(\"multi_trainval_logReg.csv\")\n",
    "files.download(\"multi_test_logReg.csv\")"
   ]
  },
  {
   "cell_type": "code",
   "execution_count": null,
   "metadata": {
    "id": "mX-3gme-NgFX"
   },
   "outputs": [],
   "source": []
  }
 ],
 "metadata": {
  "colab": {
   "collapsed_sections": [
    "zNFXOSBS4ap1"
   ],
   "name": "Logistic Regression Stratified.ipynb",
   "provenance": []
  },
  "kernelspec": {
   "display_name": "Python 3",
   "language": "python",
   "name": "python3"
  },
  "language_info": {
   "codemirror_mode": {
    "name": "ipython",
    "version": 3
   },
   "file_extension": ".py",
   "mimetype": "text/x-python",
   "name": "python",
   "nbconvert_exporter": "python",
   "pygments_lexer": "ipython3",
   "version": "3.8.5"
  }
 },
 "nbformat": 4,
 "nbformat_minor": 1
}
