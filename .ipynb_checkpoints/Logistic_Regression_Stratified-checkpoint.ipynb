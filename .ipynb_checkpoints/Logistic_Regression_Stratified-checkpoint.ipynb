{
 "cells": [
  {
   "cell_type": "code",
   "execution_count": 8,
   "metadata": {
    "id": "ihnOrOMu8Uv2"
   },
   "outputs": [],
   "source": [
    "import numpy as np\n",
    "import pandas as pd\n",
    "from scipy import linalg\n",
    "from sklearn.manifold import TSNE\n",
    "import matplotlib.pyplot as plt\n",
    "import matplotlib.patches as mpatches\n",
    "import pandas as pd\n",
    "import numpy as np\n",
    "import seaborn as sns\n",
    "from sklearn import preprocessing \n",
    "from sklearn.feature_selection import chi2, SelectKBest\n",
    "from sklearn.naive_bayes import GaussianNB, ComplementNB, MultinomialNB, BernoulliNB, CategoricalNB\n",
    "from sklearn.metrics import accuracy_score, confusion_matrix\n",
    "from matplotlib.pyplot import figure"
   ]
  },
  {
   "cell_type": "code",
   "execution_count": 19,
   "metadata": {
    "id": "czk2qIaHMKMW"
   },
   "outputs": [],
   "source": [
    "import pandas as pd\n",
    "import numpy as np\n",
    "from sklearn.model_selection import train_test_split\n",
    "\n",
    "def data_cleaner(df):\n",
    "    data = df.copy()\n",
    "    #remove the id, partlybad columns\n",
    "    data.drop([\"id\",\"partlybad\"],1,inplace=True)\n",
    "    #set new index using the date column\n",
    "    data.set_index([\"date\"],inplace=True)\n",
    "    #add binary 'class2' col for event/non-event\n",
    "    data[\"class2\"] = np.where(data[\"class4\"] == \"nonevent\", \"nonevent\",\"event\")\n",
    "    #arrange to put class2 col at the front\n",
    "    cols = ['class2'] + [col for col in data if col != 'class2']\n",
    "    data = data[cols]\n",
    "    return data\n",
    "\n",
    "##### New way to generate the data\n",
    "\n",
    "def data_generator(df):\n",
    "    '''\n",
    "    input:\n",
    "        df: dataframe to split stratified by variable class\n",
    "        class: string with variable to use as response and as variable to stratify by\n",
    "    output:\n",
    "        X_train, y_train: variables and response 60% data \n",
    "        X_val, y_val: variables and response 20% data \n",
    "        X_trainval, y_trainval: variables and response 80% data (for cross validation)\n",
    "        X_test, y_test: variables and response 20% data \n",
    "    '''\n",
    "    \n",
    "    X = df.drop([\"class2\",\"class4\"], axis=1)\n",
    "    y = df['class4']\n",
    "    \n",
    "    # 60%, 20%, 20%\n",
    "    # Generate TrainVal 80% and test 20% \n",
    "    X_trainval, X_test, y_trainval, y_test = train_test_split( X, y, test_size=0.20, random_state=42, stratify=y)\n",
    "    \n",
    "    # Furthermore split train into Train and Val\n",
    "    X_train, X_val, y_train, y_val= train_test_split( X_trainval, y_trainval, test_size=0.25, random_state=42, stratify=y_trainval)\n",
    "    \n",
    "    return X_train, X_val, X_trainval, X_test, y_train, y_val, y_trainval, y_test\n",
    "\n",
    "def convert_binary(y):\n",
    "    '''\n",
    "    Parameters\n",
    "    ----------\n",
    "    y : repsonse variable with 4 classes\n",
    "    Returns\n",
    "    -------\n",
    "    y : reponse variable 2 classes\n",
    "    '''\n",
    "    y_bin = np.where(y == \"nonevent\", \"nonevent\",\"event\")\n",
    "    return y_bin\n",
    "\n",
    "url = \"https://raw.githubusercontent.com/williwilliams3/TermProjectIML/master/data/train.csv\"\n",
    "df = pd.read_csv(url)\n",
    "df = data_cleaner(df)\n",
    "\n",
    "X_train, X_val, X_trainval, X_test, y_train, y_val, y_trainval, y_test = data_generator(df)\n",
    "\n",
    "# If needed conversion from 4 classes to binary classes\n",
    "y_train_bin = convert_binary(y_train)\n",
    "y_val_bin = convert_binary(y_val)\n",
    "y_trainval_bin = convert_binary(y_trainval)\n",
    "y_test_bin = convert_binary(y_test)\n"
   ]
  },
  {
   "cell_type": "code",
   "execution_count": 20,
   "metadata": {
    "id": "lbwZBf9e7sqW"
   },
   "outputs": [],
   "source": [
    "def select_n_best_feature(X, y, n):\n",
    "    # Normalize X values to be between 0 and 1\n",
    "    x = X.values\n",
    "    min_max_scaler = preprocessing.MinMaxScaler()\n",
    "    x_scaled = min_max_scaler.fit_transform(x)\n",
    "    X = pd.DataFrame(x_scaled)\n",
    "\n",
    "    # Use SelectKBest class to extract top n best features\n",
    "    bestfeatures = SelectKBest(score_func=chi2, k=n)\n",
    "    fit = bestfeatures.fit(X,y)\n",
    "    dfscores = pd.DataFrame(fit.scores_)\n",
    "    dfcolumns = pd.DataFrame(X.columns)\n",
    "\n",
    "    # Concat two dataframes for better visualization and print best features\n",
    "    featureScores = pd.concat([dfcolumns,dfscores],axis=1)\n",
    "    featureScores.columns = ['Feature_index','Score']\n",
    "    #print(featureScores.nlargest(n,'Score'))\n",
    "\n",
    "    # Filter X. Leave only top n features\n",
    "    #X = bestfeatures.fit_transform(X, y)\n",
    "    \n",
    "    # Return X\n",
    "    #return X\n",
    "    return bestfeatures"
   ]
  },
  {
   "cell_type": "code",
   "execution_count": 23,
   "metadata": {
    "colab": {
     "base_uri": "https://localhost:8080/",
     "height": 332
    },
    "id": "CL3_NQH6OxuY",
    "outputId": "3960185d-adc4-4be1-a4a2-634205034b7c"
   },
   "outputs": [
    {
     "name": "stdout",
     "output_type": "stream",
     "text": [
      "Accuracy on test set:  0.8653846153846154\n",
      "Accuracy on validation set:  0.8269230769230769\n",
      "Accuracy on train set:  0.8831168831168831\n"
     ]
    },
    {
     "data": {
      "image/png": "[encoded data removed]",
      "text/plain": [
       "<Figure size 432x288 with 2 Axes>"
      ]
     },
     "metadata": {
      "needs_background": "light",
      "tags": []
     },
     "output_type": "display_data"
    }
   ],
   "source": [
    "#logistic regression\n",
    "import seaborn as sns\n",
    "import pandas as pd\n",
    "from sklearn.linear_model import LogisticRegression\n",
    "from sklearn import metrics\n",
    "import matplotlib.pyplot as plt\n",
    "\n",
    "#normalise the X data\n",
    "#normalise 0to1\n",
    "def normalize_0to1(X):\n",
    "    #Normalize X values to be between 0 and 1\n",
    "    x = X.values\n",
    "    min_max_scaler = preprocessing.MinMaxScaler()\n",
    "    x_scaled = min_max_scaler.fit_transform(x)\n",
    "    return pd.DataFrame(x_scaled)\n",
    "\n",
    "X_train_norm = normalize_0to1(X_train)\n",
    "X_val_norm = normalize_0to1(X_val)\n",
    "X_test_norm = normalize_0to1(X_test)\n",
    "\n",
    "#binary classifier with logistic regression\n",
    "logistic_regression= LogisticRegression()\n",
    "logistic_regression.fit(X_train_norm,y_train_bin)\n",
    "y_pred_test = logistic_regression.predict(X_test_norm)\n",
    "y_pred_train = logistic_regression.predict(X_train_norm)\n",
    "y_pred_val = logistic_regression.predict(X_val_norm)\n",
    "\n",
    "confusion_matrix = pd.crosstab(y_test_bin, y_pred_test, rownames=['Actual'], colnames=['Predicted'])\n",
    "sns.heatmap(confusion_matrix, annot=True)\n",
    "\n",
    "print('Accuracy on test set: ',metrics.accuracy_score(y_test_bin, y_pred_test))\n",
    "print('Accuracy on validation set: ',metrics.accuracy_score(y_val_bin, y_pred_val))\n",
    "print('Accuracy on train set: ',metrics.accuracy_score(y_train_bin, y_pred_train))"
   ]
  },
  {
   "cell_type": "code",
   "execution_count": 24,
   "metadata": {
    "colab": {
     "base_uri": "https://localhost:8080/",
     "height": 313
    },
    "id": "Q8cNPDQxPPsE",
    "outputId": "79bd931e-1fc3-4a74-9111-5afe9195bbec"
   },
   "outputs": [
    {
     "data": {
      "text/plain": [
       "Text(0.5, 0, 'Linear Response')"
      ]
     },
     "execution_count": 24,
     "metadata": {
      "tags": []
     },
     "output_type": "execute_result"
    },
    {
     "data": {
      "image/png": "[encoded data removed]",
      "text/plain": [
       "<Figure size 432x288 with 1 Axes>"
      ]
     },
     "metadata": {
      "needs_background": "light",
      "tags": []
     },
     "output_type": "display_data"
    }
   ],
   "source": [
    "#Linear Reponse of test set\n",
    "\n",
    "#extract coefs\n",
    "betas = logistic_regression.coef_\n",
    "beta_interr = logistic_regression.intercept_\n",
    "#find linear responses for training set\n",
    "beta_t_x =  X_test @ betas.T + beta_interr\n",
    "\n",
    "#figures for linear response\n",
    "fig = plt.figure()\n",
    "plt.scatter(beta_t_x,y_test_bin)\n",
    "plt.title(\"Linear Response on Test Set\")\n",
    "plt.ylabel(\"nonEvent =1, Event =0\")\n",
    "plt.xlabel(\"Linear Response\")\n"
   ]
  },
  {
   "cell_type": "code",
   "execution_count": 35,
   "metadata": {
    "id": "QWupYUZy7tmI"
   },
   "outputs": [],
   "source": [
    "#select best features on training data\n",
    "\n",
    "#normalise 0to1\n",
    "def normalize_0to1(X):\n",
    "    # Normalize X values to be between 0 and 1\n",
    "    x = X.values\n",
    "    min_max_scaler = preprocessing.MinMaxScaler()\n",
    "    x_scaled = min_max_scaler.fit_transform(x)\n",
    "    return pd.DataFrame(x_scaled)\n",
    "\n",
    "X_train_norm = normalize_0to1(X_train)\n",
    "X_val_norm = normalize_0to1(X_val)\n",
    "X_test_norm = normalize_0to1(X_test)\n"
   ]
  },
  {
   "cell_type": "code",
   "execution_count": 56,
   "metadata": {
    "colab": {
     "base_uri": "https://localhost:8080/",
     "height": 1000
    },
    "id": "Z_n178CE_Jxl",
    "outputId": "104f152f-b237-42c0-b9ff-f51bfedfa0bc"
   },
   "outputs": [
    {
     "name": "stdout",
     "output_type": "stream",
     "text": [
      "for  k = 1 0.8076923076923077\n",
      "for  k = 2 0.8076923076923077\n",
      "for  k = 3 0.8076923076923077\n",
      "for  k = 4 0.8076923076923077\n",
      "for  k = 5 0.8269230769230769\n",
      "for  k = 6 0.8076923076923077\n",
      "for  k = 7 0.7692307692307693\n",
      "for  k = 8 0.21153846153846154\n",
      "for  k = 9 0.3269230769230769\n",
      "for  k = 10 0.23076923076923078\n",
      "for  k = 11 0.38461538461538464\n",
      "for  k = 12 0.34615384615384615\n",
      "for  k = 13 0.19230769230769232\n",
      "for  k = 14 0.21153846153846154\n",
      "for  k = 15 0.3269230769230769\n",
      "for  k = 16 0.34615384615384615\n",
      "for  k = 17 0.4423076923076923\n",
      "for  k = 18 0.40384615384615385\n",
      "for  k = 19 0.5\n",
      "for  k = 20 0.5\n",
      "for  k = 21 0.3269230769230769\n",
      "for  k = 22 0.3076923076923077\n",
      "for  k = 23 0.3076923076923077\n",
      "for  k = 24 0.2692307692307692\n",
      "for  k = 25 0.28846153846153844\n",
      "for  k = 26 0.2692307692307692\n",
      "for  k = 27 0.8461538461538461\n",
      "for  k = 28 0.8461538461538461\n",
      "for  k = 29 0.8461538461538461\n",
      "for  k = 30 0.46153846153846156\n",
      "for  k = 31 0.46153846153846156\n",
      "for  k = 32 0.8461538461538461\n",
      "for  k = 33 0.40384615384615385\n",
      "for  k = 34 0.8269230769230769\n",
      "for  k = 35 0.8269230769230769\n",
      "for  k = 36 0.8269230769230769\n",
      "for  k = 37 0.3076923076923077\n",
      "for  k = 38 0.28846153846153844\n",
      "for  k = 39 0.28846153846153844\n",
      "for  k = 40 0.3269230769230769\n",
      "for  k = 41 0.3269230769230769\n",
      "for  k = 42 0.3076923076923077\n",
      "for  k = 43 0.3076923076923077\n",
      "for  k = 44 0.25\n",
      "for  k = 45 0.8269230769230769\n",
      "for  k = 46 0.6923076923076923\n",
      "for  k = 47 0.7692307692307693\n",
      "for  k = 48 0.8076923076923077\n",
      "for  k = 49 0.7692307692307693\n",
      "for  k = 50 0.3076923076923077\n",
      "for  k = 51 0.2692307692307692\n",
      "for  k = 52 0.3076923076923077\n",
      "for  k = 53 0.3076923076923077\n",
      "for  k = 54 0.3076923076923077\n",
      "for  k = 55 0.8076923076923077\n",
      "for  k = 56 0.7692307692307693\n",
      "for  k = 57 0.8076923076923077\n",
      "for  k = 58 0.7884615384615384\n",
      "for  k = 59 0.7884615384615384\n",
      "for  k = 60 0.7692307692307693\n",
      "for  k = 61 0.7692307692307693\n",
      "for  k = 62 0.7692307692307693\n",
      "for  k = 63 0.7692307692307693\n",
      "for  k = 64 0.7692307692307693\n",
      "for  k = 65 0.7692307692307693\n",
      "for  k = 66 0.7884615384615384\n",
      "for  k = 67 0.8269230769230769\n",
      "for  k = 68 0.8269230769230769\n",
      "for  k = 69 0.75\n",
      "for  k = 70 0.8461538461538461\n",
      "for  k = 71 0.8269230769230769\n",
      "for  k = 72 0.8461538461538461\n",
      "for  k = 73 0.8461538461538461\n",
      "for  k = 74 0.8461538461538461\n",
      "for  k = 75 0.5\n",
      "for  k = 76 0.5384615384615384\n",
      "for  k = 77 0.5\n",
      "for  k = 78 0.5\n",
      "for  k = 79 0.8269230769230769\n",
      "for  k = 80 0.5\n",
      "for  k = 81 0.8076923076923077\n",
      "for  k = 82 0.5384615384615384\n",
      "for  k = 83 0.4807692307692308\n",
      "for  k = 84 0.4230769230769231\n",
      "for  k = 85 0.7692307692307693\n",
      "for  k = 86 0.7692307692307693\n",
      "for  k = 87 0.40384615384615385\n",
      "for  k = 88 0.40384615384615385\n",
      "for  k = 89 0.7884615384615384\n",
      "for  k = 90 0.75\n",
      "for  k = 91 0.7692307692307693\n",
      "for  k = 92 0.7115384615384616\n",
      "for  k = 93 0.7307692307692307\n",
      "for  k = 94 0.4807692307692308\n",
      "for  k = 95 0.5\n",
      "for  k = 96 0.8269230769230769\n",
      "for  k = 97 0.46153846153846156\n",
      "for  k = 98 0.4807692307692308\n",
      "for  k = 99 0.5192307692307693\n",
      "highest accuracy on validation at  0.8461538461538461\n"
     ]
    },
    {
     "data": {
      "image/png": "[encoded data removed]",
      "text/plain": [
       "<Figure size 432x288 with 1 Axes>"
      ]
     },
     "metadata": {
      "needs_background": "light",
      "tags": []
     },
     "output_type": "display_data"
    }
   ],
   "source": [
    "#select optimum number of features on validation set\n",
    "acc_rate = np.zeros(100)\n",
    "\n",
    "for i in range(1,100): \n",
    "    bestFeaturesFilter = select_n_best_feature(X_train, y_train, i)\n",
    "    X_train_filter = bestFeaturesFilter.fit_transform(X_train_norm, y_train_bin)\n",
    "    X_val_filter = bestFeaturesFilter.fit_transform(X_val_norm, y_val_bin)\n",
    "    X_test_filter = bestFeaturesFilter.fit_transform(X_test_norm, y_test_bin) \n",
    "    \n",
    "    #binary classifier with logistic regression\n",
    "    logistic_regression= LogisticRegression()\n",
    "    logistic_regression.fit(X_train_filter,y_train_bin)\n",
    "#    y_pred_train = logistic_regression.predict(X_train_filter)\n",
    "    y_pred_val = logistic_regression.predict(X_val_filter)\n",
    "#    y_pred_test = logistic_regression.predict(X_test_filter)\n",
    "\n",
    "#    print('Accuracy on test set: ',metrics.accuracy_score(y_test_bin, y_pred_test))\n",
    "    acc_rate[i] = metrics.accuracy_score(y_val_bin, y_pred_val)\n",
    "#    print('Accuracy on train set: ',metrics.accuracy_score(y_train_bin, y_pred_train))\n",
    "    print('for  k = %i' %i, acc_rate[i])\n",
    "\n",
    "\n",
    "plt.plot(acc_rate)\n",
    "\n",
    "\n",
    "max_value = max(acc_rate)\n",
    "\n",
    "print('highest accuracy on validation at ', max_value)\n"
   ]
  },
  {
   "cell_type": "code",
   "execution_count": 59,
   "metadata": {
    "colab": {
     "base_uri": "https://localhost:8080/",
     "height": 332
    },
    "id": "3vo8R1Ve8Y6M",
    "outputId": "bfcef7cc-1166-4b79-ce60-956913a89388"
   },
   "outputs": [
    {
     "name": "stdout",
     "output_type": "stream",
     "text": [
      "Accuracy on test set:  0.7692307692307693\n",
      "Accuracy on validation set:  0.8461538461538461\n",
      "Accuracy on train set:  0.8051948051948052\n"
     ]
    },
    {
     "data": {
      "image/png": "[encoded data removed]",
      "text/plain": [
       "<Figure size 432x288 with 2 Axes>"
      ]
     },
     "metadata": {
      "needs_background": "light",
      "tags": []
     },
     "output_type": "display_data"
    }
   ],
   "source": [
    "#rerun logistic regression with top features only\n",
    "#k=27\n",
    "#k=70\n",
    "bestFeaturesFilter = select_n_best_feature(X_train, y_train, 27)\n",
    "\n",
    "#filter normalised data for each\n",
    "X_train_filter = bestFeaturesFilter.fit_transform(X_train_norm, y_train_bin)\n",
    "X_val_filter = bestFeaturesFilter.fit_transform(X_val_norm, y_val_bin)\n",
    "X_test_filter = bestFeaturesFilter.fit_transform(X_test_norm, y_test_bin) \n",
    "\n",
    "#binary classifier with logistic regression\n",
    "logistic_regression= LogisticRegression()\n",
    "logistic_regression.fit(X_train_filter,y_train_bin)\n",
    "y_pred_train = logistic_regression.predict(X_train_filter)\n",
    "y_pred_val = logistic_regression.predict(X_val_filter)\n",
    "y_pred_test = logistic_regression.predict(X_test_filter)\n",
    "\n",
    "confusion_matrix = pd.crosstab(y_test_bin, y_pred_test, rownames=['Actual'], colnames=['Predicted'])\n",
    "sns.heatmap(confusion_matrix, annot=True)\n",
    "\n",
    "print('Accuracy on test set: ',metrics.accuracy_score(y_test_bin, y_pred_test))\n",
    "print('Accuracy on validation set: ',metrics.accuracy_score(y_val_bin, y_pred_val))\n",
    "print('Accuracy on train set: ',metrics.accuracy_score(y_train_bin, y_pred_train))"
   ]
  },
  {
   "cell_type": "code",
   "execution_count": 64,
   "metadata": {
    "colab": {
     "base_uri": "https://localhost:8080/",
     "height": 332
    },
    "id": "sKzy-o2a9lYt",
    "outputId": "a77ed9f3-4882-44b9-bef9-5117adfb1139"
   },
   "outputs": [
    {
     "name": "stdout",
     "output_type": "stream",
     "text": [
      "Accuracy on train set:  0.6428571428571429\n",
      "Accuracy on validation set:  0.21153846153846154\n",
      "Accuracy on test set:  0.5192307692307693\n"
     ]
    },
    {
     "data": {
      "image/png": "[encoded data removed]",
      "text/plain": [
       "<Figure size 432x288 with 2 Axes>"
      ]
     },
     "metadata": {
      "needs_background": "light",
      "tags": []
     },
     "output_type": "display_data"
    }
   ],
   "source": [
    "#multiclass\n",
    "#rerun logistic regression with top ten features only\n",
    "#features=27\n",
    "bestFeaturesFilter = select_n_best_feature(X_train, y_train, 27)\n",
    "\n",
    "#filter normalised data for each\n",
    "X_train_filter = bestFeaturesFilter.fit_transform(X_train_norm, y_train)\n",
    "X_val_filter = bestFeaturesFilter.fit_transform(X_val_norm, y_val)\n",
    "X_test_filter = bestFeaturesFilter.fit_transform(X_test_norm, y_test) \n",
    "\n",
    "#binary classifier with logistic regression\n",
    "logistic_regression= LogisticRegression()\n",
    "logistic_regression.fit(X_train_filter,y_train)\n",
    "y_pred_train = logistic_regression.predict(X_train_filter)\n",
    "y_pred_val = logistic_regression.predict(X_val_filter)\n",
    "y_pred_test = logistic_regression.predict(X_test_filter)\n",
    "\n",
    "confusion_matrix = pd.crosstab(y_test, y_pred_test, rownames=['Actual'], colnames=['Predicted'])\n",
    "sns.heatmap(confusion_matrix, annot=True)\n",
    "\n",
    "\n",
    "print('Accuracy on train set: ',metrics.accuracy_score(y_train, y_pred_train))\n",
    "print('Accuracy on validation set: ',metrics.accuracy_score(y_val, y_pred_val))\n",
    "print('Accuracy on test set: ',metrics.accuracy_score(y_test, y_pred_test))"
   ]
  }
 ],
 "metadata": {
  "colab": {
   "collapsed_sections": [],
   "name": "Logistic Regression Stratified.ipynb",
   "provenance": []
  },
  "kernelspec": {
   "display_name": "Python 3",
   "language": "python",
   "name": "python3"
  },
  "language_info": {
   "codemirror_mode": {
    "name": "ipython",
    "version": 3
   },
   "file_extension": ".py",
   "mimetype": "text/x-python",
   "name": "python",
   "nbconvert_exporter": "python",
   "pygments_lexer": "ipython3",
   "version": "3.8.5"
  }
 },
 "nbformat": 4,
 "nbformat_minor": 1
}
