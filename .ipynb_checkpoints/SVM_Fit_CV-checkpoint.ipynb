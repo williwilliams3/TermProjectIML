{
 "cells": [
  {
   "cell_type": "markdown",
   "metadata": {},
   "source": [
    "### Support vector machine classifier fitted by cross validation\n",
    "\n",
    " 1. Load clean data into memory, normalize all of variables with z-score method\n",
    " 2. The 4 parameters found through random grid search and then error estimated through cross validation \n",
    "     \n",
    "     - C: \n",
    "     - gamma: \n",
    "     - kernel: \n",
    "     - class_weight: \n",
    "     \n",
    " 3. Measure accuracy over test set and AUC"
   ]
  },
  {
   "cell_type": "code",
   "execution_count": 1,
   "metadata": {},
   "outputs": [
    {
     "name": "stdout",
     "output_type": "stream",
     "text": [
      "Fitting 5 folds for each of 200 candidates, totalling 1000 fits\n"
     ]
    },
    {
     "name": "stderr",
     "output_type": "stream",
     "text": [
      "[Parallel(n_jobs=1)]: Using backend SequentialBackend with 1 concurrent workers.\n",
      "[Parallel(n_jobs=1)]: Done 1000 out of 1000 | elapsed:   20.2s finished\n"
     ]
    }
   ],
   "source": [
    "import numpy as np\n",
    "import pandas as pd\n",
    "import os\n",
    "\n",
    "os.chdir('/Users/bwilliams/GoogleDrive/UniversityOfHelsinki/Fall2020/IML/TeamProject/TermProjectIML/bin')\n",
    "from SplitData import *\n",
    "\n",
    "\n",
    "from sklearn.svm import SVC\n",
    "from sklearn.model_selection import cross_val_score, GridSearchCV, KFold, RandomizedSearchCV, train_test_split\n",
    "\n",
    "from sklearn.utils.fixes import loguniform\n",
    "\n",
    "from sklearn import metrics\n",
    "from sklearn.metrics import plot_confusion_matrix\n",
    "import matplotlib.pyplot as plt\n",
    "\n",
    "params = {'C': loguniform(1e0, 1e3),\n",
    " 'gamma': loguniform(1e-4, 1e-3),\n",
    " 'kernel': ['linear','sigmoid','rbf'],\n",
    " 'class_weight':['balanced', None]}\n",
    "\n",
    "\n",
    "\n",
    "svclassifier = SVC(probability=True)\n",
    "\n",
    "search = RandomizedSearchCV(svclassifier, param_distributions=params, random_state=42, n_iter=200, cv=5, verbose=1, n_jobs=1, return_train_score=True)\n",
    "\n",
    "search.fit(X_trainval_norm, y_trainval_bin)\n",
    "svm_params = search.best_params_"
   ]
  },
  {
   "cell_type": "code",
   "execution_count": 2,
   "metadata": {},
   "outputs": [
    {
     "name": "stdout",
     "output_type": "stream",
     "text": [
      "{'C': 905.6311714376342, 'class_weight': None, 'gamma': 0.00039146841177691076, 'kernel': 'rbf'}\n",
      "Accuracy on Train: 0.9757281553398058\n",
      "5-Fold CV Accuracy:  0.8738675958188153\n",
      "Accuracy on Test: 0.8653846153846154\n"
     ]
    },
    {
     "data": {
      "text/plain": [
       "<sklearn.metrics._plot.confusion_matrix.ConfusionMatrixDisplay at 0x10cc254f0>"
      ]
     },
     "execution_count": 2,
     "metadata": {},
     "output_type": "execute_result"
    },
    {
     "data": {
      "image/png": "[encoded data removed]",
      "text/plain": [
       "<Figure size 432x288 with 2 Axes>"
      ]
     },
     "metadata": {
      "needs_background": "light"
     },
     "output_type": "display_data"
    }
   ],
   "source": [
    "\n",
    "print(search.best_params_)\n",
    "\n",
    "svm_model = search.best_estimator_\n",
    "\n",
    "y_pred_train = svm_model.predict(X_trainval_norm)\n",
    "\n",
    "print(\"Accuracy on Train:\",metrics.accuracy_score(y_trainval_bin, y_pred_train))\n",
    "\n",
    "y_pred = svm_model.predict(X_test_norm)\n",
    "# probabilities of class event\n",
    "y_pred_proba = svm_model.predict_proba(X_test_norm)[:,0]\n",
    "\n",
    "print('5-Fold CV Accuracy: ', search.best_score_)\n",
    "\n",
    "print(\"Accuracy on Test:\",metrics.accuracy_score(y_test_bin, y_pred))\n",
    "\n",
    "\n",
    "plot_confusion_matrix(svm_model, X_test_norm, y_test_bin,\n",
    "                                 cmap=plt.cm.Blues,\n",
    "                                 # normalize='true'\n",
    "                                 )\n"
   ]
  },
  {
   "cell_type": "code",
   "execution_count": 3,
   "metadata": {},
   "outputs": [
    {
     "data": {
      "image/png": "[encoded data removed]",
      "text/plain": [
       "<Figure size 432x288 with 1 Axes>"
      ]
     },
     "metadata": {
      "needs_background": "light"
     },
     "output_type": "display_data"
    }
   ],
   "source": [
    "y_test_01 = pd.get_dummies(y_test_bin)['event']\n",
    "\n",
    "fpr, tpr, thresholds = metrics.roc_curve(y_test_01, y_pred_proba)\n",
    "auc = metrics.auc(fpr, tpr)\n",
    "\n",
    "plt.plot(fpr,tpr , marker='.', label='DT')\n",
    "plt.title('AUC: '+ str(auc) )\n",
    "plt.plot(fpr, fpr, linestyle='--', label='Baseline')\n",
    "plt.xlabel('False Positive Rate')\n",
    "plt.ylabel('True Positive Rate')\n",
    "plt.legend()\n",
    "plt.show()"
   ]
  },
  {
   "cell_type": "code",
   "execution_count": null,
   "metadata": {},
   "outputs": [
    {
     "name": "stdout",
     "output_type": "stream",
     "text": [
      "Fitting 5 folds for each of 200 candidates, totalling 1000 fits\n"
     ]
    },
    {
     "name": "stderr",
     "output_type": "stream",
     "text": [
      "[Parallel(n_jobs=1)]: Using backend SequentialBackend with 1 concurrent workers.\n"
     ]
    }
   ],
   "source": [
    "########################################################\n",
    "# Multiclass\n",
    "\n",
    "params = {'C': loguniform(1e0, 1e3),\n",
    " 'gamma': loguniform(1e-4, 1e-3),\n",
    " 'kernel': ['linear','sigmoid','rbf'],\n",
    " 'class_weight':['balanced', None]}\n",
    "\n",
    "\n",
    "\n",
    "svclassifier = SVC(probability=True)\n",
    "\n",
    "search = RandomizedSearchCV(svclassifier, param_distributions=params, random_state=42, n_iter=200, cv=5, verbose=1, n_jobs=1, return_train_score=True)\n",
    "\n",
    "search.fit(X_trainval_norm, y_trainval)\n",
    "svm_params = search.best_params_\n",
    "\n",
    "print(search.best_params_)"
   ]
  },
  {
   "cell_type": "code",
   "execution_count": null,
   "metadata": {},
   "outputs": [],
   "source": [
    "svm_model = search.best_estimator_\n",
    "\n",
    "y_pred_train = svm_model.predict(X_trainval_norm)\n",
    "\n",
    "print(\"Accuracy on Train:\",metrics.accuracy_score(y_trainval, y_pred_train))\n",
    "\n",
    "y_pred = svm_model.predict(X_test_norm)\n",
    "# probabilities of class event\n",
    "y_pred_proba = svm_model.predict_proba(X_test_norm)[:,0]\n",
    "\n",
    "print('5-Fold CV Accuracy: ', search.best_score_)\n",
    "\n",
    "print(\"Accuracy on Test:\",metrics.accuracy_score(y_test, y_pred))\n",
    "\n",
    "\n",
    "plot_confusion_matrix(svm_model, X_test_norm, y_test,\n",
    "                                 cmap=plt.cm.Blues,\n",
    "                                 # normalize='true'\n",
    "                                 )\n",
    "\n"
   ]
  },
  {
   "cell_type": "code",
   "execution_count": null,
   "metadata": {},
   "outputs": [],
   "source": []
  }
 ],
 "metadata": {
  "kernelspec": {
   "display_name": "Python 3",
   "language": "python",
   "name": "python3"
  },
  "language_info": {
   "codemirror_mode": {
    "name": "ipython",
    "version": 3
   },
   "file_extension": ".py",
   "mimetype": "text/x-python",
   "name": "python",
   "nbconvert_exporter": "python",
   "pygments_lexer": "ipython3",
   "version": "3.8.5"
  }
 },
 "nbformat": 4,
 "nbformat_minor": 4
}
