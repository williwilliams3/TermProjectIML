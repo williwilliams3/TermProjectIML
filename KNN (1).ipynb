{
  "nbformat": 4,
  "nbformat_minor": 0,
  "metadata": {
    "colab": {
      "name": "KNN.ipynb",
      "provenance": [],
      "collapsed_sections": []
    },
    "kernelspec": {
      "name": "python3",
      "display_name": "Python 3"
    }
  },
  "cells": [
    {
      "cell_type": "markdown",
      "metadata": {
        "id": "VAu8ecZHwzxv"
      },
      "source": [
        "##Preparing Data and Imports"
      ]
    },
    {
      "cell_type": "code",
      "metadata": {
        "id": "G4adJP_wRswu"
      },
      "source": [
        "import numpy as np\n",
        "import pandas as pd\n",
        "import matplotlib.pyplot as plt\n",
        "import matplotlib.patches as mpatches\n",
        "import seaborn as sns\n",
        "from sklearn import preprocessing \n",
        "from sklearn.feature_selection import chi2, SelectKBest\n",
        "from sklearn import metrics\n",
        "#from sklearn.metrics import accuracy_score, confusion_matrix\n",
        "from sklearn.neighbors import (KNeighborsClassifier,\n",
        "                               NeighborhoodComponentsAnalysis)\n",
        "from sklearn.pipeline import make_pipeline\n",
        "from sklearn.preprocessing import StandardScaler\n",
        "from sklearn.model_selection import train_test_split"
      ],
      "execution_count": null,
      "outputs": []
    },
    {
      "cell_type": "code",
      "metadata": {
        "id": "OaPxSIsexERf"
      },
      "source": [
        "import pandas as pd\n",
        "import numpy as np\n",
        "from sklearn.model_selection import train_test_split\n",
        "\n",
        "def data_cleaner(df):\n",
        "    data = df.copy()\n",
        "    #remove the id, partlybad columns\n",
        "    data.drop([\"id\",\"partlybad\"],1,inplace=True)\n",
        "    #set new index using the date column\n",
        "    data.set_index([\"date\"],inplace=True)\n",
        "    #add binary 'class2' col for event/non-event\n",
        "    data[\"class2\"] = np.where(data[\"class4\"] == \"nonevent\", \"nonevent\",\"event\")\n",
        "    #arrange to put class2 col at the front\n",
        "    cols = ['class2'] + [col for col in data if col != 'class2']\n",
        "    data = data[cols]\n",
        "    return data\n",
        "\n",
        "##### New way to generate the data\n",
        "def normalize_0to1(df):\n",
        "    # create a scaler object\n",
        "    scaler = preprocessing.MinMaxScaler()\n",
        "    # fit and transform the data\n",
        "    df_norm = pd.DataFrame(scaler.fit_transform(df), columns=df.columns)\n",
        "    # Return result\n",
        "    return df_norm\n",
        "\n",
        "def data_generator(df):\n",
        "    '''\n",
        "    input:\n",
        "        df: dataframe to split stratified by variable class\n",
        "        class: string with variable to use as response and as variable to stratify by\n",
        "    output:\n",
        "        X_train, y_train: variables and response 60% data \n",
        "        X_val, y_val: variables and response 20% data \n",
        "        X_trainval, y_trainval: variables and response 80% data (for cross validation)\n",
        "        X_test, y_test: variables and response 20% data \n",
        "    '''\n",
        "    \n",
        "    X = df.drop([\"class2\",\"class4\"], axis=1)\n",
        "    X = normalize_0to1(X)\n",
        "    y = df['class4']\n",
        "    \n",
        "    # 60%, 20%, 20%\n",
        "    # Generate TrainVal 80% and test 20% \n",
        "    X_trainval, X_test, y_trainval, y_test = train_test_split( X, y, test_size=0.20, random_state=42, stratify=y)\n",
        "    \n",
        "    # Furthermore split train into Train and Val\n",
        "    X_train, X_val, y_train, y_val= train_test_split( X_trainval, y_trainval, test_size=0.25, random_state=42, stratify=y_trainval)\n",
        "    \n",
        "    return X_train, X_val, X_trainval, X_test, y_train, y_val, y_trainval, y_test\n",
        "\n",
        "def convert_binary(y):\n",
        "    '''\n",
        "    Parameters\n",
        "    ----------\n",
        "    y : repsonse variable with 4 classes\n",
        "    Returns\n",
        "    -------\n",
        "    y : reponse variable 2 classes\n",
        "    '''\n",
        "    y_bin = np.where(y == \"nonevent\", \"nonevent\",\"event\")\n",
        "    return y_bin\n",
        "\n",
        "url = \"https://raw.githubusercontent.com/williwilliams3/TermProjectIML/master/data/train.csv\"\n",
        "df = pd.read_csv(url)\n",
        "df = data_cleaner(df)\n",
        "\n",
        "X_train, X_val, X_trainval, X_test, y_train, y_val, y_trainval, y_test = data_generator(df)\n",
        "\n",
        "# If needed conversion from 4 classes to binary classes\n",
        "y_train_bin = convert_binary(y_train)\n",
        "y_val_bin = convert_binary(y_val)\n",
        "y_trainval_bin = convert_binary(y_trainval)\n",
        "y_test_bin = convert_binary(y_test)\n"
      ],
      "execution_count": null,
      "outputs": []
    },
    {
      "cell_type": "code",
      "metadata": {
        "id": "hgOGqfYca894"
      },
      "source": [
        "def select_n_best_feature(X, y, n):\n",
        "    # Normalize X values to be between 0 and 1\n",
        "    x = X.values\n",
        "    min_max_scaler = preprocessing.MinMaxScaler()\n",
        "    x_scaled = min_max_scaler.fit_transform(x)\n",
        "    X = pd.DataFrame(x_scaled)\n",
        "\n",
        "    # Use SelectKBest class to extract top n best features\n",
        "    bestfeatures = SelectKBest(score_func=chi2, k=n)\n",
        "    fit = bestfeatures.fit(X,y)\n",
        "    dfscores = pd.DataFrame(fit.scores_)\n",
        "    dfcolumns = pd.DataFrame(X.columns)\n",
        "\n",
        "    # Concat two dataframes for better visualization and print best features\n",
        "    featureScores = pd.concat([dfcolumns,dfscores],axis=1)\n",
        "    featureScores.columns = ['Feature_index','Score']\n",
        "    #print(featureScores.nlargest(n,'Score'))\n",
        "\n",
        "    # Filter X. Leave only top n features\n",
        "    #X = bestfeatures.fit_transform(X, y)\n",
        "    \n",
        "    # Return X\n",
        "    #return X\n",
        "    return bestfeatures"
      ],
      "execution_count": null,
      "outputs": []
    },
    {
      "cell_type": "markdown",
      "metadata": {
        "id": "zLmOMq5dngPQ"
      },
      "source": [
        "##Normalised Data\n",
        "- binary and multi class predictions"
      ]
    },
    {
      "cell_type": "code",
      "metadata": {
        "colab": {
          "base_uri": "https://localhost:8080/",
          "height": 1000
        },
        "id": "NTrDLpC2RvAa",
        "outputId": "3200c3f3-b05b-4c46-ff40-10983c5c431b"
      },
      "source": [
        "#unscaled data\n",
        "#set up for storing error rate\n",
        "pred_rate = np.zeros(100)\n",
        "\n",
        "#find error rate on the validation set \n",
        "for k in range(1,100):\n",
        "    #run algorithm\n",
        "    knn = KNeighborsClassifier(n_neighbors=k) \n",
        "    #fit to training data\n",
        "    knn.fit(X_train, y_train_bin) \n",
        "    #predicted values for class2 on validation set\n",
        "    y_pred_val_bin = knn.predict(X_val)\n",
        "    #compare predictions with actual results\n",
        "    pred_rate[k] = metrics.accuracy_score(y_val_bin, y_pred_val_bin)\n",
        "    print('rate of correct predictions for k = %i' %k,pred_rate[k])\n",
        "\n",
        "f, ax = plt.subplots(1)\n",
        "plt.plot(pred_rate,color=\"green\")\n",
        "ax.set_xlim(1, 100)"
      ],
      "execution_count": null,
      "outputs": [
        {
          "output_type": "stream",
          "text": [
            "rate of correct predictions for k = 1 0.8269230769230769\n",
            "rate of correct predictions for k = 2 0.8653846153846154\n",
            "rate of correct predictions for k = 3 0.9423076923076923\n",
            "rate of correct predictions for k = 4 0.8846153846153846\n",
            "rate of correct predictions for k = 5 0.8846153846153846\n",
            "rate of correct predictions for k = 6 0.8653846153846154\n",
            "rate of correct predictions for k = 7 0.8653846153846154\n",
            "rate of correct predictions for k = 8 0.7884615384615384\n",
            "rate of correct predictions for k = 9 0.7884615384615384\n",
            "rate of correct predictions for k = 10 0.7884615384615384\n",
            "rate of correct predictions for k = 11 0.8076923076923077\n",
            "rate of correct predictions for k = 12 0.8076923076923077\n",
            "rate of correct predictions for k = 13 0.7884615384615384\n",
            "rate of correct predictions for k = 14 0.7884615384615384\n",
            "rate of correct predictions for k = 15 0.8269230769230769\n",
            "rate of correct predictions for k = 16 0.8076923076923077\n",
            "rate of correct predictions for k = 17 0.8269230769230769\n",
            "rate of correct predictions for k = 18 0.8269230769230769\n",
            "rate of correct predictions for k = 19 0.8461538461538461\n",
            "rate of correct predictions for k = 20 0.8461538461538461\n",
            "rate of correct predictions for k = 21 0.8461538461538461\n",
            "rate of correct predictions for k = 22 0.8461538461538461\n",
            "rate of correct predictions for k = 23 0.8269230769230769\n",
            "rate of correct predictions for k = 24 0.8461538461538461\n",
            "rate of correct predictions for k = 25 0.8461538461538461\n",
            "rate of correct predictions for k = 26 0.8269230769230769\n",
            "rate of correct predictions for k = 27 0.8461538461538461\n",
            "rate of correct predictions for k = 28 0.8846153846153846\n",
            "rate of correct predictions for k = 29 0.8846153846153846\n",
            "rate of correct predictions for k = 30 0.8846153846153846\n",
            "rate of correct predictions for k = 31 0.8846153846153846\n",
            "rate of correct predictions for k = 32 0.8653846153846154\n",
            "rate of correct predictions for k = 33 0.8846153846153846\n",
            "rate of correct predictions for k = 34 0.8846153846153846\n",
            "rate of correct predictions for k = 35 0.8846153846153846\n",
            "rate of correct predictions for k = 36 0.8846153846153846\n",
            "rate of correct predictions for k = 37 0.8846153846153846\n",
            "rate of correct predictions for k = 38 0.8846153846153846\n",
            "rate of correct predictions for k = 39 0.8846153846153846\n",
            "rate of correct predictions for k = 40 0.8846153846153846\n",
            "rate of correct predictions for k = 41 0.8846153846153846\n",
            "rate of correct predictions for k = 42 0.8846153846153846\n",
            "rate of correct predictions for k = 43 0.8846153846153846\n",
            "rate of correct predictions for k = 44 0.8846153846153846\n",
            "rate of correct predictions for k = 45 0.8846153846153846\n",
            "rate of correct predictions for k = 46 0.9038461538461539\n",
            "rate of correct predictions for k = 47 0.8846153846153846\n",
            "rate of correct predictions for k = 48 0.8653846153846154\n",
            "rate of correct predictions for k = 49 0.8653846153846154\n",
            "rate of correct predictions for k = 50 0.8653846153846154\n",
            "rate of correct predictions for k = 51 0.8846153846153846\n",
            "rate of correct predictions for k = 52 0.8653846153846154\n",
            "rate of correct predictions for k = 53 0.8846153846153846\n",
            "rate of correct predictions for k = 54 0.8269230769230769\n",
            "rate of correct predictions for k = 55 0.8653846153846154\n",
            "rate of correct predictions for k = 56 0.8461538461538461\n",
            "rate of correct predictions for k = 57 0.8653846153846154\n",
            "rate of correct predictions for k = 58 0.8461538461538461\n",
            "rate of correct predictions for k = 59 0.8461538461538461\n",
            "rate of correct predictions for k = 60 0.8269230769230769\n",
            "rate of correct predictions for k = 61 0.8269230769230769\n",
            "rate of correct predictions for k = 62 0.8269230769230769\n",
            "rate of correct predictions for k = 63 0.8269230769230769\n",
            "rate of correct predictions for k = 64 0.8076923076923077\n",
            "rate of correct predictions for k = 65 0.8076923076923077\n",
            "rate of correct predictions for k = 66 0.8076923076923077\n",
            "rate of correct predictions for k = 67 0.8269230769230769\n",
            "rate of correct predictions for k = 68 0.8269230769230769\n",
            "rate of correct predictions for k = 69 0.8269230769230769\n",
            "rate of correct predictions for k = 70 0.8269230769230769\n",
            "rate of correct predictions for k = 71 0.8269230769230769\n",
            "rate of correct predictions for k = 72 0.8076923076923077\n",
            "rate of correct predictions for k = 73 0.8076923076923077\n",
            "rate of correct predictions for k = 74 0.8076923076923077\n",
            "rate of correct predictions for k = 75 0.8269230769230769\n",
            "rate of correct predictions for k = 76 0.8269230769230769\n",
            "rate of correct predictions for k = 77 0.8269230769230769\n",
            "rate of correct predictions for k = 78 0.8269230769230769\n",
            "rate of correct predictions for k = 79 0.8269230769230769\n",
            "rate of correct predictions for k = 80 0.8269230769230769\n",
            "rate of correct predictions for k = 81 0.8269230769230769\n",
            "rate of correct predictions for k = 82 0.8269230769230769\n",
            "rate of correct predictions for k = 83 0.8269230769230769\n",
            "rate of correct predictions for k = 84 0.8269230769230769\n",
            "rate of correct predictions for k = 85 0.8269230769230769\n",
            "rate of correct predictions for k = 86 0.8269230769230769\n",
            "rate of correct predictions for k = 87 0.8269230769230769\n",
            "rate of correct predictions for k = 88 0.8269230769230769\n",
            "rate of correct predictions for k = 89 0.8269230769230769\n",
            "rate of correct predictions for k = 90 0.8269230769230769\n",
            "rate of correct predictions for k = 91 0.8269230769230769\n",
            "rate of correct predictions for k = 92 0.8269230769230769\n",
            "rate of correct predictions for k = 93 0.8269230769230769\n",
            "rate of correct predictions for k = 94 0.8269230769230769\n",
            "rate of correct predictions for k = 95 0.8269230769230769\n",
            "rate of correct predictions for k = 96 0.8269230769230769\n",
            "rate of correct predictions for k = 97 0.8269230769230769\n",
            "rate of correct predictions for k = 98 0.8269230769230769\n",
            "rate of correct predictions for k = 99 0.8269230769230769\n"
          ],
          "name": "stdout"
        },
        {
          "output_type": "execute_result",
          "data": {
            "text/plain": [
              "(1.0, 100.0)"
            ]
          },
          "metadata": {
            "tags": []
          },
          "execution_count": 4
        },
        {
          "output_type": "display_data",
          "data": {
            "image/png": "[encoded data removed]",
            "text/plain": [
              "<Figure size 432x288 with 1 Axes>"
            ]
          },
          "metadata": {
            "tags": [],
            "needs_background": "light"
          }
        }
      ]
    },
    {
      "cell_type": "code",
      "metadata": {
        "colab": {
          "base_uri": "https://localhost:8080/",
          "height": 336
        },
        "id": "KiXJ1z9JSmKm",
        "outputId": "061796b7-6859-49d2-9df6-928f93c5cd30"
      },
      "source": [
        "#k=3\n",
        "#run on test set \n",
        "\n",
        "knn = KNeighborsClassifier(n_neighbors=3) \n",
        "#fit with optimum k to training data\n",
        "knn.fit(X_train, y_train_bin) \n",
        "\n",
        "y_pred_train = knn.predict(X_train)\n",
        "y_pred_val = knn.predict(X_val)\n",
        "y_pred_test = knn.predict(X_test)\n",
        "\n",
        "#map predictions on heat map\n",
        "confusion_matrix = pd.crosstab(y_test_bin, y_pred_test, rownames=['Actual'], colnames=['Predicted'])\n",
        "sns.heatmap(confusion_matrix, annot=True)\n",
        "\n",
        "#compare all metrics\n",
        "print('Accuracy on train set: ',metrics.accuracy_score(y_train_bin, y_pred_train))\n",
        "print('Accuracy on validation set: ',metrics.accuracy_score(y_val_bin, y_pred_val))\n",
        "print('Accuracy on test set: ',metrics.accuracy_score(y_test_bin, y_pred_test))\n"
      ],
      "execution_count": null,
      "outputs": [
        {
          "output_type": "stream",
          "text": [
            "Accuracy on train set:  0.9025974025974026\n",
            "Accuracy on validation set:  0.9423076923076923\n",
            "Accuracy on test set:  0.8076923076923077\n"
          ],
          "name": "stdout"
        },
        {
          "output_type": "display_data",
          "data": {
            "image/png": "[encoded data removed]",
            "text/plain": [
              "<Figure size 432x288 with 2 Axes>"
            ]
          },
          "metadata": {
            "tags": [],
            "needs_background": "light"
          }
        }
      ]
    },
    {
      "cell_type": "code",
      "metadata": {
        "colab": {
          "base_uri": "https://localhost:8080/",
          "height": 969
        },
        "id": "C384sEBqsmB3",
        "outputId": "5bc55339-9b5c-4884-e40e-5d6a9bc8686a"
      },
      "source": [
        "#set up for storing error rate\n",
        "pred_rate = np.zeros(40)\n",
        "\n",
        "#find error rate on the validation set \n",
        "for k in range(1,40):\n",
        "    #run algorithm\n",
        "    knn = KNeighborsClassifier(n_neighbors=k) \n",
        "    #fit to training data\n",
        "    knn.fit(X_train, y_train) \n",
        "    #predicted values for class2 on validation set\n",
        "    y_pred_val = knn.predict(X_val)\n",
        "    #compare predictions with actual results\n",
        "    pred_rate[k] = metrics.accuracy_score(y_val, y_pred_val)\n",
        "    print('rate of correct predictions for k = %i' %k,pred_rate[k])\n",
        "\n",
        "f, ax = plt.subplots(1)\n",
        "plt.plot(pred_rate,color=\"fuchsia\")\n",
        "ax.set_xlim(1, 40)"
      ],
      "execution_count": null,
      "outputs": [
        {
          "output_type": "stream",
          "text": [
            "rate of correct predictions for k = 1 0.5961538461538461\n",
            "rate of correct predictions for k = 2 0.6153846153846154\n",
            "rate of correct predictions for k = 3 0.7115384615384616\n",
            "rate of correct predictions for k = 4 0.5769230769230769\n",
            "rate of correct predictions for k = 5 0.5961538461538461\n",
            "rate of correct predictions for k = 6 0.5961538461538461\n",
            "rate of correct predictions for k = 7 0.6346153846153846\n",
            "rate of correct predictions for k = 8 0.6538461538461539\n",
            "rate of correct predictions for k = 9 0.5961538461538461\n",
            "rate of correct predictions for k = 10 0.5769230769230769\n",
            "rate of correct predictions for k = 11 0.5192307692307693\n",
            "rate of correct predictions for k = 12 0.5\n",
            "rate of correct predictions for k = 13 0.5192307692307693\n",
            "rate of correct predictions for k = 14 0.5\n",
            "rate of correct predictions for k = 15 0.5576923076923077\n",
            "rate of correct predictions for k = 16 0.5576923076923077\n",
            "rate of correct predictions for k = 17 0.5961538461538461\n",
            "rate of correct predictions for k = 18 0.5384615384615384\n",
            "rate of correct predictions for k = 19 0.5384615384615384\n",
            "rate of correct predictions for k = 20 0.5384615384615384\n",
            "rate of correct predictions for k = 21 0.5576923076923077\n",
            "rate of correct predictions for k = 22 0.5769230769230769\n",
            "rate of correct predictions for k = 23 0.5384615384615384\n",
            "rate of correct predictions for k = 24 0.5192307692307693\n",
            "rate of correct predictions for k = 25 0.5576923076923077\n",
            "rate of correct predictions for k = 26 0.5576923076923077\n",
            "rate of correct predictions for k = 27 0.5384615384615384\n",
            "rate of correct predictions for k = 28 0.5192307692307693\n",
            "rate of correct predictions for k = 29 0.5384615384615384\n",
            "rate of correct predictions for k = 30 0.5769230769230769\n",
            "rate of correct predictions for k = 31 0.5961538461538461\n",
            "rate of correct predictions for k = 32 0.5769230769230769\n",
            "rate of correct predictions for k = 33 0.5576923076923077\n",
            "rate of correct predictions for k = 34 0.5576923076923077\n",
            "rate of correct predictions for k = 35 0.5384615384615384\n",
            "rate of correct predictions for k = 36 0.5576923076923077\n",
            "rate of correct predictions for k = 37 0.5961538461538461\n",
            "rate of correct predictions for k = 38 0.5769230769230769\n",
            "rate of correct predictions for k = 39 0.5576923076923077\n"
          ],
          "name": "stdout"
        },
        {
          "output_type": "execute_result",
          "data": {
            "text/plain": [
              "(1.0, 40.0)"
            ]
          },
          "metadata": {
            "tags": []
          },
          "execution_count": 6
        },
        {
          "output_type": "display_data",
          "data": {
            "image/png": "[encoded data removed]",
            "text/plain": [
              "<Figure size 432x288 with 1 Axes>"
            ]
          },
          "metadata": {
            "tags": [],
            "needs_background": "light"
          }
        }
      ]
    },
    {
      "cell_type": "code",
      "metadata": {
        "colab": {
          "base_uri": "https://localhost:8080/",
          "height": 336
        },
        "id": "xmwJiG5Xs72v",
        "outputId": "2deb3c25-e5ec-4444-9eec-fd913cc6f3da"
      },
      "source": [
        "#k=10 gives lowest error\n",
        "#run on test set\n",
        "\n",
        "knn = KNeighborsClassifier(n_neighbors=10) \n",
        "#fit with optimum k to training data\n",
        "knn.fit(X_train, y_train) \n",
        "\n",
        "y_pred_train = knn.predict(X_train)\n",
        "y_pred_val = knn.predict(X_val)\n",
        "y_pred_test = knn.predict(X_test)\n",
        "\n",
        "#map predictions on heat map\n",
        "confusion_matrix = pd.crosstab(y_test, y_pred_test, rownames=['Actual'], colnames=['Predicted'])\n",
        "sns.heatmap(confusion_matrix, annot=True)\n",
        "\n",
        "#compare all metrics\n",
        "print('Accuracy on train set: ',metrics.accuracy_score(y_train, y_pred_train))\n",
        "print('Accuracy on validation set: ',metrics.accuracy_score(y_val, y_pred_val))\n",
        "print('Accuracy on test set: ',metrics.accuracy_score(y_test, y_pred_test))"
      ],
      "execution_count": null,
      "outputs": [
        {
          "output_type": "stream",
          "text": [
            "Accuracy on train set:  0.6753246753246753\n",
            "Accuracy on validation set:  0.5769230769230769\n",
            "Accuracy on test set:  0.5961538461538461\n"
          ],
          "name": "stdout"
        },
        {
          "output_type": "display_data",
          "data": {
            "image/png": "[encoded data removed]",
            "text/plain": [
              "<Figure size 432x288 with 2 Axes>"
            ]
          },
          "metadata": {
            "tags": [],
            "needs_background": "light"
          }
        }
      ]
    },
    {
      "cell_type": "markdown",
      "metadata": {
        "id": "umvKdruJm3cz"
      },
      "source": [
        "##Best Feature Selection\n"
      ]
    },
    {
      "cell_type": "code",
      "metadata": {
        "id": "wbqdGYMjjLRG"
      },
      "source": [
        "def find_n_best_feature(X, y, n):\n",
        "    '''\n",
        "    input:\n",
        "        X:\n",
        "        y:\n",
        "        n:\n",
        "    output:\n",
        "     cols:\n",
        "    '''\n",
        "    bestfeatures = SelectKBest(score_func=chi2, k=n)\n",
        "    fit = bestfeatures.fit(X_train, y_train)\n",
        "    dfscores = pd.DataFrame(fit.scores_)\n",
        "    dfcolumns = pd.DataFrame(X_train.columns)\n",
        "    featureScores = pd.concat([dfcolumns,dfscores],axis=1)\n",
        "    featureScores.columns = ['col_name','Score']\n",
        "    featureScores= featureScores.nlargest(n,'Score')\n",
        "    cols = list(featureScores[\"col_name\"])\n",
        "    return cols"
      ],
      "execution_count": null,
      "outputs": []
    },
    {
      "cell_type": "code",
      "metadata": {
        "id": "RDYWOa27ZZwl",
        "colab": {
          "base_uri": "https://localhost:8080/",
          "height": 282
        },
        "outputId": "41c7753f-bfb1-435f-fe82-3c78b322efa7"
      },
      "source": [
        "#feature selection \n",
        "\n",
        "#select optimum number of features on validation set\n",
        "acc_rate_train = np.zeros(100)\n",
        "acc_rate_val = np.zeros(100)\n",
        "acc_rate_test = np.zeros(100)\n",
        "\n",
        "\n",
        "for i in range(1,100): \n",
        "    bestFeatureCols = find_n_best_feature(X_train, y_train, i)\n",
        "    #bestFeaturesFilter = select_n_best_feature(X_train, y_train, i)\n",
        "    X_train_filter = X_train[bestFeatureCols]\n",
        "    X_val_filter = X_val[bestFeatureCols]\n",
        "    X_test_filter = X_test[bestFeatureCols]\n",
        "          \n",
        "    knn = KNeighborsClassifier(n_neighbors=9) \n",
        "    \n",
        "    #fit with optimum k to training data\n",
        "    knn.fit(X_train_filter, y_train) \n",
        "    y_pred_train = knn.predict(X_train_filter)\n",
        "    y_pred_val = knn.predict(X_val_filter)\n",
        "    y_pred_test = knn.predict(X_test_filter)\n",
        "\n",
        "    acc_rate_train[i] = metrics.accuracy_score(y_train, y_pred_train)\n",
        "    acc_rate_val[i] = metrics.accuracy_score(y_val, y_pred_val)\n",
        "    acc_rate_test[i] = metrics.accuracy_score(y_test, y_pred_test)\n",
        "\n",
        "f, ax = plt.subplots(1)\n",
        "plt.plot(acc_rate_train,color=\"red\")\n",
        "plt.plot(acc_rate_val,color=\"blue\")\n",
        "plt.plot(acc_rate_test,color=\"yellow\")\n",
        "\n",
        "ax.set_xlim(1, 100)\n"
      ],
      "execution_count": null,
      "outputs": [
        {
          "output_type": "execute_result",
          "data": {
            "text/plain": [
              "(1.0, 100.0)"
            ]
          },
          "metadata": {
            "tags": []
          },
          "execution_count": 8
        },
        {
          "output_type": "display_data",
          "data": {
            "image/png": "[encoded data removed]",
            "text/plain": [
              "<Figure size 432x288 with 1 Axes>"
            ]
          },
          "metadata": {
            "tags": [],
            "needs_background": "light"
          }
        }
      ]
    },
    {
      "cell_type": "code",
      "metadata": {
        "colab": {
          "base_uri": "https://localhost:8080/",
          "height": 1000
        },
        "id": "ddO8qzLfCBRF",
        "outputId": "6324868b-3bea-40d9-b36e-50abfec4f8f2"
      },
      "source": [
        "#98 features\n",
        "bestFeaturesFilter = select_n_best_feature(X_train, y_train_bin, 60)\n",
        "X_train_filter = X_train[bestFeatureCols]\n",
        "X_val_filter = X_val[bestFeatureCols]\n",
        "X_test_filter = X_test[bestFeatureCols]\n",
        "          \n",
        "knn = KNeighborsClassifier(n_neighbors=10) \n",
        "\n",
        "#fit with optimum k to training data\n",
        "knn.fit(X_train_filter, y_train_bin) \n",
        "y_pred_val = knn.predict(X_val_filter)\n",
        "y_pred_test = knn.predict(X_test_filter)\n",
        "y_pred_train = knn.predict(X_train_filter)\n",
        "\n",
        "#compare all metrics\n",
        "print('Accuracy on train set: ',metrics.accuracy_score(y_train_bin, y_pred_train))\n",
        "print('Accuracy on validation set: ',metrics.accuracy_score(y_val_bin, y_pred_val))\n",
        "print('Accuracy on test set: ',metrics.accuracy_score(y_test_bin, y_pred_test))\n",
        "\n",
        "bin_train_val = np.c_[X_trainval[bestFeatureCols].index,knn.predict(X_trainval[bestFeatureCols])]\n",
        "bin_test = np.c_[X_test[bestFeatureCols].index,knn.predict(X_test[bestFeatureCols])]\n",
        "\n",
        "#from numpy import savetxt\n",
        "#savetxt('bin_trainval_knn.txt', bin_train_val, delimiter=',')\n",
        "#savetxt('bin_test_knn.csv', bin_test, delimiter=',')\n",
        "\n",
        "#from google.colab import files\n",
        "#files.download(\"bin_trainval_knn.csv\")\n",
        "#files.download(\"bin_test_knn.csv\")\n",
        "\n",
        "print(bin_test)\n",
        "confusion_matrix = pd.crosstab(y_test_bin, y_pred_test, rownames=['Actual'], colnames=['Predicted'])\n",
        "sns.heatmap(confusion_matrix, annot=True)"
      ],
      "execution_count": null,
      "outputs": [
        {
          "output_type": "stream",
          "text": [
            "Accuracy on train set:  0.8506493506493507\n",
            "Accuracy on validation set:  0.7884615384615384\n",
            "Accuracy on test set:  0.8076923076923077\n",
            "[['133' 'event']\n",
            " ['145' 'nonevent']\n",
            " ['191' 'event']\n",
            " ['119' 'event']\n",
            " ['38' 'event']\n",
            " ['6' 'nonevent']\n",
            " ['144' 'nonevent']\n",
            " ['142' 'event']\n",
            " ['201' 'nonevent']\n",
            " ['89' 'event']\n",
            " ['59' 'event']\n",
            " ['111' 'nonevent']\n",
            " ['78' 'nonevent']\n",
            " ['149' 'event']\n",
            " ['168' 'event']\n",
            " ['25' 'nonevent']\n",
            " ['31' 'event']\n",
            " ['94' 'nonevent']\n",
            " ['4' 'nonevent']\n",
            " ['208' 'nonevent']\n",
            " ['82' 'nonevent']\n",
            " ['137' 'event']\n",
            " ['189' 'nonevent']\n",
            " ['45' 'event']\n",
            " ['141' 'event']\n",
            " ['16' 'event']\n",
            " ['199' 'nonevent']\n",
            " ['57' 'event']\n",
            " ['107' 'event']\n",
            " ['256' 'event']\n",
            " ['178' 'event']\n",
            " ['202' 'nonevent']\n",
            " ['218' 'event']\n",
            " ['163' 'event']\n",
            " ['10' 'nonevent']\n",
            " ['101' 'nonevent']\n",
            " ['244' 'event']\n",
            " ['167' 'event']\n",
            " ['52' 'nonevent']\n",
            " ['67' 'nonevent']\n",
            " ['121' 'event']\n",
            " ['206' 'event']\n",
            " ['1' 'nonevent']\n",
            " ['241' 'nonevent']\n",
            " ['97' 'event']\n",
            " ['219' 'nonevent']\n",
            " ['196' 'nonevent']\n",
            " ['102' 'nonevent']\n",
            " ['35' 'event']\n",
            " ['26' 'nonevent']\n",
            " ['226' 'event']\n",
            " ['63' 'event']]\n"
          ],
          "name": "stdout"
        },
        {
          "output_type": "execute_result",
          "data": {
            "text/plain": [
              "<matplotlib.axes._subplots.AxesSubplot at 0x7f08cacd9860>"
            ]
          },
          "metadata": {
            "tags": []
          },
          "execution_count": 10
        },
        {
          "output_type": "display_data",
          "data": {
            "image/png": "[encoded data removed]",
            "text/plain": [
              "<Figure size 432x288 with 2 Axes>"
            ]
          },
          "metadata": {
            "tags": [],
            "needs_background": "light"
          }
        }
      ]
    },
    {
      "cell_type": "code",
      "metadata": {
        "colab": {
          "base_uri": "https://localhost:8080/"
        },
        "id": "51Xn3b7oGYPM",
        "outputId": "099133f3-cfac-48ca-aa23-e5b6d8ec1633"
      },
      "source": [
        "#98 features\n",
        "bestFeaturesFilter = select_n_best_feature(X_train, y_train, 60)\n",
        "X_train_filter = X_train[bestFeatureCols]\n",
        "X_val_filter = X_val[bestFeatureCols]\n",
        "X_test_filter = X_test[bestFeatureCols]\n",
        "          \n",
        "knn = KNeighborsClassifier(n_neighbors=9) \n",
        "\n",
        "#fit with optimum k to training data\n",
        "knn.fit(X_train_filter, y_train) \n",
        "y_pred_val = knn.predict(X_val_filter)\n",
        "y_pred_test = knn.predict(X_test_filter)\n",
        "y_pred_train = knn.predict(X_train_filter)\n",
        "\n",
        "#compare all metrics\n",
        "print('Accuracy on train set: ',metrics.accuracy_score(y_train, y_pred_train))\n",
        "print('Accuracy on validation set: ',metrics.accuracy_score(y_val, y_pred_val))\n",
        "print('Accuracy on test set: ',metrics.accuracy_score(y_test, y_pred_test))\n",
        "\n",
        "bin_train_val = np.c_[X_trainval[bestFeatureCols].index,knn.predict(X_trainval[bestFeatureCols])]\n",
        "bin_test = np.c_[X_test[bestFeatureCols].index,knn.predict(X_test[bestFeatureCols])]\n",
        "\n",
        "print(bin_test)"
      ],
      "execution_count": null,
      "outputs": [
        {
          "output_type": "stream",
          "text": [
            "Accuracy on train set:  0.6753246753246753\n",
            "Accuracy on validation set:  0.5961538461538461\n",
            "Accuracy on test set:  0.5961538461538461\n",
            "[[133 'Ib']\n",
            " [145 'nonevent']\n",
            " [191 'II']\n",
            " [119 'II']\n",
            " [38 'II']\n",
            " [6 'nonevent']\n",
            " [144 'nonevent']\n",
            " [142 'Ib']\n",
            " [201 'nonevent']\n",
            " [89 'nonevent']\n",
            " [59 'Ib']\n",
            " [111 'nonevent']\n",
            " [78 'nonevent']\n",
            " [149 'nonevent']\n",
            " [168 'Ib']\n",
            " [25 'nonevent']\n",
            " [31 'Ib']\n",
            " [94 'nonevent']\n",
            " [4 'nonevent']\n",
            " [208 'nonevent']\n",
            " [82 'nonevent']\n",
            " [137 'Ib']\n",
            " [189 'nonevent']\n",
            " [45 'Ib']\n",
            " [141 'nonevent']\n",
            " [16 'nonevent']\n",
            " [199 'nonevent']\n",
            " [57 'II']\n",
            " [107 'Ib']\n",
            " [256 'Ib']\n",
            " [178 'nonevent']\n",
            " [202 'nonevent']\n",
            " [218 'Ib']\n",
            " [163 'nonevent']\n",
            " [10 'nonevent']\n",
            " [101 'nonevent']\n",
            " [244 'nonevent']\n",
            " [167 'II']\n",
            " [52 'nonevent']\n",
            " [67 'nonevent']\n",
            " [121 'nonevent']\n",
            " [206 'Ib']\n",
            " [1 'nonevent']\n",
            " [241 'nonevent']\n",
            " [97 'II']\n",
            " [219 'nonevent']\n",
            " [196 'nonevent']\n",
            " [102 'nonevent']\n",
            " [35 'Ib']\n",
            " [26 'nonevent']\n",
            " [226 'II']\n",
            " [63 'nonevent']]\n"
          ],
          "name": "stdout"
        }
      ]
    },
    {
      "cell_type": "code",
      "metadata": {
        "id": "dA5VQkXA-dCH"
      },
      "source": [
        ""
      ],
      "execution_count": null,
      "outputs": []
    },
    {
      "cell_type": "code",
      "metadata": {
        "colab": {
          "base_uri": "https://localhost:8080/",
          "height": 301
        },
        "id": "TBZoDeCQHRg3",
        "outputId": "caf89142-3f81-4d5e-aad6-0e40b4ba7a11"
      },
      "source": [
        "confusion_matrix = pd.crosstab(y_test, y_pred_test, rownames=['Actual'], colnames=['Predicted'])\n",
        "sns.heatmap(confusion_matrix, annot=True)"
      ],
      "execution_count": null,
      "outputs": [
        {
          "output_type": "execute_result",
          "data": {
            "text/plain": [
              "<matplotlib.axes._subplots.AxesSubplot at 0x7f0496b1a780>"
            ]
          },
          "metadata": {
            "tags": []
          },
          "execution_count": 11
        },
        {
          "output_type": "display_data",
          "data": {
            "image/png": "[encoded data removed]",
            "text/plain": [
              "<Figure size 432x288 with 2 Axes>"
            ]
          },
          "metadata": {
            "tags": [],
            "needs_background": "light"
          }
        }
      ]
    },
    {
      "cell_type": "code",
      "metadata": {
        "id": "Zx8cLqCbGXJk"
      },
      "source": [
        "def select_n_best_feature(X, y, n):\n",
        "    # Normalize X values to be between 0 and 1\n",
        "    x = X.values\n",
        "    min_max_scaler = preprocessing.MinMaxScaler()\n",
        "    x_scaled = min_max_scaler.fit_transform(x)\n",
        "    X = pd.DataFrame(x_scaled)\n",
        "\n",
        "    # Use SelectKBest class to extract top n best features\n",
        "    bestfeatures = SelectKBest(score_func=chi2, k=n)\n",
        "    fit = bestfeatures.fit(X,y)\n",
        "    dfscores = pd.DataFrame(fit.scores_)\n",
        "    dfcolumns = pd.DataFrame(X.columns)\n",
        "\n",
        "    # Concat two dataframes for better visualization and print best features\n",
        "    featureScores = pd.concat([dfcolumns,dfscores],axis=1)\n",
        "    featureScores.columns = ['Feature_index','Score']\n",
        "    #print(featureScores.nlargest(n,'Score'))\n",
        "\n",
        "    # Filter X. Leave only top n features\n",
        "    #X = bestfeatures.fit_transform(X, y)\n",
        "    \n",
        "    # Return X\n",
        "    #return X\n",
        "    return bestfeatures"
      ],
      "execution_count": null,
      "outputs": []
    },
    {
      "cell_type": "code",
      "metadata": {
        "id": "bsLQVmaxICyJ"
      },
      "source": [
        ""
      ],
      "execution_count": null,
      "outputs": []
    },
    {
      "cell_type": "markdown",
      "metadata": {
        "id": "nwPpLWRFpHre"
      },
      "source": [
        "##NCA\n",
        "\n",
        "-knn works best with fewer dimensions. We try using NCA to break down the number of dimensions"
      ]
    },
    {
      "cell_type": "code",
      "metadata": {
        "colab": {
          "base_uri": "https://localhost:8080/"
        },
        "id": "RAlMioYTpIvM",
        "outputId": "abcb4973-0b16-4cc2-907b-646dfc2ddcbf"
      },
      "source": [
        "#trying it out\n",
        "#https://scikit-learn.org/stable/modules/generated/sklearn.neighbors.NeighborhoodComponentsAnalysis.html#sklearn.neighbors.NeighborhoodComponentsAnalysis\n",
        "\n",
        "# Reduce dimension to 2 with NeighborhoodComponentAnalysis\n",
        "nca = make_pipeline(StandardScaler(),\n",
        "                    NeighborhoodComponentsAnalysis(n_components=10,\n",
        "                                                   random_state=42))\n",
        "# Fit the component analysis to training data\n",
        "nca.fit(X_train, y_train)\n",
        "\n",
        "# Fit a nearest neighbor classifier on the embedded training set\n",
        "knn = KNeighborsClassifier(n_neighbors=9) \n",
        "knn.fit(nca.transform(X_train), y_train)\n",
        "\n",
        "#predict on transformed data\n",
        "y_pred_train_nca = knn.predict(nca.transform(X_train))\n",
        "y_pred_val_nca = knn.predict(nca.transform(X_val))\n",
        "y_pred_test_nca = knn.predict(nca.transform(X_test))\n",
        "\n",
        "print('Accuracy on train set: ',metrics.accuracy_score(y_train, y_pred_train_nca))\n",
        "print('Accuracy on validation set: ',metrics.accuracy_score(y_val, y_pred_val_nca))\n",
        "print('Accuracy on test set: ',metrics.accuracy_score(y_test, y_pred_test_nca))\n",
        "\n",
        "#multi_train_val = np.c_[X_trainval.index,knn.predict(X_trainval)]\n",
        "#multi_test = np.c_[X_test.index,knn.predict(X_test)]\n",
        "\n",
        "\n",
        "from numpy import savetxt\n",
        "#savetxt('bin_trainval_knn.csv', multi_train_val, delimiter=',')\n",
        "#savetxt('bin_test_knn.csv', multi_test, delimiter=',')\n",
        "\n",
        "from google.colab import files\n",
        "#files.download(\"bin_trainval_logReg.csv\")\n",
        "#files.download(\"bin_test_logReg.csv\")"
      ],
      "execution_count": null,
      "outputs": [
        {
          "output_type": "stream",
          "text": [
            "Accuracy on train set:  0.6623376623376623\n",
            "Accuracy on validation set:  0.5384615384615384\n",
            "Accuracy on test set:  0.5961538461538461\n"
          ],
          "name": "stdout"
        }
      ]
    },
    {
      "cell_type": "code",
      "metadata": {
        "colab": {
          "base_uri": "https://localhost:8080/",
          "height": 1000
        },
        "id": "zCPbhUFApJQ7",
        "outputId": "2f4c6b72-9492-4c49-e2c8-bb0d5750a0a1"
      },
      "source": [
        "acc_rate = np.zeros(100)\n",
        "#optimal number of dimentions\n",
        "for n in range(1,100):\n",
        "    nca = make_pipeline(StandardScaler(),\n",
        "                    NeighborhoodComponentsAnalysis(n_components=n,\n",
        "                                                   random_state=42))\n",
        "    #fit the analysis results\n",
        "    nca.fit(X_train, y_train)\n",
        "    \n",
        "    #fit the knn \n",
        "    knn.fit(nca.transform(X_train), y_train)\n",
        "    y_pred_val_nca = knn.predict(nca.transform(X_val))\n",
        "    acc_rate[n] = metrics.accuracy_score(y_val, y_pred_val_nca)\n",
        "\n",
        "    print('rate of correct predictions for dimentions n = %i' %n,acc_rate[n])\n",
        "\n",
        "f, ax = plt.subplots(1)\n",
        "plt.plot(acc_rate,color=\"fuchsia\")\n",
        "ax.set_xlim(1, 100)"
      ],
      "execution_count": null,
      "outputs": [
        {
          "output_type": "stream",
          "text": [
            "rate of correct predictions for dimentions n = 1 0.5576923076923077\n",
            "rate of correct predictions for dimentions n = 2 0.5769230769230769\n",
            "rate of correct predictions for dimentions n = 3 0.5192307692307693\n",
            "rate of correct predictions for dimentions n = 4 0.5961538461538461\n",
            "rate of correct predictions for dimentions n = 5 0.6538461538461539\n",
            "rate of correct predictions for dimentions n = 6 0.6153846153846154\n",
            "rate of correct predictions for dimentions n = 7 0.5576923076923077\n",
            "rate of correct predictions for dimentions n = 8 0.5\n",
            "rate of correct predictions for dimentions n = 9 0.5576923076923077\n",
            "rate of correct predictions for dimentions n = 10 0.5384615384615384\n",
            "rate of correct predictions for dimentions n = 11 0.5192307692307693\n",
            "rate of correct predictions for dimentions n = 12 0.5961538461538461\n",
            "rate of correct predictions for dimentions n = 13 0.5576923076923077\n",
            "rate of correct predictions for dimentions n = 14 0.5576923076923077\n",
            "rate of correct predictions for dimentions n = 15 0.5769230769230769\n",
            "rate of correct predictions for dimentions n = 16 0.5576923076923077\n",
            "rate of correct predictions for dimentions n = 17 0.5384615384615384\n",
            "rate of correct predictions for dimentions n = 18 0.5576923076923077\n",
            "rate of correct predictions for dimentions n = 19 0.5384615384615384\n",
            "rate of correct predictions for dimentions n = 20 0.5384615384615384\n",
            "rate of correct predictions for dimentions n = 21 0.5384615384615384\n",
            "rate of correct predictions for dimentions n = 22 0.6153846153846154\n",
            "rate of correct predictions for dimentions n = 23 0.5769230769230769\n",
            "rate of correct predictions for dimentions n = 24 0.5961538461538461\n",
            "rate of correct predictions for dimentions n = 25 0.5384615384615384\n",
            "rate of correct predictions for dimentions n = 26 0.4807692307692308\n",
            "rate of correct predictions for dimentions n = 27 0.5192307692307693\n",
            "rate of correct predictions for dimentions n = 28 0.5576923076923077\n",
            "rate of correct predictions for dimentions n = 29 0.5384615384615384\n",
            "rate of correct predictions for dimentions n = 30 0.5576923076923077\n",
            "rate of correct predictions for dimentions n = 31 0.5576923076923077\n",
            "rate of correct predictions for dimentions n = 32 0.4807692307692308\n",
            "rate of correct predictions for dimentions n = 33 0.5961538461538461\n",
            "rate of correct predictions for dimentions n = 34 0.5192307692307693\n",
            "rate of correct predictions for dimentions n = 35 0.5\n",
            "rate of correct predictions for dimentions n = 36 0.5576923076923077\n",
            "rate of correct predictions for dimentions n = 37 0.5192307692307693\n",
            "rate of correct predictions for dimentions n = 38 0.5576923076923077\n",
            "rate of correct predictions for dimentions n = 39 0.5384615384615384\n",
            "rate of correct predictions for dimentions n = 40 0.5576923076923077\n",
            "rate of correct predictions for dimentions n = 41 0.6153846153846154\n",
            "rate of correct predictions for dimentions n = 42 0.5384615384615384\n",
            "rate of correct predictions for dimentions n = 43 0.5576923076923077\n",
            "rate of correct predictions for dimentions n = 44 0.5961538461538461\n",
            "rate of correct predictions for dimentions n = 45 0.5769230769230769\n",
            "rate of correct predictions for dimentions n = 46 0.5576923076923077\n",
            "rate of correct predictions for dimentions n = 47 0.5961538461538461\n",
            "rate of correct predictions for dimentions n = 48 0.5576923076923077\n",
            "rate of correct predictions for dimentions n = 49 0.5192307692307693\n",
            "rate of correct predictions for dimentions n = 50 0.5\n",
            "rate of correct predictions for dimentions n = 51 0.5769230769230769\n",
            "rate of correct predictions for dimentions n = 52 0.4807692307692308\n",
            "rate of correct predictions for dimentions n = 53 0.5576923076923077\n",
            "rate of correct predictions for dimentions n = 54 0.5\n",
            "rate of correct predictions for dimentions n = 55 0.5384615384615384\n",
            "rate of correct predictions for dimentions n = 56 0.5384615384615384\n",
            "rate of correct predictions for dimentions n = 57 0.5192307692307693\n",
            "rate of correct predictions for dimentions n = 58 0.5961538461538461\n",
            "rate of correct predictions for dimentions n = 59 0.5961538461538461\n",
            "rate of correct predictions for dimentions n = 60 0.5576923076923077\n",
            "rate of correct predictions for dimentions n = 61 0.5192307692307693\n",
            "rate of correct predictions for dimentions n = 62 0.5384615384615384\n",
            "rate of correct predictions for dimentions n = 63 0.5192307692307693\n",
            "rate of correct predictions for dimentions n = 64 0.5576923076923077\n",
            "rate of correct predictions for dimentions n = 65 0.5192307692307693\n",
            "rate of correct predictions for dimentions n = 66 0.5192307692307693\n",
            "rate of correct predictions for dimentions n = 67 0.5192307692307693\n",
            "rate of correct predictions for dimentions n = 68 0.5\n",
            "rate of correct predictions for dimentions n = 69 0.5576923076923077\n",
            "rate of correct predictions for dimentions n = 70 0.4807692307692308\n",
            "rate of correct predictions for dimentions n = 71 0.5384615384615384\n",
            "rate of correct predictions for dimentions n = 72 0.5\n",
            "rate of correct predictions for dimentions n = 73 0.5192307692307693\n",
            "rate of correct predictions for dimentions n = 74 0.5384615384615384\n",
            "rate of correct predictions for dimentions n = 75 0.4807692307692308\n",
            "rate of correct predictions for dimentions n = 76 0.5384615384615384\n",
            "rate of correct predictions for dimentions n = 77 0.5\n",
            "rate of correct predictions for dimentions n = 78 0.5384615384615384\n",
            "rate of correct predictions for dimentions n = 79 0.5384615384615384\n",
            "rate of correct predictions for dimentions n = 80 0.5384615384615384\n",
            "rate of correct predictions for dimentions n = 81 0.5576923076923077\n",
            "rate of correct predictions for dimentions n = 82 0.6538461538461539\n",
            "rate of correct predictions for dimentions n = 83 0.5769230769230769\n",
            "rate of correct predictions for dimentions n = 84 0.5576923076923077\n",
            "rate of correct predictions for dimentions n = 85 0.5576923076923077\n",
            "rate of correct predictions for dimentions n = 86 0.5384615384615384\n",
            "rate of correct predictions for dimentions n = 87 0.5384615384615384\n",
            "rate of correct predictions for dimentions n = 88 0.6153846153846154\n",
            "rate of correct predictions for dimentions n = 89 0.5\n",
            "rate of correct predictions for dimentions n = 90 0.6153846153846154\n",
            "rate of correct predictions for dimentions n = 91 0.5769230769230769\n",
            "rate of correct predictions for dimentions n = 92 0.5961538461538461\n",
            "rate of correct predictions for dimentions n = 93 0.5\n",
            "rate of correct predictions for dimentions n = 94 0.5384615384615384\n",
            "rate of correct predictions for dimentions n = 95 0.5576923076923077\n",
            "rate of correct predictions for dimentions n = 96 0.5\n",
            "rate of correct predictions for dimentions n = 97 0.5384615384615384\n",
            "rate of correct predictions for dimentions n = 98 0.5192307692307693\n",
            "rate of correct predictions for dimentions n = 99 0.5961538461538461\n"
          ],
          "name": "stdout"
        },
        {
          "output_type": "execute_result",
          "data": {
            "text/plain": [
              "(1.0, 100.0)"
            ]
          },
          "metadata": {
            "tags": []
          },
          "execution_count": 39
        },
        {
          "output_type": "display_data",
          "data": {
            "image/png": "[encoded data removed]",
            "text/plain": [
              "<Figure size 432x288 with 1 Axes>"
            ]
          },
          "metadata": {
            "tags": [],
            "needs_background": "light"
          }
        }
      ]
    },
    {
      "cell_type": "code",
      "metadata": {
        "colab": {
          "base_uri": "https://localhost:8080/"
        },
        "id": "i4zcF0HTq-Da",
        "outputId": "f83d0b29-976c-4804-d17e-aaccaec5c234"
      },
      "source": [
        "#highest accuracy when n=50 on validation set\n",
        "\n",
        "# Reduce dimension to 2 with NeighborhoodComponentAnalysis\n",
        "nca = make_pipeline(StandardScaler(),\n",
        "                    NeighborhoodComponentsAnalysis(n_components=50,\n",
        "                                                   random_state=42))\n",
        "# Fit the model\n",
        "nca.fit(X_train, y_train)\n",
        "\n",
        "# Fit a nearest neighbor classifier on the embedded training set\n",
        "knn.fit(nca.transform(X_train), y_train)\n",
        "\n",
        "y_pred_train_nca = knn.predict(nca.transform(X_train))\n",
        "y_pred_val_nca = knn.predict(nca.transform(X_val))\n",
        "y_pred_test_nca = knn.predict(nca.transform(X_test))\n",
        "\n",
        "print('Accuracy on train set: ',metrics.accuracy_score(y_train, y_pred_train_nca))\n",
        "print('Accuracy on validation set: ',metrics.accuracy_score(y_val, y_pred_val_nca))\n",
        "print('Accuracy on test set: ',metrics.accuracy_score(y_test, y_pred_test_nca))"
      ],
      "execution_count": null,
      "outputs": [
        {
          "output_type": "stream",
          "text": [
            "Accuracy on train set:  0.6493506493506493\n",
            "Accuracy on validation set:  0.5\n",
            "Accuracy on test set:  0.5961538461538461\n"
          ],
          "name": "stdout"
        }
      ]
    },
    {
      "cell_type": "code",
      "metadata": {
        "id": "7jzumVHksrXR"
      },
      "source": [
        ""
      ],
      "execution_count": null,
      "outputs": []
    }
  ]
}