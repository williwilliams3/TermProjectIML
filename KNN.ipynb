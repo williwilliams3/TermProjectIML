{
  "nbformat": 4,
  "nbformat_minor": 0,
  "metadata": {
    "colab": {
      "name": "KNN.ipynb",
      "provenance": [],
      "collapsed_sections": []
    },
    "kernelspec": {
      "name": "python3",
      "display_name": "Python 3"
    }
  },
  "cells": [
    {
      "cell_type": "markdown",
      "metadata": {
        "id": "VAu8ecZHwzxv"
      },
      "source": [
        "Repeat KNN algorithm process with stratified sampling"
      ]
    },
    {
      "cell_type": "code",
      "metadata": {
        "id": "G4adJP_wRswu"
      },
      "source": [
        "#k nearest neighbours\n",
        "from sklearn.neighbors import KNeighborsClassifier \n",
        "from sklearn import metrics\n",
        "import matplotlib.pyplot as plt"
      ],
      "execution_count": 7,
      "outputs": []
    },
    {
      "cell_type": "code",
      "metadata": {
        "id": "OaPxSIsexERf"
      },
      "source": [
        "#data imports\n",
        "import pandas as pd\n",
        "import numpy as np\n",
        "from sklearn.model_selection import train_test_split\n",
        "\n",
        "def data_cleaner(df):\n",
        "    data = df.copy()\n",
        "    #remove the id, partlybad columns\n",
        "    data.drop([\"id\",\"partlybad\"],1,inplace=True)\n",
        "    #set new index using the date column\n",
        "    data.set_index([\"date\"],inplace=True)\n",
        "    #add binary 'class2' col for event/non-event\n",
        "    data[\"class2\"] = np.where(data[\"class4\"] == \"nonevent\", \"nonevent\",\"event\")\n",
        "    #arrange to put class2 col at the front\n",
        "    cols = ['class2'] + [col for col in data if col != 'class2']\n",
        "    data = data[cols]\n",
        "    return data\n",
        "\n",
        "##### New way to generate the data\n",
        "\n",
        "def data_generator(df):\n",
        "    '''\n",
        "    input:\n",
        "        df: dataframe to split stratified by variable class\n",
        "        class: string with variable to use as response and as variable to stratify by\n",
        "    output:\n",
        "        X_train, y_train: variables and response 60% data \n",
        "        X_val, y_val: variables and response 20% data \n",
        "        X_trainval, y_trainval: variables and response 80% data (for cross validation)\n",
        "        X_test, y_test: variables and response 20% data \n",
        "    '''\n",
        "    \n",
        "    X = df.drop([\"class2\",\"class4\"], axis=1)\n",
        "    y = df['class4']\n",
        "    \n",
        "    # 60%, 20%, 20%\n",
        "    # Generate TrainVal 80% and test 20% \n",
        "    X_trainval, X_test, y_trainval, y_test = train_test_split( X, y, test_size=0.20, random_state=42, stratify=y)\n",
        "    \n",
        "    # Furthermore split train into Train and Val\n",
        "    X_train, X_val, y_train, y_val= train_test_split( X_trainval, y_trainval, test_size=0.25, random_state=42, stratify=y_trainval)\n",
        "    \n",
        "    return X_train, X_val, X_trainval, X_test, y_train, y_val, y_trainval, y_test\n",
        "\n",
        "\n",
        "def convert_binary(y):\n",
        "    '''\n",
        "    Parameters\n",
        "    ----------\n",
        "    y : repsonse variable with 4 classes\n",
        "    Returns\n",
        "    -------\n",
        "    y : reponse variable 2 classes\n",
        "    '''\n",
        "    y_bin = np.where(y == \"nonevent\", \"nonevent\",\"event\")\n",
        "    return y_bin\n",
        "\n",
        "url = \"https://raw.githubusercontent.com/williwilliams3/TermProjectIML/master/data/train.csv\"\n",
        "df = pd.read_csv(url)\n",
        "df = data_cleaner(df)\n",
        "\n",
        "\n",
        "X_train, X_val, X_trainval, X_test, y_train, y_val, y_trainval, y_test = data_generator(df)\n",
        "\n",
        "# If needed conversion from 4 classes to binary classes\n",
        "y_train_bin = convert_binary(y_train)\n",
        "y_val_bin = convert_binary(y_val)\n",
        "y_trainval_bin = convert_binary(y_trainval)\n",
        "y_test_bin = convert_binary(y_test)\n",
        "\n"
      ],
      "execution_count": 9,
      "outputs": []
    },
    {
      "cell_type": "code",
      "metadata": {
        "colab": {
          "base_uri": "https://localhost:8080/",
          "height": 969
        },
        "id": "NTrDLpC2RvAa",
        "outputId": "d0efdc73-dbd6-471a-a4c6-3090970f69bb"
      },
      "source": [
        "#set up for storing error rate\n",
        "pred_rate = np.zeros(40)\n",
        "\n",
        "#find error rate on the validation set \n",
        "for k in range(1,40):\n",
        "    #run algorithm\n",
        "    knn = KNeighborsClassifier(n_neighbors=k) \n",
        "    #fit to training data\n",
        "    knn.fit(X_train, y_train_bin) \n",
        "    #predicted values for class2 on validation set\n",
        "    y_pred_val_bin = knn.predict(X_val)\n",
        "    #compare predictions with actual results\n",
        "    pred_rate[k] = metrics.accuracy_score(y_val_bin, y_pred_val_bin)\n",
        "    print('rate of correct predictions for k = %i' %k,pred_rate[k])\n",
        "\n",
        "f, ax = plt.subplots(1)\n",
        "plt.plot(pred_rate,color=\"green\")\n",
        "ax.set_xlim(1, 40)"
      ],
      "execution_count": 10,
      "outputs": [
        {
          "output_type": "stream",
          "text": [
            "rate of correct predictions for k = 1 0.9038461538461539\n",
            "rate of correct predictions for k = 2 0.7884615384615384\n",
            "rate of correct predictions for k = 3 0.7692307692307693\n",
            "rate of correct predictions for k = 4 0.7692307692307693\n",
            "rate of correct predictions for k = 5 0.8461538461538461\n",
            "rate of correct predictions for k = 6 0.8076923076923077\n",
            "rate of correct predictions for k = 7 0.8461538461538461\n",
            "rate of correct predictions for k = 8 0.8269230769230769\n",
            "rate of correct predictions for k = 9 0.7884615384615384\n",
            "rate of correct predictions for k = 10 0.8269230769230769\n",
            "rate of correct predictions for k = 11 0.7884615384615384\n",
            "rate of correct predictions for k = 12 0.8076923076923077\n",
            "rate of correct predictions for k = 13 0.8076923076923077\n",
            "rate of correct predictions for k = 14 0.7884615384615384\n",
            "rate of correct predictions for k = 15 0.8076923076923077\n",
            "rate of correct predictions for k = 16 0.8076923076923077\n",
            "rate of correct predictions for k = 17 0.8461538461538461\n",
            "rate of correct predictions for k = 18 0.8269230769230769\n",
            "rate of correct predictions for k = 19 0.8269230769230769\n",
            "rate of correct predictions for k = 20 0.8076923076923077\n",
            "rate of correct predictions for k = 21 0.8269230769230769\n",
            "rate of correct predictions for k = 22 0.8269230769230769\n",
            "rate of correct predictions for k = 23 0.8076923076923077\n",
            "rate of correct predictions for k = 24 0.8076923076923077\n",
            "rate of correct predictions for k = 25 0.8076923076923077\n",
            "rate of correct predictions for k = 26 0.7692307692307693\n",
            "rate of correct predictions for k = 27 0.8076923076923077\n",
            "rate of correct predictions for k = 28 0.8076923076923077\n",
            "rate of correct predictions for k = 29 0.7884615384615384\n",
            "rate of correct predictions for k = 30 0.7884615384615384\n",
            "rate of correct predictions for k = 31 0.7884615384615384\n",
            "rate of correct predictions for k = 32 0.8076923076923077\n",
            "rate of correct predictions for k = 33 0.7884615384615384\n",
            "rate of correct predictions for k = 34 0.7884615384615384\n",
            "rate of correct predictions for k = 35 0.7884615384615384\n",
            "rate of correct predictions for k = 36 0.7884615384615384\n",
            "rate of correct predictions for k = 37 0.7884615384615384\n",
            "rate of correct predictions for k = 38 0.7884615384615384\n",
            "rate of correct predictions for k = 39 0.7884615384615384\n"
          ],
          "name": "stdout"
        },
        {
          "output_type": "execute_result",
          "data": {
            "text/plain": [
              "(1.0, 40.0)"
            ]
          },
          "metadata": {
            "tags": []
          },
          "execution_count": 10
        },
        {
          "output_type": "display_data",
          "data": {
            "image/png": "[encoded data removed]",
            "text/plain": [
              "<Figure size 432x288 with 1 Axes>"
            ]
          },
          "metadata": {
            "tags": [],
            "needs_background": "light"
          }
        }
      ]
    },
    {
      "cell_type": "code",
      "metadata": {
        "colab": {
          "base_uri": "https://localhost:8080/",
          "height": 318
        },
        "id": "KiXJ1z9JSmKm",
        "outputId": "e9e915ed-09dc-457c-c689-f9a3c7ce45e7"
      },
      "source": [
        "#k=3 \n",
        "#run on test set \n",
        "\n",
        "knn = KNeighborsClassifier(n_neighbors=3) \n",
        "#fit with optimum k to training data\n",
        "knn.fit(X_train, y_train_bin) \n",
        "\n",
        "y_pred_test = knn.predict(X_test)\n",
        "\n",
        "print('multiclass accuracy for 3-NN on test set=', metrics.accuracy_score(y_test_bin, y_pred_test))\n",
        "\n",
        "#map predictions on heat map\n",
        "confusion_matrix = pd.crosstab(y_test_bin, y_pred_test, rownames=['Actual'], colnames=['Predicted'])\n",
        "sns.heatmap(confusion_matrix, annot=True)\n"
      ],
      "execution_count": 15,
      "outputs": [
        {
          "output_type": "stream",
          "text": [
            "multiclass accuracy for 3-NN on test set= 0.75\n"
          ],
          "name": "stdout"
        },
        {
          "output_type": "execute_result",
          "data": {
            "text/plain": [
              "<matplotlib.axes._subplots.AxesSubplot at 0x7f5d988e6208>"
            ]
          },
          "metadata": {
            "tags": []
          },
          "execution_count": 15
        },
        {
          "output_type": "display_data",
          "data": {
            "image/png": "[encoded data removed]",
            "text/plain": [
              "<Figure size 432x288 with 2 Axes>"
            ]
          },
          "metadata": {
            "tags": [],
            "needs_background": "light"
          }
        }
      ]
    },
    {
      "cell_type": "code",
      "metadata": {
        "colab": {
          "base_uri": "https://localhost:8080/",
          "height": 969
        },
        "id": "C384sEBqsmB3",
        "outputId": "594eaac9-3ada-40c9-d178-bcc528c657ad"
      },
      "source": [
        "#set up for storing error rate\n",
        "pred_rate = np.zeros(40)\n",
        "\n",
        "#find error rate on the validation set \n",
        "for k in range(1,40):\n",
        "    #run algorithm\n",
        "    knn = KNeighborsClassifier(n_neighbors=k) \n",
        "    #fit to training data\n",
        "    knn.fit(X_train, y_train) \n",
        "    #predicted values for class2 on validation set\n",
        "    y_pred_val = knn.predict(X_val)\n",
        "    #compare predictions with actual results\n",
        "    pred_rate[k] = metrics.accuracy_score(y_val, y_pred_val)\n",
        "    print('rate of correct predictions for k = %i' %k,pred_rate[k])\n",
        "\n",
        "f, ax = plt.subplots(1)\n",
        "plt.plot(pred_rate,color=\"fuchsia\")\n",
        "ax.set_xlim(1, 40)"
      ],
      "execution_count": 3,
      "outputs": [
        {
          "output_type": "stream",
          "text": [
            "rate of correct predictions for k = 1 0.6153846153846154\n",
            "rate of correct predictions for k = 2 0.5192307692307693\n",
            "rate of correct predictions for k = 3 0.5769230769230769\n",
            "rate of correct predictions for k = 4 0.6153846153846154\n",
            "rate of correct predictions for k = 5 0.5961538461538461\n",
            "rate of correct predictions for k = 6 0.6153846153846154\n",
            "rate of correct predictions for k = 7 0.5769230769230769\n",
            "rate of correct predictions for k = 8 0.6153846153846154\n",
            "rate of correct predictions for k = 9 0.6538461538461539\n",
            "rate of correct predictions for k = 10 0.6923076923076923\n",
            "rate of correct predictions for k = 11 0.6153846153846154\n",
            "rate of correct predictions for k = 12 0.5961538461538461\n",
            "rate of correct predictions for k = 13 0.5961538461538461\n",
            "rate of correct predictions for k = 14 0.5769230769230769\n",
            "rate of correct predictions for k = 15 0.5769230769230769\n",
            "rate of correct predictions for k = 16 0.5576923076923077\n",
            "rate of correct predictions for k = 17 0.5576923076923077\n",
            "rate of correct predictions for k = 18 0.5384615384615384\n",
            "rate of correct predictions for k = 19 0.5384615384615384\n",
            "rate of correct predictions for k = 20 0.5384615384615384\n",
            "rate of correct predictions for k = 21 0.5576923076923077\n",
            "rate of correct predictions for k = 22 0.5769230769230769\n",
            "rate of correct predictions for k = 23 0.5576923076923077\n",
            "rate of correct predictions for k = 24 0.5384615384615384\n",
            "rate of correct predictions for k = 25 0.5576923076923077\n",
            "rate of correct predictions for k = 26 0.5384615384615384\n",
            "rate of correct predictions for k = 27 0.5576923076923077\n",
            "rate of correct predictions for k = 28 0.5769230769230769\n",
            "rate of correct predictions for k = 29 0.5576923076923077\n",
            "rate of correct predictions for k = 30 0.5384615384615384\n",
            "rate of correct predictions for k = 31 0.5576923076923077\n",
            "rate of correct predictions for k = 32 0.5384615384615384\n",
            "rate of correct predictions for k = 33 0.5576923076923077\n",
            "rate of correct predictions for k = 34 0.5192307692307693\n",
            "rate of correct predictions for k = 35 0.5961538461538461\n",
            "rate of correct predictions for k = 36 0.5769230769230769\n",
            "rate of correct predictions for k = 37 0.5769230769230769\n",
            "rate of correct predictions for k = 38 0.5769230769230769\n",
            "rate of correct predictions for k = 39 0.5576923076923077\n"
          ],
          "name": "stdout"
        },
        {
          "output_type": "execute_result",
          "data": {
            "text/plain": [
              "(1.0, 40.0)"
            ]
          },
          "metadata": {
            "tags": []
          },
          "execution_count": 3
        },
        {
          "output_type": "display_data",
          "data": {
            "image/png": "[encoded data removed]",
            "text/plain": [
              "<Figure size 432x288 with 1 Axes>"
            ]
          },
          "metadata": {
            "tags": [],
            "needs_background": "light"
          }
        }
      ]
    },
    {
      "cell_type": "code",
      "metadata": {
        "colab": {
          "base_uri": "https://localhost:8080/",
          "height": 314
        },
        "id": "xmwJiG5Xs72v",
        "outputId": "f48e9552-f3a5-4202-fda9-1855b1a67ed4"
      },
      "source": [
        "#k=34 gives lowest error\n",
        "#run on test set\n",
        "\n",
        "knn = KNeighborsClassifier(n_neighbors=34) \n",
        "#fit with optimum k to training data\n",
        "knn.fit(X_train, y_train) \n",
        "\n",
        "y_pred_test = knn.predict(X_test)\n",
        "\n",
        "print('multiclass accuracy for 34-NN on test set=', metrics.accuracy_score(y_test, y_pred_test))\n",
        "\n",
        "#map predictions on heat map\n",
        "confusion_matrix = pd.crosstab(y_test, y_pred_test, rownames=['Actual'], colnames=['Predicted'])\n",
        "sns.heatmap(confusion_matrix, annot=True)"
      ],
      "execution_count": null,
      "outputs": [
        {
          "output_type": "stream",
          "text": [
            "multiclass accuracy for 34-NN on test set= 0.5\n"
          ],
          "name": "stdout"
        },
        {
          "output_type": "execute_result",
          "data": {
            "text/plain": [
              "<matplotlib.axes._subplots.AxesSubplot at 0x7f44197daf60>"
            ]
          },
          "metadata": {
            "tags": []
          },
          "execution_count": 20
        },
        {
          "output_type": "display_data",
          "data": {
            "image/png": "[encoded data removed]",
            "text/plain": [
              "<Figure size 432x288 with 2 Axes>"
            ]
          },
          "metadata": {
            "tags": [],
            "needs_background": "light"
          }
        }
      ]
    },
    {
      "cell_type": "code",
      "metadata": {
        "colab": {
          "base_uri": "https://localhost:8080/",
          "height": 282
        },
        "id": "pPGTJ8K_T5Us",
        "outputId": "998110fa-195f-4e03-d7ef-fa9e230a3b96"
      },
      "source": [
        "#normalised x data\n",
        "\n",
        "from sklearn.preprocessing import StandardScaler\n",
        "X_train_norm = StandardScaler().fit_transform(X_train)\n",
        "X_test_norm = StandardScaler().fit_transform(X_test)\n",
        "X_val_norm = StandardScaler().fit_transform(X_val)\n",
        "\n",
        "#repeat \n",
        "#set up for storing error rate\n",
        "pred_rate = np.zeros(40)\n",
        "\n",
        "#find error rate on the validation set \n",
        "for k in range(1,40):\n",
        "    #run algorithm\n",
        "    knn = KNeighborsClassifier(n_neighbors=k) \n",
        "    #fit to training data\n",
        "    knn.fit(X_train_norm, y_train) \n",
        "    #predicted values for class2 on validation set\n",
        "    y_pred_val = knn.predict(X_val_norm)\n",
        "    #compare predictions with actual results\n",
        "    pred_rate[k] = metrics.accuracy_score(y_val, y_pred_val)\n",
        "    #print('rate of correct predictions for k = %i' %k,pred_rate[k])\n",
        "\n",
        "f, ax = plt.subplots(1)\n",
        "plt.plot(pred_rate,color=\"blue\")\n",
        "ax.set_xlim(1, 40)\n"
      ],
      "execution_count": 23,
      "outputs": [
        {
          "output_type": "execute_result",
          "data": {
            "text/plain": [
              "(1.0, 40.0)"
            ]
          },
          "metadata": {
            "tags": []
          },
          "execution_count": 23
        },
        {
          "output_type": "display_data",
          "data": {
            "image/png": "[encoded data removed]",
            "text/plain": [
              "<Figure size 432x288 with 1 Axes>"
            ]
          },
          "metadata": {
            "tags": [],
            "needs_background": "light"
          }
        }
      ]
    },
    {
      "cell_type": "code",
      "metadata": {
        "colab": {
          "base_uri": "https://localhost:8080/",
          "height": 314
        },
        "id": "OMeuLx4PVQdw",
        "outputId": "766399fe-ad4f-441e-961c-e2512d478b7f"
      },
      "source": [
        "#k=27\n",
        "\n",
        "knn = KNeighborsClassifier(n_neighbors=27) \n",
        "#fit with optimum k to training data\n",
        "knn.fit(X_train_norm, y_train) \n",
        "\n",
        "y_pred_test = knn.predict(X_test_norm)\n",
        "\n",
        "print('multiclass accuracy for 27-NN on test set=', metrics.accuracy_score(y_test, y_pred_test))\n",
        "\n",
        "#map predictions on heat map\n",
        "confusion_matrix = pd.crosstab(y_test, y_pred_test, rownames=['Actual'], colnames=['Predicted'])\n",
        "sns.heatmap(confusion_matrix, annot=True)"
      ],
      "execution_count": 25,
      "outputs": [
        {
          "output_type": "stream",
          "text": [
            "multiclass accuracy for 27-NN on test set= 0.5576923076923077\n"
          ],
          "name": "stdout"
        },
        {
          "output_type": "execute_result",
          "data": {
            "text/plain": [
              "<matplotlib.axes._subplots.AxesSubplot at 0x7f5d98553c18>"
            ]
          },
          "metadata": {
            "tags": []
          },
          "execution_count": 25
        },
        {
          "output_type": "display_data",
          "data": {
            "image/png": "[encoded data removed]",
            "text/plain": [
              "<Figure size 432x288 with 2 Axes>"
            ]
          },
          "metadata": {
            "tags": [],
            "needs_background": "light"
          }
        }
      ]
    },
    {
      "cell_type": "code",
      "metadata": {
        "id": "RDYWOa27ZZwl"
      },
      "source": [
        ""
      ],
      "execution_count": null,
      "outputs": []
    }
  ]
}