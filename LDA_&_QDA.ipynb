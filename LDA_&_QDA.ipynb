{
  "nbformat": 4,
  "nbformat_minor": 0,
  "metadata": {
    "colab": {
      "name": "LDA & QDA.ipynb",
      "provenance": [],
      "collapsed_sections": []
    },
    "kernelspec": {
      "name": "python3",
      "display_name": "Python 3"
    }
  },
  "cells": [
    {
      "cell_type": "code",
      "metadata": {
        "id": "FiD45DoKN6VY"
      },
      "source": [
        "import pandas as pd\n",
        "import numpy as np\n",
        "\n",
        "from sklearn.discriminant_analysis import LinearDiscriminantAnalysis, QuadraticDiscriminantAnalysis\n",
        "from sklearn.metrics import confusion_matrix, classification_report, precision_score, accuracy_score\n",
        "from sklearn.metrics import accuracy_score, confusion_matrix\n",
        "from sklearn import metrics\n",
        "\n",
        "import numpy as np\n",
        "import pandas as pd\n",
        "from scipy import linalg\n",
        "from sklearn.manifold import TSNE\n",
        "import matplotlib.pyplot as plt\n",
        "import matplotlib.patches as mpatches\n",
        "import pandas as pd\n",
        "import numpy as np\n",
        "import seaborn as sns\n",
        "from sklearn import preprocessing \n",
        "from sklearn.feature_selection import chi2, SelectKBest\n",
        "from sklearn.metrics import accuracy_score, confusion_matrix\n",
        "from matplotlib.pyplot import figure\n",
        "from sklearn.model_selection import train_test_split\n",
        "\n",
        "\n",
        "%matplotlib inline"
      ],
      "execution_count": 20,
      "outputs": []
    },
    {
      "cell_type": "code",
      "metadata": {
        "id": "ecxFkC2jN8a9"
      },
      "source": [
        "\n",
        "def data_cleaner(df):\n",
        "    data = df.copy()\n",
        "    #remove the id, partlybad columns\n",
        "    data.drop([\"id\",\"partlybad\"],1,inplace=True)\n",
        "    #set new index using the date column\n",
        "    data.set_index([\"date\"],inplace=True)\n",
        "    #add binary 'class2' col for event/non-event\n",
        "    data[\"class2\"] = np.where(data[\"class4\"] == \"nonevent\", \"nonevent\",\"event\")\n",
        "    #arrange to put class2 col at the front\n",
        "    cols = ['class2'] + [col for col in data if col != 'class2']\n",
        "    data = data[cols]\n",
        "    return data\n",
        "\n",
        "##### New way to generate the data\n",
        "\n",
        "def data_generator(df):\n",
        "    '''\n",
        "    input:\n",
        "        df: dataframe to split stratified by variable class\n",
        "        class: string with variable to use as response and as variable to stratify by\n",
        "    output:\n",
        "        X_train, y_train: variables and response 60% data \n",
        "        X_val, y_val: variables and response 20% data \n",
        "        X_trainval, y_trainval: variables and response 80% data (for cross validation)\n",
        "        X_test, y_test: variables and response 20% data \n",
        "    '''\n",
        "    \n",
        "    X = df.drop([\"class2\",\"class4\"], axis=1)\n",
        "    y = df['class4']\n",
        "    \n",
        "    # 60%, 20%, 20%\n",
        "    # Generate TrainVal 80% and test 20% \n",
        "    X_trainval, X_test, y_trainval, y_test = train_test_split( X, y, test_size=0.20, random_state=42, stratify=y)\n",
        "    \n",
        "    # Furthermore split train into Train and Val\n",
        "    X_train, X_val, y_train, y_val= train_test_split( X_trainval, y_trainval, test_size=0.25, random_state=42, stratify=y_trainval)\n",
        "    \n",
        "    return X_train, X_val, X_trainval, X_test, y_train, y_val, y_trainval, y_test\n",
        "\n",
        "def convert_binary(y):\n",
        "    '''\n",
        "    Parameters\n",
        "    ----------\n",
        "    y : repsonse variable with 4 classes\n",
        "    Returns\n",
        "    -------\n",
        "    y : reponse variable 2 classes\n",
        "    '''\n",
        "    y_bin = np.where(y == \"nonevent\", \"nonevent\",\"event\")\n",
        "    return y_bin\n",
        "\n",
        "url = \"https://raw.githubusercontent.com/williwilliams3/TermProjectIML/master/data/train.csv\"\n",
        "df = pd.read_csv(url)\n",
        "df = data_cleaner(df)\n",
        "\n",
        "X_train, X_val, X_trainval, X_test, y_train, y_val, y_trainval, y_test = data_generator(df)\n",
        "\n",
        "# If needed conversion from 4 classes to binary classes\n",
        "y_train_bin = convert_binary(y_train)\n",
        "y_val_bin = convert_binary(y_val)\n",
        "y_trainval_bin = convert_binary(y_trainval)\n",
        "y_test_bin = convert_binary(y_test)\n"
      ],
      "execution_count": 3,
      "outputs": []
    },
    {
      "cell_type": "code",
      "metadata": {
        "colab": {
          "base_uri": "https://localhost:8080/"
        },
        "id": "bGmRe4M1OJXH",
        "outputId": "2451e602-4a76-49b0-91f2-898bfcda34d2"
      },
      "source": [
        "\n",
        "lda = LinearDiscriminantAnalysis()\n",
        "model = lda.fit(X_train, y_train)\n",
        "\n",
        "print(model.priors_)"
      ],
      "execution_count": 21,
      "outputs": [
        {
          "output_type": "stream",
          "text": [
            "[0.22077922 0.07142857 0.21428571 0.49350649]\n"
          ],
          "name": "stdout"
        }
      ]
    },
    {
      "cell_type": "code",
      "metadata": {
        "colab": {
          "base_uri": "https://localhost:8080/"
        },
        "id": "HMDP9UyiOkge",
        "outputId": "ddf62007-5f95-4d1d-b81c-8d657b2b1fdc"
      },
      "source": [
        "y_pred_test =model.predict(X_test)\n",
        "print(np.unique(pred, return_counts=True))\n"
      ],
      "execution_count": 22,
      "outputs": [
        {
          "output_type": "stream",
          "text": [
            "(array(['II', 'Ia', 'Ib', 'nonevent'], dtype='<U8'), array([10,  4, 20, 18]))\n"
          ],
          "name": "stdout"
        }
      ]
    },
    {
      "cell_type": "code",
      "metadata": {
        "colab": {
          "base_uri": "https://localhost:8080/",
          "height": 490
        },
        "id": "z7EqcEaqOpZ8",
        "outputId": "6d0c79e1-0c84-4aeb-d965-b9ecc708a421"
      },
      "source": [
        "print(classification_report(y_test, pred, digits=3))\n",
        "confusion_matrix = pd.crosstab(y_test, y_pred_test, rownames=['Actual'], colnames=['Predicted'])\n",
        "sns.heatmap(confusion_matrix, annot=True)\n",
        "\n",
        "print('Accuracy on test set: ', metrics.accuracy_score(y_test, y_pred_test))"
      ],
      "execution_count": 23,
      "outputs": [
        {
          "output_type": "stream",
          "text": [
            "              precision    recall  f1-score   support\n",
            "\n",
            "          II      0.200     0.182     0.190        11\n",
            "          Ia      0.000     0.000     0.000         4\n",
            "          Ib      0.300     0.545     0.387        11\n",
            "    nonevent      0.722     0.500     0.591        26\n",
            "\n",
            "    accuracy                          0.404        52\n",
            "   macro avg      0.306     0.307     0.292        52\n",
            "weighted avg      0.467     0.404     0.418        52\n",
            "\n",
            "Accuracy on test set:  0.40384615384615385\n"
          ],
          "name": "stdout"
        },
        {
          "output_type": "display_data",
          "data": {
            "image/png": "[encoded data removed]",
            "text/plain": [
              "<Figure size 432x288 with 2 Axes>"
            ]
          },
          "metadata": {
            "tags": [],
            "needs_background": "light"
          }
        }
      ]
    },
    {
      "cell_type": "code",
      "metadata": {
        "colab": {
          "base_uri": "https://localhost:8080/"
        },
        "id": "TDcQ0AdAOr_d",
        "outputId": "d8b57050-3d1b-4aa1-b0fe-0a81c3bd9f0c"
      },
      "source": [
        "qda = QuadraticDiscriminantAnalysis()\n",
        "model2 = qda.fit(X_train, y_train)\n",
        "print(model2.priors_)"
      ],
      "execution_count": 24,
      "outputs": [
        {
          "output_type": "stream",
          "text": [
            "[0.22077922 0.07142857 0.21428571 0.49350649]\n"
          ],
          "name": "stdout"
        },
        {
          "output_type": "stream",
          "text": [
            "/usr/local/lib/python3.6/dist-packages/sklearn/discriminant_analysis.py:691: UserWarning: Variables are collinear\n",
            "  warnings.warn(\"Variables are collinear\")\n"
          ],
          "name": "stderr"
        }
      ]
    },
    {
      "cell_type": "code",
      "metadata": {
        "colab": {
          "base_uri": "https://localhost:8080/",
          "height": 494
        },
        "id": "a7kxHlYtOx_w",
        "outputId": "3f1684fe-f656-4ebc-eb1f-fd5ff09de843"
      },
      "source": [
        "y_pred_test=model2.predict(X_test)\n",
        "\n",
        "print(classification_report(y_test, pred, digits=3))\n",
        "confusion_matrix = pd.crosstab(y_test, y_pred_test, rownames=['Actual'], colnames=['Predicted'])\n",
        "sns.heatmap(confusion_matrix, annot=True)\n",
        "\n",
        "print('Accuracy on test set: ', metrics.accuracy_score(y_test, y_pred_test))\n"
      ],
      "execution_count": 25,
      "outputs": [
        {
          "output_type": "stream",
          "text": [
            "              precision    recall  f1-score   support\n",
            "\n",
            "          II      0.200     0.182     0.190        11\n",
            "          Ia      0.000     0.000     0.000         4\n",
            "          Ib      0.300     0.545     0.387        11\n",
            "    nonevent      0.722     0.500     0.591        26\n",
            "\n",
            "    accuracy                          0.404        52\n",
            "   macro avg      0.306     0.307     0.292        52\n",
            "weighted avg      0.467     0.404     0.418        52\n",
            "\n",
            "Accuracy on test set:  0.4423076923076923\n"
          ],
          "name": "stdout"
        },
        {
          "output_type": "display_data",
          "data": {
            "image/png": "[encoded data removed]",
            "text/plain": [
              "<Figure size 432x288 with 2 Axes>"
            ]
          },
          "metadata": {
            "tags": [],
            "needs_background": "light"
          }
        }
      ]
    },
    {
      "cell_type": "code",
      "metadata": {
        "id": "AO9_RSUxO5Zp"
      },
      "source": [
        "def select_n_best_feature(X, y, n):\n",
        "    # Normalize X values to be between 0 and 1\n",
        "    x = X.values\n",
        "    min_max_scaler = preprocessing.MinMaxScaler()\n",
        "    x_scaled = min_max_scaler.fit_transform(x)\n",
        "    X = pd.DataFrame(x_scaled)\n",
        "\n",
        "    # Use SelectKBest class to extract top n best features\n",
        "    bestfeatures = SelectKBest(score_func=chi2, k=n)\n",
        "    fit = bestfeatures.fit(X,y)\n",
        "    dfscores = pd.DataFrame(fit.scores_)\n",
        "    dfcolumns = pd.DataFrame(X.columns)\n",
        "\n",
        "    # Concat two dataframes for better visualization and print best features\n",
        "    featureScores = pd.concat([dfcolumns,dfscores],axis=1)\n",
        "    featureScores.columns = ['Feature_index','Score']\n",
        "    #print(featureScores.nlargest(n,'Score'))\n",
        "\n",
        "    # Filter X. Leave only top n features\n",
        "    #X = bestfeatures.fit_transform(X, y)\n",
        "    \n",
        "    # Return X\n",
        "    #return X\n",
        "    return bestfeatures"
      ],
      "execution_count": 26,
      "outputs": []
    },
    {
      "cell_type": "code",
      "metadata": {
        "colab": {
          "base_uri": "https://localhost:8080/",
          "height": 1000
        },
        "id": "fIJqNyzAP6eI",
        "outputId": "1aea49a6-288c-43d7-d365-f08440280a2a"
      },
      "source": [
        "#normalise data\n",
        "\n",
        "def normalize_0to1(X):\n",
        "    # Normalize X values to be between 0 and 1\n",
        "    x = X.values\n",
        "    min_max_scaler = preprocessing.MinMaxScaler()\n",
        "    x_scaled = min_max_scaler.fit_transform(x)\n",
        "    return pd.DataFrame(x_scaled)\n",
        "\n",
        "X_train_norm = normalize_0to1(X_train)\n",
        "X_val_norm = normalize_0to1(X_val)\n",
        "X_test_norm = normalize_0to1(X_test)\n",
        "\n",
        "acc_rate = np.zeros(100)\n",
        "\n",
        "for i in range(1,100): \n",
        "    bestFeaturesFilter = select_n_best_feature(X_train, y_train, i)\n",
        "    X_train_filter = bestFeaturesFilter.fit_transform(X_train_norm, y_train)\n",
        "    X_val_filter = bestFeaturesFilter.fit_transform(X_val_norm, y_val)\n",
        "    X_test_filter = bestFeaturesFilter.fit_transform(X_test_norm, y_test) \n",
        "    \n",
        "    lda = LinearDiscriminantAnalysis()\n",
        "    model = lda.fit(X_train_filter, y_train)\n",
        "\n",
        "    y_pred_val=model.predict(X_val_filter)\n",
        "\n",
        "#    print('Accuracy on test set: ',metrics.accuracy_score(y_test_bin, y_pred_test))\n",
        "    acc_rate[i] = metrics.accuracy_score(y_val, y_pred_val)\n",
        "#    print('Accuracy on train set: ',metrics.accuracy_score(y_train_bin, y_pred_train))\n",
        "    print('for  k = %i' %i, acc_rate[i])\n",
        "\n",
        "f, ax = plt.subplots(1)\n",
        "plt.plot(acc_rate,color=\"green\")\n",
        "ax.set_xlim(1, 100)"
      ],
      "execution_count": 31,
      "outputs": [
        {
          "output_type": "stream",
          "text": [
            "for  k = 1 0.6346153846153846\n",
            "for  k = 2 0.6153846153846154\n",
            "for  k = 3 0.6538461538461539\n",
            "for  k = 4 0.5384615384615384\n",
            "for  k = 5 0.5\n",
            "for  k = 6 0.46153846153846156\n",
            "for  k = 7 0.5576923076923077\n",
            "for  k = 8 0.5192307692307693\n",
            "for  k = 9 0.23076923076923078\n",
            "for  k = 10 0.07692307692307693\n",
            "for  k = 11 0.09615384615384616\n",
            "for  k = 12 0.19230769230769232\n",
            "for  k = 13 0.21153846153846154\n",
            "for  k = 14 0.4423076923076923\n",
            "for  k = 15 0.17307692307692307\n",
            "for  k = 16 0.057692307692307696\n",
            "for  k = 17 0.15384615384615385\n",
            "for  k = 18 0.038461538461538464\n",
            "for  k = 19 0.36538461538461536\n",
            "for  k = 20 0.17307692307692307\n",
            "for  k = 21 0.19230769230769232\n",
            "for  k = 22 0.25\n",
            "for  k = 23 0.2692307692307692\n",
            "for  k = 24 0.23076923076923078\n",
            "for  k = 25 0.2692307692307692\n",
            "for  k = 26 0.25\n",
            "for  k = 27 0.36538461538461536\n",
            "for  k = 28 0.23076923076923078\n",
            "for  k = 29 0.38461538461538464\n",
            "for  k = 30 0.3269230769230769\n",
            "for  k = 31 0.057692307692307696\n",
            "for  k = 32 0.1346153846153846\n",
            "for  k = 33 0.36538461538461536\n",
            "for  k = 34 0.3076923076923077\n",
            "for  k = 35 0.057692307692307696\n",
            "for  k = 36 0.1346153846153846\n",
            "for  k = 37 0.15384615384615385\n",
            "for  k = 38 0.1346153846153846\n",
            "for  k = 39 0.28846153846153844\n",
            "for  k = 40 0.2692307692307692\n",
            "for  k = 41 0.23076923076923078\n",
            "for  k = 42 0.28846153846153844\n",
            "for  k = 43 0.3076923076923077\n",
            "for  k = 44 0.28846153846153844\n",
            "for  k = 45 0.28846153846153844\n",
            "for  k = 46 0.1346153846153846\n",
            "for  k = 47 0.057692307692307696\n",
            "for  k = 48 0.23076923076923078\n",
            "for  k = 49 0.17307692307692307\n",
            "for  k = 50 0.23076923076923078\n",
            "for  k = 51 0.17307692307692307\n",
            "for  k = 52 0.23076923076923078\n",
            "for  k = 53 0.4230769230769231\n",
            "for  k = 54 0.3076923076923077\n",
            "for  k = 55 0.4423076923076923\n",
            "for  k = 56 0.40384615384615385\n",
            "for  k = 57 0.34615384615384615\n",
            "for  k = 58 0.17307692307692307\n",
            "for  k = 59 0.34615384615384615\n",
            "for  k = 60 0.11538461538461539\n",
            "for  k = 61 0.15384615384615385\n",
            "for  k = 62 0.3269230769230769\n",
            "for  k = 63 0.3076923076923077\n",
            "for  k = 64 0.4230769230769231\n",
            "for  k = 65 0.36538461538461536\n",
            "for  k = 66 0.3269230769230769\n",
            "for  k = 67 0.4423076923076923\n",
            "for  k = 68 0.25\n",
            "for  k = 69 0.23076923076923078\n",
            "for  k = 70 0.4230769230769231\n",
            "for  k = 71 0.4423076923076923\n",
            "for  k = 72 0.4807692307692308\n",
            "for  k = 73 0.5\n",
            "for  k = 74 0.40384615384615385\n",
            "for  k = 75 0.25\n",
            "for  k = 76 0.11538461538461539\n",
            "for  k = 77 0.11538461538461539\n",
            "for  k = 78 0.07692307692307693\n",
            "for  k = 79 0.25\n",
            "for  k = 80 0.19230769230769232\n",
            "for  k = 81 0.1346153846153846\n",
            "for  k = 82 0.15384615384615385\n",
            "for  k = 83 0.21153846153846154\n",
            "for  k = 84 0.21153846153846154\n",
            "for  k = 85 0.15384615384615385\n",
            "for  k = 86 0.17307692307692307\n",
            "for  k = 87 0.3076923076923077\n",
            "for  k = 88 0.3076923076923077\n",
            "for  k = 89 0.3269230769230769\n",
            "for  k = 90 0.19230769230769232\n",
            "for  k = 91 0.19230769230769232\n",
            "for  k = 92 0.19230769230769232\n",
            "for  k = 93 0.28846153846153844\n",
            "for  k = 94 0.2692307692307692\n",
            "for  k = 95 0.25\n",
            "for  k = 96 0.28846153846153844\n",
            "for  k = 97 0.40384615384615385\n",
            "for  k = 98 0.17307692307692307\n",
            "for  k = 99 0.21153846153846154\n"
          ],
          "name": "stdout"
        },
        {
          "output_type": "execute_result",
          "data": {
            "text/plain": [
              "(1.0, 100.0)"
            ]
          },
          "metadata": {
            "tags": []
          },
          "execution_count": 31
        },
        {
          "output_type": "display_data",
          "data": {
            "image/png": "[encoded data removed]",
            "text/plain": [
              "<Figure size 432x288 with 1 Axes>"
            ]
          },
          "metadata": {
            "tags": [],
            "needs_background": "light"
          }
        }
      ]
    },
    {
      "cell_type": "code",
      "metadata": {
        "colab": {
          "base_uri": "https://localhost:8080/"
        },
        "id": "C3YBvlaxP6GX",
        "outputId": "735671ed-c2e2-4d2b-9760-9b5db3b542e7"
      },
      "source": [
        "bestFeaturesFilter = select_n_best_feature(X_train, y_train, 3)\n",
        "X_train_filter = bestFeaturesFilter.fit_transform(X_train_norm, y_train)\n",
        "X_val_filter = bestFeaturesFilter.fit_transform(X_val_norm, y_val)\n",
        "X_test_filter = bestFeaturesFilter.fit_transform(X_test_norm, y_test) \n",
        "\n",
        "lda = LinearDiscriminantAnalysis()\n",
        "model = lda.fit(X_train_filter, y_train)\n",
        "\n",
        "y_pred_test=model.predict(X_test_filter)\n",
        "\n",
        "#    print('Accuracy on test set: ',metrics.accuracy_score(y_test_bin, y_pred_test))\n",
        "acc_rate = metrics.accuracy_score(y_test, y_pred_test)\n",
        "#    print('Accuracy on train set: ',metrics.accuracy_score(y_train_bin, y_pred_train))\n",
        "print('Accuracy on test with 3 features', acc_rate)"
      ],
      "execution_count": 33,
      "outputs": [
        {
          "output_type": "stream",
          "text": [
            "Accuracy on test with 3 features 0.40384615384615385\n"
          ],
          "name": "stdout"
        }
      ]
    },
    {
      "cell_type": "code",
      "metadata": {
        "id": "CW_wvtneRN-d"
      },
      "source": [
        ""
      ],
      "execution_count": null,
      "outputs": []
    }
  ]
}