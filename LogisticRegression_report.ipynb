{
  "nbformat": 4,
  "nbformat_minor": 0,
  "metadata": {
    "colab": {
      "name": "LogisticRegression_report.ipynb",
      "provenance": []
    },
    "kernelspec": {
      "name": "python3",
      "display_name": "Python 3"
    }
  },
  "cells": [
    {
      "cell_type": "markdown",
      "metadata": {
        "id": "tEW3UWOuotCJ"
      },
      "source": [
        "Logistic Regression "
      ]
    },
    {
      "cell_type": "code",
      "metadata": {
        "id": "U2KfccsyyyHE"
      },
      "source": [
        "import numpy as np\n",
        "import pandas as pd\n",
        "\n",
        "def data_cleaner(data):\n",
        "    #remove the id, partlybad columns\n",
        "    data.drop([\"id\",\"partlybad\"],1,inplace=True)\n",
        "    #set new index using the date column\n",
        "    data.set_index([\"date\"],inplace=True)\n",
        "    #add binary 'class2' col for event/non-event\n",
        "    data[\"class2\"] = np.where(data[\"class4\"] == \"nonevent\", \"nonevent\",\"event\")\n",
        "    #arrange to put class2 col at the front\n",
        "    cols = ['class2'] + [col for col in data if col != 'class2']\n",
        "    data = data[cols]\n",
        "    return data"
      ],
      "execution_count": 4,
      "outputs": []
    },
    {
      "cell_type": "code",
      "metadata": {
        "id": "UnfLeArOrgmQ"
      },
      "source": [
        "#data imports \n",
        "\n",
        "#load training data\n",
        "url = \"https://raw.githubusercontent.com/williwilliams3/TermProjectIML/master/data/train.csv\"\n",
        "npf_train_raw = pd.read_csv(url)\n",
        "npf_train = data_cleaner(npf_train_raw)\n",
        "\n",
        "#create feature array and target column for training data\n",
        "X_train = npf_train.iloc[:,2:]\n",
        "y_train = npf_train[\"class2\"]\n",
        "\n",
        "#import validation data\n",
        "npf_validation_raw = pd.read_csv(\"https://raw.githubusercontent.com/williwilliams3/TermProjectIML/master/data/validation.csv\")\n",
        "npf_validation = data_cleaner(npf_validation_raw)\n",
        "\n",
        "#create feature array and target column for test data\n",
        "X_validation = npf_validation.iloc[:,2:]\n",
        "y_validation = npf_validation[\"class2\"]\n",
        "\n",
        "#import test data\n",
        "npf_test_raw = pd.read_csv(\"https://raw.githubusercontent.com/williwilliams3/TermProjectIML/master/data/test.csv\")\n",
        "npf_test = data_cleaner(npf_test_raw)\n",
        "\n",
        "#create feature array and target column for test data\n",
        "X_test = npf_test.iloc[:,2:]\n",
        "y_test = npf_test[\"class2\"]"
      ],
      "execution_count": 5,
      "outputs": []
    },
    {
      "cell_type": "code",
      "metadata": {
        "colab": {
          "base_uri": "https://localhost:8080/",
          "height": 332
        },
        "id": "SPe6TC2-oZzp",
        "outputId": "523dc464-019e-47e6-e728-19208dd08c7e"
      },
      "source": [
        "#logistic regression\n",
        "import seaborn as sns\n",
        "import pandas as pd\n",
        "from sklearn.linear_model import LogisticRegression\n",
        "from sklearn import metrics\n",
        "import matplotlib.pyplot as plt\n",
        "\n",
        "#normalise the X data\n",
        "from sklearn.preprocessing import StandardScaler\n",
        "X_train_norm = StandardScaler().fit_transform(X_train)\n",
        "X_test_norm = StandardScaler().fit_transform(X_test)\n",
        "X_validation_norm = StandardScaler().fit_transform(X_validation)\n",
        "\n",
        "#binary classifier with logistic regression\n",
        "logistic_regression= LogisticRegression()\n",
        "logistic_regression.fit(X_train_norm,y_train)\n",
        "y_pred_test = logistic_regression.predict(X_test_norm)\n",
        "y_pred_train = logistic_regression.predict(X_train_norm)\n",
        "y_pred_validation = logistic_regression.predict(X_validation_norm)\n",
        "\n",
        "confusion_matrix = pd.crosstab(y_test, y_pred_test, rownames=['Actual'], colnames=['Predicted'])\n",
        "sns.heatmap(confusion_matrix, annot=True)\n",
        "\n",
        "print('Accuracy on test set: ',metrics.accuracy_score(y_test, y_pred_test))\n",
        "print('Accuracy on validation set: ',metrics.accuracy_score(y_validation, y_pred_validation))\n",
        "print('Accuracy on train set: ',metrics.accuracy_score(y_train, y_pred_train))"
      ],
      "execution_count": 6,
      "outputs": [
        {
          "output_type": "stream",
          "text": [
            "Accuracy on test set:  0.9534883720930233\n",
            "Accuracy on validation set:  0.8604651162790697\n",
            "Accuracy on train set:  0.9341085271317829\n"
          ],
          "name": "stdout"
        },
        {
          "output_type": "display_data",
          "data": {
            "image/png": "[encoded data removed]",
            "text/plain": [
              "<Figure size 432x288 with 2 Axes>"
            ]
          },
          "metadata": {
            "tags": [],
            "needs_background": "light"
          }
        }
      ]
    },
    {
      "cell_type": "code",
      "metadata": {
        "colab": {
          "base_uri": "https://localhost:8080/",
          "height": 313
        },
        "id": "7p3DymeRoy6R",
        "outputId": "81fb6eac-3b91-4736-b1f5-f45c94475cb5"
      },
      "source": [
        "#Linear Reponse of training set\n",
        "\n",
        "#extract coefs\n",
        "betas = logistic_regression.coef_\n",
        "beta_interr = logistic_regression.intercept_\n",
        "#find linear responses for training set\n",
        "beta_t_x =  X_train @ betas.T + beta_interr\n",
        "\n",
        "#figures for linear response\n",
        "fig = plt.figure()\n",
        "plt.scatter(beta_t_x,y_train)\n",
        "plt.title(\"Linear Response on Training Set\")\n",
        "plt.ylabel(\"Event =0, nonEvent =1\")\n",
        "plt.xlabel(\"Linear Response\")\n"
      ],
      "execution_count": 11,
      "outputs": [
        {
          "output_type": "execute_result",
          "data": {
            "text/plain": [
              "Text(0.5, 0, 'Linear Response')"
            ]
          },
          "metadata": {
            "tags": []
          },
          "execution_count": 11
        },
        {
          "output_type": "display_data",
          "data": {
            "image/png": "[encoded data removed]",
            "text/plain": [
              "<Figure size 432x288 with 1 Axes>"
            ]
          },
          "metadata": {
            "tags": [],
            "needs_background": "light"
          }
        }
      ]
    },
    {
      "cell_type": "code",
      "metadata": {
        "id": "n4FQ42tqzEED"
      },
      "source": [
        ""
      ],
      "execution_count": null,
      "outputs": []
    }
  ]
}