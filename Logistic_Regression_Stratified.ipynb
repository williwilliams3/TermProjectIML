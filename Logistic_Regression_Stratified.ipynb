{
  "nbformat": 4,
  "nbformat_minor": 0,
  "metadata": {
    "colab": {
      "name": "Logistic Regression Stratified.ipynb",
      "provenance": [],
      "collapsed_sections": []
    },
    "kernelspec": {
      "name": "python3",
      "display_name": "Python 3"
    }
  },
  "cells": [
    {
      "cell_type": "code",
      "metadata": {
        "id": "czk2qIaHMKMW"
      },
      "source": [
        "import pandas as pd\n",
        "import numpy as np\n",
        "from sklearn.model_selection import train_test_split\n",
        "\n",
        "def data_cleaner(df):\n",
        "    data = df.copy()\n",
        "    #remove the id, partlybad columns\n",
        "    data.drop([\"id\",\"partlybad\"],1,inplace=True)\n",
        "    #set new index using the date column\n",
        "    data.set_index([\"date\"],inplace=True)\n",
        "    #add binary 'class2' col for event/non-event\n",
        "    data[\"class2\"] = np.where(data[\"class4\"] == \"nonevent\", \"nonevent\",\"event\")\n",
        "    #arrange to put class2 col at the front\n",
        "    cols = ['class2'] + [col for col in data if col != 'class2']\n",
        "    data = data[cols]\n",
        "    return data\n",
        "\n",
        "##### New way to generate the data\n",
        "\n",
        "def data_generator(df):\n",
        "    '''\n",
        "    input:\n",
        "        df: dataframe to split stratified by variable class\n",
        "        class: string with variable to use as response and as variable to stratify by\n",
        "    output:\n",
        "        X_train, y_train: variables and response 60% data \n",
        "        X_val, y_val: variables and response 20% data \n",
        "        X_trainval, y_trainval: variables and response 80% data (for cross validation)\n",
        "        X_test, y_test: variables and response 20% data \n",
        "    '''\n",
        "    \n",
        "    X = df.drop([\"class2\",\"class4\"], axis=1)\n",
        "    y = df['class4']\n",
        "    \n",
        "    # 60%, 20%, 20%\n",
        "    # Generate TrainVal 80% and test 20% \n",
        "    X_trainval, X_test, y_trainval, y_test = train_test_split( X, y, test_size=0.20, random_state=42, stratify=y)\n",
        "    \n",
        "    # Furthermore split train into Train and Val\n",
        "    X_train, X_val, y_train, y_val= train_test_split( X_trainval, y_trainval, test_size=0.25, random_state=42, stratify=y_trainval)\n",
        "    \n",
        "    return X_train, X_val, X_trainval, X_test, y_train, y_val, y_trainval, y_test\n",
        "\n",
        "def convert_binary(y):\n",
        "    '''\n",
        "    Parameters\n",
        "    ----------\n",
        "    y : repsonse variable with 4 classes\n",
        "    Returns\n",
        "    -------\n",
        "    y : reponse variable 2 classes\n",
        "    '''\n",
        "    y_bin = np.where(y == \"nonevent\", \"nonevent\",\"event\")\n",
        "    return y_bin\n",
        "\n",
        "url = \"https://raw.githubusercontent.com/williwilliams3/TermProjectIML/master/data/train.csv\"\n",
        "df = pd.read_csv(url)\n",
        "df = data_cleaner(df)\n",
        "\n",
        "X_train, X_val, X_trainval, X_test, y_train, y_val, y_trainval, y_test = data_generator(df)\n",
        "\n",
        "# If needed conversion from 4 classes to binary classes\n",
        "y_train_bin = convert_binary(y_train)\n",
        "y_val_bin = convert_binary(y_val)\n",
        "y_trainval_bin = convert_binary(y_trainval)\n",
        "y_test_bin = convert_binary(y_test)\n"
      ],
      "execution_count": 19,
      "outputs": []
    },
    {
      "cell_type": "code",
      "metadata": {
        "colab": {
          "base_uri": "https://localhost:8080/",
          "height": 336
        },
        "id": "CL3_NQH6OxuY",
        "outputId": "8f3c927a-5f35-4333-e9ba-c262a26a9071"
      },
      "source": [
        "#logistic regression\n",
        "import seaborn as sns\n",
        "import pandas as pd\n",
        "from sklearn.linear_model import LogisticRegression\n",
        "from sklearn import metrics\n",
        "import matplotlib.pyplot as plt\n",
        "\n",
        "#normalise the X data\n",
        "from sklearn.preprocessing import StandardScaler\n",
        "X_train_norm = StandardScaler().fit_transform(X_train)\n",
        "X_test_norm = StandardScaler().fit_transform(X_test)\n",
        "X_val_norm = StandardScaler().fit_transform(X_val)\n",
        "\n",
        "#binary classifier with logistic regression\n",
        "logistic_regression= LogisticRegression()\n",
        "logistic_regression.fit(X_train_norm,y_train_bin)\n",
        "y_pred_test = logistic_regression.predict(X_test_norm)\n",
        "y_pred_train = logistic_regression.predict(X_train_norm)\n",
        "y_pred_val = logistic_regression.predict(X_val_norm)\n",
        "\n",
        "confusion_matrix = pd.crosstab(y_test_bin, y_pred_test, rownames=['Actual'], colnames=['Predicted'])\n",
        "sns.heatmap(confusion_matrix, annot=True)\n",
        "\n",
        "print('Accuracy on test set: ',metrics.accuracy_score(y_test_bin, y_pred_test))\n",
        "print('Accuracy on validation set: ',metrics.accuracy_score(y_val_bin, y_pred_validation))\n",
        "print('Accuracy on train set: ',metrics.accuracy_score(y_train_bin, y_pred_train))"
      ],
      "execution_count": 22,
      "outputs": [
        {
          "output_type": "stream",
          "text": [
            "Accuracy on test set:  0.8461538461538461\n",
            "Accuracy on validation set:  0.8461538461538461\n",
            "Accuracy on train set:  0.9415584415584416\n"
          ],
          "name": "stdout"
        },
        {
          "output_type": "display_data",
          "data": {
            "image/png": "[encoded data removed]",
            "text/plain": [
              "<Figure size 432x288 with 2 Axes>"
            ]
          },
          "metadata": {
            "tags": [],
            "needs_background": "light"
          }
        }
      ]
    },
    {
      "cell_type": "code",
      "metadata": {
        "colab": {
          "base_uri": "https://localhost:8080/",
          "height": 313
        },
        "id": "Q8cNPDQxPPsE",
        "outputId": "a7cae648-b37f-4077-8a67-7ca86aa06fd0"
      },
      "source": [
        "#Linear Reponse of test set\n",
        "\n",
        "#extract coefs\n",
        "betas = logistic_regression.coef_\n",
        "beta_interr = logistic_regression.intercept_\n",
        "#find linear responses for training set\n",
        "beta_t_x =  X_test @ betas.T + beta_interr\n",
        "\n",
        "#figures for linear response\n",
        "fig = plt.figure()\n",
        "plt.scatter(beta_t_x,y_test_bin)\n",
        "plt.title(\"Linear Response on Training Set\")\n",
        "plt.ylabel(\"nonEvent =1, Event =0\")\n",
        "plt.xlabel(\"Linear Response\")\n"
      ],
      "execution_count": 21,
      "outputs": [
        {
          "output_type": "execute_result",
          "data": {
            "text/plain": [
              "Text(0.5, 0, 'Linear Response')"
            ]
          },
          "metadata": {
            "tags": []
          },
          "execution_count": 21
        },
        {
          "output_type": "display_data",
          "data": {
            "image/png": "[encoded data removed]",
            "text/plain": [
              "<Figure size 432x288 with 1 Axes>"
            ]
          },
          "metadata": {
            "tags": [],
            "needs_background": "light"
          }
        }
      ]
    },
    {
      "cell_type": "code",
      "metadata": {
        "id": "r0KpjMR6UKFI"
      },
      "source": [
        ""
      ],
      "execution_count": null,
      "outputs": []
    }
  ]
}