{
 "cells": [
  {
   "cell_type": "markdown",
   "metadata": {},
   "source": [
    "### Ensamble of Models \n",
    "    \n",
    "    - Binary Ensamble: XGB, LogReg and NB\n",
    "    - Multiclass Ensamble: SVM, XGB and NB\n",
    "    \n",
    "    Model ensamble reduces variance in predictions and achieves better accuracy"
   ]
  },
  {
   "cell_type": "markdown",
   "metadata": {},
   "source": [
    "#### 1. Binary Ensamble"
   ]
  },
  {
   "cell_type": "code",
   "execution_count": 1,
   "metadata": {},
   "outputs": [
    {
     "name": "stdout",
     "output_type": "stream",
     "text": [
      "Accuracy on train set:  0.9612403100775194\n",
      "Accuracy on validation set:  0.9651162790697675\n",
      "Accuracy on test set:  0.9186046511627907\n"
     ]
    }
   ],
   "source": [
    "\n",
    "import numpy as np\n",
    "import pandas as pd\n",
    "import os\n",
    "\n",
    "os.chdir('/Users/bwilliams/GoogleDrive/UniversityOfHelsinki/Fall2020/IML/TeamProject/TermProjectIML/bin')\n",
    "from SplitData import *\n",
    "from sklearn.model_selection import cross_val_score, GridSearchCV, KFold, RandomizedSearchCV, train_test_split\n",
    "from sklearn import metrics\n",
    "from sklearn.metrics import plot_confusion_matrix\n",
    "import matplotlib.pyplot as plt\n",
    "\n",
    "\n",
    "# 2. XGB Binary \n",
    "import xgboost as xgb\n",
    "\n",
    "xgb_model = xgb.XGBClassifier(objective=\"binary:logistic\", random_state=42,\n",
    "                              colsample_bytree= 0.8854654189948783, gamma=0.05056133806139512,\n",
    "                              learning_rate= 0.05523204183449923, max_depth= 2, \n",
    "                              n_estimators= 267, subsample= 0.6291052025456774)\n",
    "\n",
    "# {'colsample_bytree': 0.8854654189948783, 'gamma': 0.05056133806139512, 'learning_rate': 0.05523204183449923, 'max_depth': 2, 'n_estimators': 267, 'subsample': 0.6291052025456774}\n",
    "xgb_model.fit(X_trainval, y_trainval_bin)\n",
    "y_pred_train_proba_xgb = xgb_model.predict_proba(X_train)[:,0]\n",
    "y_pred_val_proba_xgb = xgb_model.predict_proba(X_val)[:,0]\n",
    "y_pred_test_proba_xgb = xgb_model.predict_proba(X_test)[:,0]\n",
    "\n",
    "\n",
    "\n",
    "\n",
    "# 3. Log Binary \n",
    "from sklearn.linear_model import LogisticRegression\n",
    "import numpy.random as npr\n",
    "# Accuracy on test set:  0.8846153846153846\n",
    "# Accuracy on validation set:  0.8461538461538461\n",
    "# Accuracy on train set:  0.9415584415584416\n",
    "npr.seed(42)\n",
    "logistic_regression= LogisticRegression()\n",
    "logistic_regression.fit(X_trainval_norm, y_trainval_bin)\n",
    "y_pred_train_proba_log = logistic_regression.predict_proba(X_train_norm)[:,0]\n",
    "y_pred_val_proba_log = logistic_regression.predict_proba(X_val_norm)[:,0]\n",
    "y_pred_test_proba_log = logistic_regression.predict_proba(X_test_norm)[:,0]\n",
    "\n",
    "\n",
    "\n",
    "# 4. NB Binary\n",
    "from sklearn.decomposition import PCA\n",
    "from sklearn.naive_bayes import GaussianNB\n",
    "pca1 = PCA(n_components=12)\n",
    "X_train_i = pca1.fit_transform(X_train)\n",
    "X_test_i = pca1.transform(X_test)\n",
    "X_val_i = pca1.transform(X_val)\n",
    "\n",
    "model = GaussianNB()\n",
    "model.fit(X_train_i, y_train_bin)\n",
    "y_pred_train_proba_nb = model.predict_proba(X_train_i)[:,0]\n",
    "y_pred_val_proba_nb = model.predict_proba(X_val_i)[:,0]\n",
    "y_pred_test_proba_nb = model.predict_proba(X_test_i)[:,0]\n",
    "\n",
    "\n",
    "# Blend of Models \n",
    "\n",
    "df_train_bin = pd.DataFrame(dict( xbb = y_pred_train_proba_xgb, log = y_pred_train_proba_log, nb = y_pred_train_proba_nb))\n",
    "df_val_bin = pd.DataFrame(dict( xbb = y_pred_val_proba_xgb, log = y_pred_val_proba_log, nb = y_pred_val_proba_nb))\n",
    "df_test_bin = pd.DataFrame(dict( xbb = y_pred_test_proba_xgb, log = y_pred_test_proba_log, nb = y_pred_test_proba_nb))\n",
    "\n",
    "y_pred_train_proba_blend = df_train_bin.mean(axis = 1)\n",
    "y_pred_val_proba_blend = df_val_bin.mean(axis = 1)\n",
    "y_pred_test_proba_blend = df_test_bin.mean(axis = 1)\n",
    "\n",
    "\n",
    "print('Accuracy on train set: ',metrics.accuracy_score(y_train_bin=='event', y_pred_train_proba_blend>0.5))\n",
    "print('Accuracy on validation set: ',metrics.accuracy_score(y_val_bin=='event', y_pred_val_proba_blend>0.5))\n",
    "print('Accuracy on test set: ',metrics.accuracy_score(y_test_bin=='event', y_pred_test_proba_blend>0.5))\n",
    "\n"
   ]
  },
  {
   "cell_type": "code",
   "execution_count": 2,
   "metadata": {},
   "outputs": [
    {
     "data": {
      "text/plain": [
       "<AxesSubplot:xlabel='Predicted', ylabel='Actual'>"
      ]
     },
     "execution_count": 2,
     "metadata": {},
     "output_type": "execute_result"
    },
    {
     "data": {
      "image/png": "[encoded data removed]",
      "text/plain": [
       "<Figure size 432x288 with 2 Axes>"
      ]
     },
     "metadata": {
      "needs_background": "light"
     },
     "output_type": "display_data"
    }
   ],
   "source": [
    "import seaborn as sns\n",
    "confusion_matrix = pd.crosstab(y_test_bin, np.where(y_pred_test_proba_blend>0.5,'event','nonevent'), rownames=['Actual'], colnames=['Predicted'])\n",
    "sns.heatmap(confusion_matrix, annot=True)\n"
   ]
  },
  {
   "cell_type": "markdown",
   "metadata": {},
   "source": [
    "#### 2. Multiclass Ensamble"
   ]
  },
  {
   "cell_type": "code",
   "execution_count": 3,
   "metadata": {},
   "outputs": [
    {
     "name": "stdout",
     "output_type": "stream",
     "text": [
      "Accuracy on train set:  0.9496124031007752\n",
      "Accuracy on validation set:  0.9767441860465116\n",
      "Accuracy on test set:  0.6976744186046512\n",
      "Binary accuracy on train set:  0.9689922480620154\n",
      "Binary accuracy on validation set:  1.0\n",
      "Binary accuracy on test set:  0.9069767441860465\n"
     ]
    }
   ],
   "source": [
    "# 1. SVM MultiClass \n",
    "\n",
    "\n",
    "import numpy as np\n",
    "import pandas as pd\n",
    "import os\n",
    "\n",
    "os.chdir('/Users/bwilliams/GoogleDrive/UniversityOfHelsinki/Fall2020/IML/TeamProject/TermProjectIML/bin')\n",
    "from SplitData import *\n",
    "from sklearn.svm import SVC\n",
    "from sklearn.model_selection import cross_val_score, GridSearchCV, KFold, RandomizedSearchCV, train_test_split\n",
    "from sklearn import metrics\n",
    "from sklearn.metrics import plot_confusion_matrix\n",
    "import matplotlib.pyplot as plt\n",
    "\n",
    "svm_model = SVC(**{'C': 109.53031576544694, 'gamma': 0.0005494254346819604, 'kernel': 'rbf'}, probability=True)\n",
    "svm_model.fit(X_trainval_norm, y_trainval)\n",
    "\n",
    "y_pred_train_proba_svm = svm_model.predict_proba(X_train_norm)\n",
    "y_pred_val_proba_svm = svm_model.predict_proba(X_val_norm)\n",
    "y_pred_test_proba_svm = svm_model.predict_proba(X_test_norm)\n",
    "\n",
    "\n",
    "\n",
    "# 2. XGB Multiclass\n",
    "import xgboost as xgb\n",
    "\n",
    "xgb_model =  xgb.XGBClassifier(**{'colsample_bytree': 0.9915346248162882, 'gamma': 0.4812236474710556, 'learning_rate': 0.10553468874760924, 'max_depth': 3, 'n_estimators': 212, 'subsample': 0.6592347719813599}, random_state=42)\n",
    "xgb_model.fit(X_trainval, y_trainval)\n",
    "\n",
    "y_pred_train_proba_xgb = xgb_model.predict_proba(X_train)\n",
    "y_pred_val_proba_xgb = xgb_model.predict_proba(X_val)\n",
    "y_pred_test_proba_xgb = xgb_model.predict_proba(X_test)\n",
    "\n",
    "\n",
    "\n",
    "# 3. NB PCA\n",
    "from sklearn.decomposition import PCA\n",
    "from sklearn.naive_bayes import GaussianNB\n",
    "from sklearn.metrics import accuracy_score\n",
    "pca4 = PCA(n_components=14)\n",
    "X_trainval_i = pca4.fit_transform(X_trainval)\n",
    "X_train_i = pca4.transform(X_train)\n",
    "X_test_i = pca4.transform(X_test)\n",
    "X_val_i = pca4.transform(X_val)\n",
    "\n",
    "model = GaussianNB()\n",
    "model.fit(X_trainval_i, y_trainval)\n",
    "\n",
    "y_pred_train_proba_nb = model.predict_proba(X_train_i)\n",
    "y_pred_val_proba_nb = model.predict_proba(X_val_i)\n",
    "y_pred_test_proba_nb = model.predict_proba(X_test_i)\n",
    "\n",
    "y_pred_trainval_proba_nb = model.predict_proba(X_trainval_i)\n",
    "\n",
    "\n",
    "# Blend of Models \n",
    "\n",
    "df_train_bin = pd.DataFrame(np.c_[y_pred_train_proba_svm, y_pred_train_proba_xgb, y_pred_train_proba_nb])\n",
    "df_val_bin = pd.DataFrame(np.c_[y_pred_val_proba_svm, y_pred_val_proba_xgb, y_pred_val_proba_nb])\n",
    "df_test_bin = pd.DataFrame(np.c_[y_pred_test_proba_svm, y_pred_test_proba_xgb, y_pred_test_proba_nb])\n",
    "\n",
    "\n",
    "y_pred_train_proba_blend = np.c_[df_train_bin[[0,4,8]].mean(axis = 1), df_train_bin[[1,5,9]].mean(axis = 1), df_train_bin[[2,6,10]].mean(axis = 1) , df_train_bin[[3,7,11]].mean(axis = 1)]\n",
    "y_pred_val_proba_blend = np.c_[df_val_bin[[0,4,8]].mean(axis = 1), df_val_bin[[1,5,9]].mean(axis = 1), df_val_bin[[2,6,10]].mean(axis = 1) , df_val_bin[[3,7,11]].mean(axis = 1)]\n",
    "y_pred_test_proba_blend = np.c_[df_test_bin[[0,4,8]].mean(axis = 1), df_test_bin[[1,5,9]].mean(axis = 1), df_test_bin[[2,6,10]].mean(axis = 1) , df_test_bin[[3,7,11]].mean(axis = 1)]\n",
    "\n",
    "# Multiclass Acuracy \n",
    "print('Accuracy on train set: ', metrics.accuracy_score(pd.factorize(y_train, sort=True)[0], np.argmax(y_pred_train_proba_blend, axis = 1)) )\n",
    "print('Accuracy on validation set: ',  metrics.accuracy_score(pd.factorize(y_val, sort=True)[0], np.argmax(y_pred_val_proba_blend, axis = 1)) )\n",
    "print('Accuracy on test set: ',  metrics.accuracy_score(pd.factorize(y_test, sort=True)[0], np.argmax(y_pred_test_proba_blend, axis = 1) ) )\n",
    "\n",
    "\n",
    "# Binary Accuracy \n",
    "print('Binary accuracy on train set: ', metrics.accuracy_score(y_train == 'nonevent', np.argmax(y_pred_train_proba_blend, axis = 1)==3))\n",
    "print('Binary accuracy on validation set: ',metrics.accuracy_score(y_val == 'nonevent', np.argmax(y_pred_val_proba_blend, axis = 1)==3))\n",
    "print('Binary accuracy on test set: ',metrics.accuracy_score(y_test == 'nonevent', np.argmax(y_pred_test_proba_blend, axis = 1)==3))\n"
   ]
  },
  {
   "cell_type": "code",
   "execution_count": 4,
   "metadata": {},
   "outputs": [
    {
     "name": "stdout",
     "output_type": "stream",
     "text": [
      "Accuracy over Event  0.8372093023255814\n",
      "Accuracy over Nonevent  0.9767441860465116\n"
     ]
    }
   ],
   "source": [
    "# Accuracy on umbalanced dataset \n",
    "# 38% of events  72% of nonevents\n",
    "y_test == 'nonevent'\n",
    "y_test_hat = np.argmax(y_pred_test_proba_blend, axis = 1)==3\n",
    "\n",
    "acc_nonevent = np.mean(y_test_hat[y_test == 'nonevent']==True)\n",
    "acc_event = np.mean(y_test_hat[~(y_test == 'nonevent')]==False)\n",
    "acc = 0.5*acc_nonevent + 0.5*acc_event\n",
    "print('Accuracy over Event ',acc_event)\n",
    "print('Accuracy over Nonevent ',acc_nonevent)\n"
   ]
  },
  {
   "cell_type": "code",
   "execution_count": 5,
   "metadata": {},
   "outputs": [
    {
     "data": {
      "text/plain": [
       "<AxesSubplot:xlabel='Predicted', ylabel='Actual'>"
      ]
     },
     "execution_count": 5,
     "metadata": {},
     "output_type": "execute_result"
    },
    {
     "data": {
      "image/png": "[encoded data removed]",
      "text/plain": [
       "<Figure size 432x288 with 2 Axes>"
      ]
     },
     "metadata": {
      "needs_background": "light"
     },
     "output_type": "display_data"
    }
   ],
   "source": [
    "levels = {0:'II',1:'Ia',2:'Ib',3:'nonevent'}\n",
    "y_pred_test = np.vectorize(levels.get)(np.argmax(y_pred_test_proba_blend, axis = 1))\n",
    "confusion_matrix = pd.crosstab(y_test, y_pred_test, rownames=['Actual'], colnames=['Predicted'])\n",
    "sns.heatmap(confusion_matrix, annot=True)"
   ]
  },
  {
   "cell_type": "code",
   "execution_count": null,
   "metadata": {},
   "outputs": [],
   "source": []
  }
 ],
 "metadata": {
  "kernelspec": {
   "display_name": "Python 3",
   "language": "python",
   "name": "python3"
  },
  "language_info": {
   "codemirror_mode": {
    "name": "ipython",
    "version": 3
   },
   "file_extension": ".py",
   "mimetype": "text/x-python",
   "name": "python",
   "nbconvert_exporter": "python",
   "pygments_lexer": "ipython3",
   "version": "3.8.5"
  }
 },
 "nbformat": 4,
 "nbformat_minor": 4
}
