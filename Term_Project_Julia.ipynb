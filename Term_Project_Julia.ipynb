{
  "nbformat": 4,
  "nbformat_minor": 0,
  "metadata": {
    "colab": {
      "name": "Term Project Julia.ipynb",
      "provenance": [],
      "collapsed_sections": []
    },
    "kernelspec": {
      "name": "python3",
      "display_name": "Python 3"
    }
  },
  "cells": [
    {
      "cell_type": "markdown",
      "metadata": {
        "id": "J4H0nXhGzfNm"
      },
      "source": [
        "##K nearest neighbour\n",
        " \n",
        "- run the k nearest neighbour algorithm for a range of values of k\n",
        "- output the prediction and compare with the true values on the validation set\n",
        "- choose best k and run the k nearest neighbour on the test data using that value"
      ]
    },
    {
      "cell_type": "code",
      "metadata": {
        "id": "GZGrWDgy57wH"
      },
      "source": [
        "import numpy as np\n",
        "import pandas as pd\n",
        "\n",
        "def data_cleaner(data):\n",
        "    #remove the id, partlybad columns\n",
        "    data.drop([\"id\",\"partlybad\"],1,inplace=True)\n",
        "    #set new index using the date column\n",
        "    data.set_index([\"date\"],inplace=True)\n",
        "    #add binary 'class2' col for event/non-event\n",
        "    data[\"class2\"] = np.where(data[\"class4\"] == \"nonevent\", \"nonevent\",\"event\")\n",
        "    #arrange to put class2 col at the front\n",
        "    cols = ['class2'] + [col for col in data if col != 'class2']\n",
        "    data = data[cols]\n",
        "    return data"
      ],
      "execution_count": 2,
      "outputs": []
    },
    {
      "cell_type": "code",
      "metadata": {
        "id": "OSY27e4p1Gp5"
      },
      "source": [
        "import pandas as pd\n",
        "import numpy as np\n",
        "\n",
        "#load training data\n",
        "url = \"https://raw.githubusercontent.com/williwilliams3/TermProjectIML/master/data/train.csv\"\n",
        "npf_train_raw = pd.read_csv(url)\n",
        "npf_train = data_cleaner(npf_train_raw)\n",
        "\n",
        "#create feature array and target column for training data\n",
        "X_train = npf_train.iloc[:,2:]\n",
        "y_train = npf_train[\"class2\"]\n",
        "\n",
        "#import test data\n",
        "npf_test_raw = pd.read_csv(\"https://raw.githubusercontent.com/williwilliams3/TermProjectIML/master/data/test.csv\")\n",
        "npf_test = data_cleaner(npf_test_raw)\n",
        "\n",
        "#create feature array and target column for test data\n",
        "X_test = npf_train.iloc[:,2:]\n",
        "y_test = npf_train[\"class2\"]"
      ],
      "execution_count": 3,
      "outputs": []
    },
    {
      "cell_type": "code",
      "metadata": {
        "colab": {
          "base_uri": "https://localhost:8080/",
          "height": 951
        },
        "id": "PbZdIsqZzcaY",
        "outputId": "46310689-48d5-46e9-943b-223af47481a6"
      },
      "source": [
        "#this should be done on validation set?\n",
        "#run k nearest neighbours\n",
        "from sklearn.neighbors import KNeighborsClassifier \n",
        "import matplotlib.pyplot as plt\n",
        "\n",
        "pred_rate = np.zeros(40)\n",
        "\n",
        "for k in range(2,40):\n",
        "    #run algorithm\n",
        "    knn = KNeighborsClassifier(n_neighbors=k) \n",
        "    knn.fit(X_train, y_train) \n",
        "    #predicted values for class2\n",
        "    y_predictions = knn.predict(X_test)\n",
        "    #compare predictions with actual results\n",
        "    y_s = np.c_[y_test,y_predictions]\n",
        "    correct_ind = np.where(y_s[:,0] == y_s[:,1], 1,0)\n",
        "    #% accuracy\n",
        "    pred_rate[k] = np.mean(correct_ind)\n",
        "    print('rate of correct predictions for k = %i' %k,pred_rate[k])\n",
        "\n",
        "f, ax = plt.subplots(1)\n",
        "plt.plot(pred_rate,color=\"fuchsia\")\n",
        "ax.set_xlim(xmin=2)"
      ],
      "execution_count": 4,
      "outputs": [
        {
          "output_type": "stream",
          "text": [
            "rate of correct predictions for k = 2 0.8914728682170543\n",
            "rate of correct predictions for k = 3 0.8837209302325582\n",
            "rate of correct predictions for k = 4 0.8217054263565892\n",
            "rate of correct predictions for k = 5 0.8294573643410853\n",
            "rate of correct predictions for k = 6 0.8023255813953488\n",
            "rate of correct predictions for k = 7 0.8217054263565892\n",
            "rate of correct predictions for k = 8 0.7945736434108527\n",
            "rate of correct predictions for k = 9 0.813953488372093\n",
            "rate of correct predictions for k = 10 0.7945736434108527\n",
            "rate of correct predictions for k = 11 0.8023255813953488\n",
            "rate of correct predictions for k = 12 0.7868217054263565\n",
            "rate of correct predictions for k = 13 0.7751937984496124\n",
            "rate of correct predictions for k = 14 0.7713178294573644\n",
            "rate of correct predictions for k = 15 0.7829457364341085\n",
            "rate of correct predictions for k = 16 0.7751937984496124\n",
            "rate of correct predictions for k = 17 0.7906976744186046\n",
            "rate of correct predictions for k = 18 0.7751937984496124\n",
            "rate of correct predictions for k = 19 0.7906976744186046\n",
            "rate of correct predictions for k = 20 0.7713178294573644\n",
            "rate of correct predictions for k = 21 0.7674418604651163\n",
            "rate of correct predictions for k = 22 0.7558139534883721\n",
            "rate of correct predictions for k = 23 0.7751937984496124\n",
            "rate of correct predictions for k = 24 0.7635658914728682\n",
            "rate of correct predictions for k = 25 0.7635658914728682\n",
            "rate of correct predictions for k = 26 0.7635658914728682\n",
            "rate of correct predictions for k = 27 0.7674418604651163\n",
            "rate of correct predictions for k = 28 0.7558139534883721\n",
            "rate of correct predictions for k = 29 0.7596899224806202\n",
            "rate of correct predictions for k = 30 0.7596899224806202\n",
            "rate of correct predictions for k = 31 0.7558139534883721\n",
            "rate of correct predictions for k = 32 0.748062015503876\n",
            "rate of correct predictions for k = 33 0.751937984496124\n",
            "rate of correct predictions for k = 34 0.748062015503876\n",
            "rate of correct predictions for k = 35 0.748062015503876\n",
            "rate of correct predictions for k = 36 0.748062015503876\n",
            "rate of correct predictions for k = 37 0.748062015503876\n",
            "rate of correct predictions for k = 38 0.748062015503876\n",
            "rate of correct predictions for k = 39 0.748062015503876\n"
          ],
          "name": "stdout"
        },
        {
          "output_type": "execute_result",
          "data": {
            "text/plain": [
              "(2.0, 40.95)"
            ]
          },
          "metadata": {
            "tags": []
          },
          "execution_count": 4
        },
        {
          "output_type": "display_data",
          "data": {
            "image/png": "[encoded data removed]",
            "text/plain": [
              "<Figure size 432x288 with 1 Axes>"
            ]
          },
          "metadata": {
            "tags": [],
            "needs_background": "light"
          }
        }
      ]
    },
    {
      "cell_type": "code",
      "metadata": {
        "colab": {
          "base_uri": "https://localhost:8080/",
          "height": 297
        },
        "id": "N-0VgQN1t6KV",
        "outputId": "a965a0b0-2de9-4a60-acda-277d8178f35c"
      },
      "source": [
        "#k=40 \n",
        "import seaborn as sns\n",
        "confusion_matrix = pd.crosstab(y_test, y_predictions, rownames=['Actual'], colnames=['Predicted'])\n",
        "sns.heatmap(confusion_matrix, annot=True)"
      ],
      "execution_count": 5,
      "outputs": [
        {
          "output_type": "execute_result",
          "data": {
            "text/plain": [
              "<matplotlib.axes._subplots.AxesSubplot at 0x7fb280907c18>"
            ]
          },
          "metadata": {
            "tags": []
          },
          "execution_count": 5
        },
        {
          "output_type": "display_data",
          "data": {
            "image/png": "[encoded data removed]",
            "text/plain": [
              "<Figure size 432x288 with 2 Axes>"
            ]
          },
          "metadata": {
            "tags": [],
            "needs_background": "light"
          }
        }
      ]
    },
    {
      "cell_type": "code",
      "metadata": {
        "colab": {
          "base_uri": "https://localhost:8080/",
          "height": 297
        },
        "id": "edcYKyYkDueS",
        "outputId": "24c11ab0-9c39-400b-c3b0-679f21a302c4"
      },
      "source": [
        "#try multi classifiers with k nearest? \n",
        "\n",
        "y_train_multi = npf_train[\"class4\"]\n",
        "\n",
        "y_test_multi = npf_train[\"class4\"]\n",
        "\n",
        "knn = KNeighborsClassifier(n_neighbors=5) \n",
        "knn.fit(X_train, y_train_multi) \n",
        "#predicted values for class2\n",
        "y_predictions_multi = knn.predict(X_test)\n",
        "\n",
        "confusion_matrix = pd.crosstab(y_test_multi, y_predictions_multi, rownames=['Actual'], colnames=['Predicted'])\n",
        "sns.heatmap(confusion_matrix, annot=True)\n"
      ],
      "execution_count": 6,
      "outputs": [
        {
          "output_type": "execute_result",
          "data": {
            "text/plain": [
              "<matplotlib.axes._subplots.AxesSubplot at 0x7fb27c5ed2b0>"
            ]
          },
          "metadata": {
            "tags": []
          },
          "execution_count": 6
        },
        {
          "output_type": "display_data",
          "data": {
            "image/png": "[encoded data removed]",
            "text/plain": [
              "<Figure size 432x288 with 2 Axes>"
            ]
          },
          "metadata": {
            "tags": [],
            "needs_background": "light"
          }
        }
      ]
    },
    {
      "cell_type": "code",
      "metadata": {
        "id": "m8ePTLhrTMd1",
        "colab": {
          "base_uri": "https://localhost:8080/"
        },
        "outputId": "1618dff8-c44f-42f2-cbbf-1e01fc559e78"
      },
      "source": [
        "\n",
        "#run the same with optimal k = ...? \n",
        "#npf 'hidden' data set\n",
        "\n",
        "npf_test_hidden_raw = pd.read_csv(\"https://raw.githubusercontent.com/williwilliams3/TermProjectIML/master/data/npf_test_hidden.csv\")\n",
        "npf_test_hidden = data_cleaner(npf_test_hidden_raw)\n",
        "\n",
        "#create feature array and target column for test data\n",
        "X_test_hidden = npf_test_hidden.iloc[:,2:]\n",
        "y_test_hidden = npf_test_hidden[\"class2\"]\n",
        "\n",
        "#run algorithm for k=2\n",
        "knn = KNeighborsClassifier(n_neighbors=2) \n",
        "#using the training data as before\n",
        "knn.fit(X_train, y_train) \n",
        "#predicted values for class2\n",
        "y_predictions = knn.predict(X_test_hidden)\n",
        "\n",
        "print(y_predictions)"
      ],
      "execution_count": 7,
      "outputs": [
        {
          "output_type": "stream",
          "text": [
            "['event' 'event' 'nonevent' 'event' 'event' 'event' 'event' 'nonevent'\n",
            " 'nonevent' 'event' 'nonevent' 'event' 'event' 'event' 'event' 'event'\n",
            " 'nonevent' 'nonevent' 'event' 'event' 'event' 'event' 'event' 'nonevent'\n",
            " 'event' 'event' 'event' 'nonevent' 'event' 'nonevent' 'event' 'event'\n",
            " 'nonevent' 'event' 'nonevent' 'nonevent' 'nonevent' 'event' 'event'\n",
            " 'event' 'nonevent' 'event' 'event' 'nonevent' 'nonevent' 'event'\n",
            " 'nonevent' 'event' 'event' 'event' 'nonevent' 'nonevent' 'event'\n",
            " 'nonevent' 'nonevent' 'nonevent' 'event' 'nonevent' 'nonevent' 'nonevent'\n",
            " 'event' 'nonevent' 'event' 'event' 'event' 'event' 'event' 'event'\n",
            " 'event' 'nonevent' 'nonevent' 'nonevent' 'event' 'event' 'nonevent'\n",
            " 'event' 'event' 'nonevent' 'nonevent' 'event' 'nonevent' 'event' 'event'\n",
            " 'event' 'event' 'event' 'event' 'event' 'event' 'nonevent' 'event'\n",
            " 'nonevent' 'event' 'event' 'nonevent' 'event' 'nonevent' 'event' 'event'\n",
            " 'event' 'nonevent' 'nonevent' 'nonevent' 'event' 'event' 'event' 'event'\n",
            " 'event' 'nonevent' 'event' 'event' 'event' 'event' 'event' 'event'\n",
            " 'nonevent' 'nonevent' 'event' 'event' 'event' 'event' 'event' 'nonevent'\n",
            " 'event' 'nonevent' 'event' 'nonevent' 'event' 'nonevent' 'event' 'event'\n",
            " 'event' 'nonevent' 'nonevent' 'event' 'event' 'nonevent' 'event' 'event'\n",
            " 'event' 'event' 'nonevent' 'event' 'event' 'event' 'nonevent' 'event'\n",
            " 'event' 'nonevent' 'event' 'nonevent' 'nonevent' 'event' 'event' 'event'\n",
            " 'event' 'event' 'nonevent' 'event' 'event' 'nonevent' 'nonevent' 'event'\n",
            " 'event' 'event' 'event' 'event' 'event' 'event' 'event' 'event'\n",
            " 'nonevent' 'nonevent' 'nonevent' 'event' 'event' 'event' 'event' 'event'\n",
            " 'event' 'nonevent' 'event' 'nonevent' 'nonevent' 'nonevent' 'event'\n",
            " 'event' 'event' 'event' 'event' 'event' 'event' 'nonevent' 'nonevent'\n",
            " 'event' 'event' 'event' 'event' 'event' 'nonevent' 'event' 'event'\n",
            " 'event' 'nonevent' 'event' 'event' 'event' 'nonevent' 'nonevent'\n",
            " 'nonevent' 'event' 'nonevent' 'nonevent' 'event' 'event' 'nonevent'\n",
            " 'event' 'event' 'event' 'nonevent' 'nonevent' 'event' 'nonevent'\n",
            " 'nonevent' 'nonevent' 'event' 'event' 'event' 'event' 'event' 'event'\n",
            " 'event' 'nonevent' 'nonevent' 'event' 'nonevent' 'event' 'event' 'event'\n",
            " 'nonevent' 'nonevent' 'event' 'event' 'nonevent' 'nonevent' 'nonevent'\n",
            " 'event' 'event' 'event' 'nonevent' 'event' 'event' 'nonevent' 'event'\n",
            " 'nonevent' 'nonevent' 'nonevent' 'event' 'nonevent' 'event' 'event'\n",
            " 'nonevent' 'nonevent' 'nonevent' 'event' 'event' 'event' 'event' 'event'\n",
            " 'event' 'event' 'nonevent' 'nonevent' 'event' 'nonevent' 'event' 'event'\n",
            " 'event' 'event' 'event' 'event' 'event' 'event' 'nonevent' 'event'\n",
            " 'event' 'event' 'event' 'nonevent' 'nonevent' 'event' 'event' 'event'\n",
            " 'event' 'nonevent' 'nonevent' 'event' 'event' 'nonevent' 'nonevent'\n",
            " 'event' 'nonevent' 'event' 'event' 'event' 'nonevent' 'event' 'nonevent'\n",
            " 'event' 'nonevent' 'nonevent' 'event' 'nonevent' 'nonevent' 'event'\n",
            " 'event' 'nonevent' 'event' 'event' 'nonevent' 'nonevent' 'event'\n",
            " 'nonevent' 'event' 'event' 'nonevent' 'nonevent' 'nonevent' 'event'\n",
            " 'event' 'event' 'event' 'nonevent' 'nonevent' 'nonevent' 'nonevent'\n",
            " 'event' 'nonevent' 'nonevent' 'event' 'event' 'event' 'event' 'nonevent'\n",
            " 'nonevent' 'nonevent' 'event' 'event' 'nonevent' 'event' 'event' 'event'\n",
            " 'nonevent' 'event' 'event' 'event' 'event' 'event' 'nonevent' 'event'\n",
            " 'event' 'event' 'nonevent' 'nonevent' 'event' 'event' 'event' 'event'\n",
            " 'event' 'nonevent' 'event' 'event' 'event' 'event' 'nonevent' 'event'\n",
            " 'nonevent' 'event' 'nonevent' 'event' 'event' 'event' 'event' 'event'\n",
            " 'event' 'nonevent' 'event' 'event' 'nonevent' 'nonevent' 'nonevent'\n",
            " 'event' 'event' 'event' 'nonevent' 'event' 'nonevent' 'event' 'nonevent'\n",
            " 'event' 'nonevent' 'nonevent' 'event' 'nonevent' 'event' 'nonevent'\n",
            " 'event' 'event' 'event' 'nonevent' 'nonevent' 'nonevent' 'nonevent'\n",
            " 'event' 'nonevent' 'event' 'event' 'event' 'event' 'nonevent' 'event'\n",
            " 'event' 'event' 'event' 'nonevent' 'event' 'event' 'nonevent' 'nonevent'\n",
            " 'nonevent' 'nonevent' 'nonevent' 'event' 'event' 'nonevent' 'event'\n",
            " 'event' 'nonevent' 'nonevent' 'event' 'event' 'event' 'event' 'nonevent'\n",
            " 'event' 'event' 'event' 'nonevent' 'nonevent' 'event' 'nonevent' 'event'\n",
            " 'nonevent' 'event' 'event' 'event' 'event' 'event' 'nonevent' 'event'\n",
            " 'event' 'nonevent' 'nonevent' 'event' 'event' 'event' 'event' 'event'\n",
            " 'event' 'nonevent' 'nonevent' 'event' 'event' 'event' 'event' 'nonevent'\n",
            " 'event' 'nonevent' 'nonevent' 'event' 'event' 'event' 'event' 'nonevent'\n",
            " 'event' 'event' 'nonevent' 'event' 'event' 'nonevent' 'event' 'nonevent'\n",
            " 'nonevent' 'nonevent' 'event' 'nonevent' 'event' 'event' 'event'\n",
            " 'nonevent' 'event' 'event' 'nonevent' 'event' 'event' 'event' 'event'\n",
            " 'nonevent' 'nonevent' 'event' 'event' 'event' 'nonevent' 'event' 'event'\n",
            " 'nonevent' 'event' 'event' 'nonevent' 'nonevent' 'event' 'nonevent'\n",
            " 'event' 'nonevent' 'nonevent' 'event' 'event' 'event' 'event' 'nonevent'\n",
            " 'event' 'nonevent' 'nonevent' 'event' 'event' 'nonevent' 'nonevent'\n",
            " 'event' 'nonevent' 'nonevent' 'nonevent' 'nonevent' 'event' 'nonevent'\n",
            " 'nonevent' 'nonevent' 'event' 'event' 'event' 'event' 'nonevent'\n",
            " 'nonevent' 'event' 'nonevent' 'event' 'event' 'nonevent' 'event' 'event'\n",
            " 'nonevent' 'nonevent' 'event' 'nonevent' 'event' 'event' 'nonevent'\n",
            " 'event' 'event' 'event' 'nonevent' 'event' 'event' 'event' 'nonevent'\n",
            " 'nonevent' 'event' 'nonevent' 'event' 'event' 'event' 'event' 'event'\n",
            " 'nonevent' 'nonevent' 'event' 'event' 'nonevent' 'nonevent' 'nonevent'\n",
            " 'event' 'event' 'nonevent' 'event' 'nonevent' 'nonevent' 'event' 'event'\n",
            " 'nonevent' 'event' 'nonevent' 'nonevent' 'nonevent' 'event' 'event'\n",
            " 'event' 'event' 'event' 'event' 'event' 'event' 'event' 'event'\n",
            " 'nonevent' 'nonevent' 'nonevent' 'event' 'nonevent' 'event' 'nonevent'\n",
            " 'event' 'nonevent' 'event' 'nonevent' 'event' 'event' 'nonevent'\n",
            " 'nonevent' 'nonevent' 'nonevent' 'nonevent' 'event' 'nonevent' 'event'\n",
            " 'event' 'nonevent' 'nonevent' 'event' 'event' 'event' 'nonevent' 'event'\n",
            " 'nonevent' 'event' 'nonevent' 'event' 'event' 'event' 'nonevent' 'event'\n",
            " 'event' 'nonevent' 'event' 'event' 'nonevent' 'nonevent' 'nonevent'\n",
            " 'event' 'event' 'nonevent' 'event' 'event' 'nonevent' 'nonevent' 'event'\n",
            " 'event' 'event' 'event' 'nonevent' 'nonevent' 'event' 'nonevent' 'event'\n",
            " 'nonevent' 'event' 'nonevent' 'event' 'nonevent' 'event' 'event' 'event'\n",
            " 'nonevent' 'event' 'event' 'event' 'event' 'nonevent' 'event' 'event'\n",
            " 'nonevent' 'event' 'event' 'event' 'nonevent' 'event' 'event' 'nonevent'\n",
            " 'event' 'nonevent' 'event' 'nonevent' 'event' 'event' 'event' 'nonevent'\n",
            " 'event' 'event' 'event' 'event' 'event' 'nonevent' 'event' 'nonevent'\n",
            " 'event' 'event' 'nonevent' 'nonevent' 'event' 'event' 'nonevent'\n",
            " 'nonevent' 'event' 'event' 'nonevent' 'nonevent' 'nonevent' 'event'\n",
            " 'nonevent' 'event' 'event' 'event' 'nonevent' 'nonevent' 'nonevent'\n",
            " 'event' 'event' 'event' 'nonevent' 'nonevent' 'nonevent' 'event' 'event'\n",
            " 'event' 'nonevent' 'nonevent' 'nonevent' 'event' 'event' 'event'\n",
            " 'nonevent' 'nonevent' 'event' 'event' 'event' 'event' 'event' 'event'\n",
            " 'event' 'nonevent' 'nonevent' 'nonevent' 'nonevent' 'event' 'nonevent'\n",
            " 'event' 'event' 'nonevent' 'event' 'nonevent' 'event' 'event' 'nonevent'\n",
            " 'nonevent' 'nonevent' 'event' 'nonevent' 'event' 'event' 'event' 'event'\n",
            " 'event' 'nonevent' 'nonevent' 'nonevent' 'event' 'nonevent' 'nonevent'\n",
            " 'event' 'event' 'nonevent' 'event' 'nonevent' 'event' 'event' 'event'\n",
            " 'nonevent' 'event' 'event' 'nonevent' 'event' 'nonevent' 'event' 'event'\n",
            " 'event' 'nonevent' 'event' 'event' 'event' 'nonevent' 'event' 'nonevent'\n",
            " 'event' 'nonevent' 'event' 'nonevent' 'event' 'event' 'event' 'nonevent'\n",
            " 'nonevent' 'event' 'event' 'nonevent' 'event' 'nonevent' 'event' 'event'\n",
            " 'event' 'nonevent' 'event' 'event' 'nonevent' 'nonevent' 'event'\n",
            " 'nonevent' 'event' 'nonevent' 'event' 'nonevent' 'nonevent' 'nonevent'\n",
            " 'nonevent' 'nonevent' 'nonevent' 'event' 'event' 'nonevent' 'nonevent'\n",
            " 'event' 'nonevent' 'event' 'nonevent' 'event' 'nonevent' 'nonevent'\n",
            " 'event' 'event' 'nonevent' 'nonevent' 'event' 'event' 'event' 'event'\n",
            " 'nonevent' 'event' 'event' 'event' 'event' 'nonevent' 'event' 'event'\n",
            " 'event' 'nonevent' 'nonevent' 'event' 'event' 'event' 'event' 'nonevent'\n",
            " 'nonevent' 'event' 'nonevent' 'nonevent' 'nonevent' 'nonevent' 'nonevent'\n",
            " 'event' 'event' 'nonevent' 'nonevent' 'nonevent' 'event' 'nonevent'\n",
            " 'event' 'event' 'event' 'nonevent' 'event' 'event' 'nonevent' 'nonevent'\n",
            " 'event' 'nonevent' 'nonevent' 'event' 'event' 'nonevent' 'event' 'event'\n",
            " 'event' 'nonevent' 'event' 'event' 'event' 'event' 'event' 'nonevent'\n",
            " 'event' 'event' 'event' 'nonevent' 'event' 'nonevent' 'event' 'event'\n",
            " 'event' 'event' 'event' 'nonevent' 'event' 'event' 'event' 'nonevent'\n",
            " 'event' 'event' 'nonevent' 'nonevent' 'event' 'nonevent' 'event'\n",
            " 'nonevent' 'event' 'event' 'event' 'event' 'event' 'nonevent' 'event'\n",
            " 'nonevent' 'nonevent' 'event' 'nonevent' 'nonevent' 'event' 'nonevent'\n",
            " 'nonevent' 'nonevent' 'nonevent' 'nonevent' 'event' 'event' 'event'\n",
            " 'event' 'nonevent' 'event' 'nonevent']\n"
          ],
          "name": "stdout"
        }
      ]
    },
    {
      "cell_type": "code",
      "metadata": {
        "id": "inWU5Ih1YHbB",
        "colab": {
          "base_uri": "https://localhost:8080/",
          "height": 438
        },
        "outputId": "ac980b90-896a-4cb8-eba1-6713bbfbd3c6"
      },
      "source": [
        "#logistic regression\n",
        "\n",
        "import pandas as pd\n",
        "from sklearn.linear_model import LogisticRegression\n",
        "from sklearn import metrics\n",
        "import matplotlib.pyplot as plt\n",
        "\n",
        "#binary classifier with logistic regression\n",
        "logistic_regression= LogisticRegression()\n",
        "logistic_regression.fit(X_train,y_train)\n",
        "y_pred = logistic_regression.predict(X_test)\n",
        "\n",
        "confusion_matrix = pd.crosstab(y_test, y_pred, rownames=['Actual'], colnames=['Predicted'])\n",
        "sns.heatmap(confusion_matrix, annot=True)\n",
        "\n",
        "print('Accuracy: ',metrics.accuracy_score(y_test, y_pred))\n",
        "plt.show()\n"
      ],
      "execution_count": 8,
      "outputs": [
        {
          "output_type": "stream",
          "text": [
            "/usr/local/lib/python3.6/dist-packages/sklearn/linear_model/_logistic.py:940: ConvergenceWarning: lbfgs failed to converge (status=1):\n",
            "STOP: TOTAL NO. of ITERATIONS REACHED LIMIT.\n",
            "\n",
            "Increase the number of iterations (max_iter) or scale the data as shown in:\n",
            "    https://scikit-learn.org/stable/modules/preprocessing.html\n",
            "Please also refer to the documentation for alternative solver options:\n",
            "    https://scikit-learn.org/stable/modules/linear_model.html#logistic-regression\n",
            "  extra_warning_msg=_LOGISTIC_SOLVER_CONVERGENCE_MSG)\n"
          ],
          "name": "stderr"
        },
        {
          "output_type": "stream",
          "text": [
            "Accuracy:  0.8488372093023255\n"
          ],
          "name": "stdout"
        },
        {
          "output_type": "display_data",
          "data": {
            "image/png": "[encoded data removed]",
            "text/plain": [
              "<Figure size 432x288 with 2 Axes>"
            ]
          },
          "metadata": {
            "tags": [],
            "needs_background": "light"
          }
        }
      ]
    },
    {
      "cell_type": "code",
      "metadata": {
        "colab": {
          "base_uri": "https://localhost:8080/",
          "height": 438
        },
        "id": "BLh9M0MMuPAn",
        "outputId": "35b373e7-c006-4d0e-fd14-a1598b811524"
      },
      "source": [
        "#multivariate classifier with logistic regression\n",
        "\n",
        "y_train_multi = npf_train[\"class4\"]\n",
        "\n",
        "y_test_multi = npf_train[\"class4\"]\n",
        "\n",
        "logistic_regression = LogisticRegression()\n",
        "logistic_regression.fit(X_train,y_train_multi)\n",
        "y_pred_multi = logistic_regression.predict(X_test)\n",
        "\n",
        "confusion_matrix = pd.crosstab(y_test_multi, y_pred_multi, rownames=['Actual'], colnames=['Predicted'])\n",
        "sns.heatmap(confusion_matrix, annot=True)\n",
        "\n",
        "print('Accuracy: ',metrics.accuracy_score(y_test_multi, y_pred_multi))\n",
        "\n",
        "#conclusion... not doing too good with this one. "
      ],
      "execution_count": 9,
      "outputs": [
        {
          "output_type": "stream",
          "text": [
            "/usr/local/lib/python3.6/dist-packages/sklearn/linear_model/_logistic.py:940: ConvergenceWarning: lbfgs failed to converge (status=1):\n",
            "STOP: TOTAL NO. of ITERATIONS REACHED LIMIT.\n",
            "\n",
            "Increase the number of iterations (max_iter) or scale the data as shown in:\n",
            "    https://scikit-learn.org/stable/modules/preprocessing.html\n",
            "Please also refer to the documentation for alternative solver options:\n",
            "    https://scikit-learn.org/stable/modules/linear_model.html#logistic-regression\n",
            "  extra_warning_msg=_LOGISTIC_SOLVER_CONVERGENCE_MSG)\n"
          ],
          "name": "stderr"
        },
        {
          "output_type": "stream",
          "text": [
            "Accuracy:  0.7131782945736435\n"
          ],
          "name": "stdout"
        },
        {
          "output_type": "display_data",
          "data": {
            "image/png": "[encoded data removed]",
            "text/plain": [
              "<Figure size 432x288 with 2 Axes>"
            ]
          },
          "metadata": {
            "tags": [],
            "needs_background": "light"
          }
        }
      ]
    },
    {
      "cell_type": "code",
      "metadata": {
        "id": "qKve4nmkurL1"
      },
      "source": [
        ""
      ],
      "execution_count": null,
      "outputs": []
    }
  ]
}