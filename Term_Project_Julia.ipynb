{
  "nbformat": 4,
  "nbformat_minor": 0,
  "metadata": {
    "colab": {
      "name": "Term Project Julia.ipynb",
      "provenance": [],
      "collapsed_sections": []
    },
    "kernelspec": {
      "name": "python3",
      "display_name": "Python 3"
    }
  },
  "cells": [
    {
      "cell_type": "markdown",
      "metadata": {
        "id": "J4H0nXhGzfNm"
      },
      "source": [
        "##K nearest neighbour\n",
        " \n",
        "- run the k nearest neighbour algorithm for a range of values of k\n",
        "- output the prediction and compare with the true values on the validation set\n",
        "- choose best k and run the k nearest neighbour on the test data using that value"
      ]
    },
    {
      "cell_type": "code",
      "metadata": {
        "id": "GZGrWDgy57wH"
      },
      "source": [
        "import numpy as np\n",
        "import pandas as pd\n",
        "\n",
        "def data_cleaner(data):\n",
        "    #remove the id, partlybad columns\n",
        "    data.drop([\"id\",\"partlybad\"],1,inplace=True)\n",
        "    #set new index using the date column\n",
        "    data.set_index([\"date\"],inplace=True)\n",
        "    #add binary 'class2' col for event/non-event\n",
        "    data[\"class2\"] = np.where(data[\"class4\"] == \"nonevent\", \"nonevent\",\"event\")\n",
        "    #arrange to put class2 col at the front\n",
        "    cols = ['class2'] + [col for col in data if col != 'class2']\n",
        "    data = data[cols]\n",
        "    return data"
      ],
      "execution_count": null,
      "outputs": []
    },
    {
      "cell_type": "code",
      "metadata": {
        "id": "OSY27e4p1Gp5"
      },
      "source": [
        "import pandas as pd\n",
        "import numpy as np\n",
        "\n",
        "#load training data\n",
        "url = \"https://raw.githubusercontent.com/williwilliams3/TermProjectIML/master/data/train.csv\"\n",
        "npf_train_raw = pd.read_csv(url)\n",
        "npf_train = data_cleaner(npf_train_raw)\n",
        "\n",
        "#create feature array and target column for training data\n",
        "X_train = npf_train.iloc[:,2:]\n",
        "y_train = npf_train[\"class2\"]\n",
        "\n",
        "#import validation data\n",
        "npf_validation_raw = pd.read_csv(\"https://raw.githubusercontent.com/williwilliams3/TermProjectIML/master/data/validation.csv\")\n",
        "npf_validation = data_cleaner(npf_validation_raw)\n",
        "\n",
        "#create feature array and target column for test data\n",
        "X_validation = npf_validation.iloc[:,2:]\n",
        "y_validation = npf_validation[\"class2\"]\n",
        "\n",
        "#import test data\n",
        "npf_test_raw = pd.read_csv(\"https://raw.githubusercontent.com/williwilliams3/TermProjectIML/master/data/test.csv\")\n",
        "npf_test = data_cleaner(npf_test_raw)\n",
        "\n",
        "#create feature array and target column for test data\n",
        "X_test = npf_test.iloc[:,2:]\n",
        "y_test = npf_test[\"class2\"]"
      ],
      "execution_count": null,
      "outputs": []
    },
    {
      "cell_type": "code",
      "metadata": {
        "colab": {
          "base_uri": "https://localhost:8080/",
          "height": 969
        },
        "id": "PbZdIsqZzcaY",
        "outputId": "783d507e-db41-4ee0-8560-2d1ac0020573"
      },
      "source": [
        "#k nearest neighbours\n",
        "from sklearn.neighbors import KNeighborsClassifier \n",
        "import matplotlib.pyplot as plt\n",
        "\n",
        "#set up for storing error rate\n",
        "pred_rate = np.zeros(40)\n",
        "\n",
        "for k in range(1,40):\n",
        "    #run algorithm\n",
        "    knn = KNeighborsClassifier(n_neighbors=k) \n",
        "    #fit to training data\n",
        "    knn.fit(X_train, y_train) \n",
        "    #predicted values for class2 on validation set\n",
        "    y_predictions = knn.predict(X_validation)\n",
        "    #compare predictions with actual results\n",
        "    y_s = np.c_[y_validation,y_predictions]\n",
        "    correct_ind = np.where(y_s[:,0] == y_s[:,1], 1,0)\n",
        "    #find error on validation set\n",
        "    pred_rate[k] = np.mean(correct_ind)\n",
        "    print('rate of correct predictions for k = %i' %k,pred_rate[k])\n",
        "\n",
        "f, ax = plt.subplots(1)\n",
        "plt.plot(pred_rate,color=\"fuchsia\")\n",
        "ax.set_xlim(1, 40)"
      ],
      "execution_count": null,
      "outputs": [
        {
          "output_type": "stream",
          "text": [
            "rate of correct predictions for k = 1 0.7441860465116279\n",
            "rate of correct predictions for k = 2 0.7441860465116279\n",
            "rate of correct predictions for k = 3 0.7558139534883721\n",
            "rate of correct predictions for k = 4 0.7209302325581395\n",
            "rate of correct predictions for k = 5 0.7441860465116279\n",
            "rate of correct predictions for k = 6 0.7325581395348837\n",
            "rate of correct predictions for k = 7 0.7558139534883721\n",
            "rate of correct predictions for k = 8 0.7790697674418605\n",
            "rate of correct predictions for k = 9 0.7441860465116279\n",
            "rate of correct predictions for k = 10 0.7558139534883721\n",
            "rate of correct predictions for k = 11 0.7441860465116279\n",
            "rate of correct predictions for k = 12 0.7325581395348837\n",
            "rate of correct predictions for k = 13 0.7093023255813954\n",
            "rate of correct predictions for k = 14 0.7325581395348837\n",
            "rate of correct predictions for k = 15 0.7441860465116279\n",
            "rate of correct predictions for k = 16 0.7558139534883721\n",
            "rate of correct predictions for k = 17 0.7558139534883721\n",
            "rate of correct predictions for k = 18 0.7674418604651163\n",
            "rate of correct predictions for k = 19 0.7558139534883721\n",
            "rate of correct predictions for k = 20 0.7674418604651163\n",
            "rate of correct predictions for k = 21 0.7558139534883721\n",
            "rate of correct predictions for k = 22 0.7674418604651163\n",
            "rate of correct predictions for k = 23 0.7674418604651163\n",
            "rate of correct predictions for k = 24 0.7674418604651163\n",
            "rate of correct predictions for k = 25 0.7674418604651163\n",
            "rate of correct predictions for k = 26 0.7674418604651163\n",
            "rate of correct predictions for k = 27 0.7558139534883721\n",
            "rate of correct predictions for k = 28 0.7558139534883721\n",
            "rate of correct predictions for k = 29 0.7558139534883721\n",
            "rate of correct predictions for k = 30 0.7441860465116279\n",
            "rate of correct predictions for k = 31 0.7441860465116279\n",
            "rate of correct predictions for k = 32 0.7558139534883721\n",
            "rate of correct predictions for k = 33 0.7441860465116279\n",
            "rate of correct predictions for k = 34 0.7558139534883721\n",
            "rate of correct predictions for k = 35 0.7441860465116279\n",
            "rate of correct predictions for k = 36 0.7325581395348837\n",
            "rate of correct predictions for k = 37 0.7209302325581395\n",
            "rate of correct predictions for k = 38 0.7209302325581395\n",
            "rate of correct predictions for k = 39 0.7209302325581395\n"
          ],
          "name": "stdout"
        },
        {
          "output_type": "execute_result",
          "data": {
            "text/plain": [
              "(1.0, 40.0)"
            ]
          },
          "metadata": {
            "tags": []
          },
          "execution_count": 7
        },
        {
          "output_type": "display_data",
          "data": {
            "image/png": "[encoded data removed]",
            "text/plain": [
              "<Figure size 432x288 with 1 Axes>"
            ]
          },
          "metadata": {
            "tags": [],
            "needs_background": "light"
          }
        }
      ]
    },
    {
      "cell_type": "code",
      "metadata": {
        "colab": {
          "base_uri": "https://localhost:8080/",
          "height": 314
        },
        "id": "N-0VgQN1t6KV",
        "outputId": "f779530c-ebfb-4000-d3d7-725f62275fb1"
      },
      "source": [
        "import seaborn as sns\n",
        "#use k with lowest validation error \n",
        "#k=13\n",
        "knn = KNeighborsClassifier(n_neighbors=13) \n",
        "#fit to training data\n",
        "knn.fit(X_train, y_train) \n",
        "\n",
        "y_predictions = knn.predict(X_test)\n",
        "\n",
        "#accuracy rate\n",
        "from sklearn import metrics\n",
        "#accuracy metric for the test set \n",
        "print('binary accuracy for 13-NN on test set=', metrics.accuracy_score(y_test, y_predictions))\n",
        "\n",
        "#map predictions on heat map\n",
        "confusion_matrix = pd.crosstab(y_test, y_predictions, rownames=['Actual'], colnames=['Predicted'])\n",
        "sns.heatmap(confusion_matrix, annot=True)\n",
        "\n",
        "#perplexity? "
      ],
      "execution_count": null,
      "outputs": [
        {
          "output_type": "stream",
          "text": [
            "binary accuracy for 13-NN on test set= 0.8604651162790697\n"
          ],
          "name": "stdout"
        },
        {
          "output_type": "execute_result",
          "data": {
            "text/plain": [
              "<matplotlib.axes._subplots.AxesSubplot at 0x7f346130d160>"
            ]
          },
          "metadata": {
            "tags": []
          },
          "execution_count": 32
        },
        {
          "output_type": "display_data",
          "data": {
            "image/png": "[encoded data removed]",
            "text/plain": [
              "<Figure size 432x288 with 2 Axes>"
            ]
          },
          "metadata": {
            "tags": [],
            "needs_background": "light"
          }
        }
      ]
    },
    {
      "cell_type": "markdown",
      "metadata": {
        "id": "Ebar9EWMLtop"
      },
      "source": [
        "Results\n",
        "- Lowest validation error was given by k=13\n",
        "- classifies well for non-event, less well for event days, predicts highly that they will be non-event. \n"
      ]
    },
    {
      "cell_type": "code",
      "metadata": {
        "colab": {
          "base_uri": "https://localhost:8080/",
          "height": 297
        },
        "id": "edcYKyYkDueS",
        "outputId": "737c6831-3cc4-4d9f-ed2f-c7e579be5113"
      },
      "source": [
        "#repeat optimal k finding for multiclassifier\n",
        "#try multi classifiers with k nearest? \n",
        "\n",
        "y_train_multi = npf_train[\"class4\"]\n",
        "\n",
        "y_test_multi = npf_test[\"class4\"]\n",
        "\n",
        "knn = KNeighborsClassifier(n_neighbors=13) \n",
        "knn.fit(X_train, y_train_multi) \n",
        "\n",
        "#predicted values for class2\n",
        "y_predictions_multi = knn.predict(X_test)\n",
        "\n",
        "confusion_matrix = pd.crosstab(y_test_multi, y_predictions_multi, rownames=['Actual'], colnames=['Predicted'])\n",
        "sns.heatmap(confusion_matrix, annot=True)\n",
        "\n",
        "\n",
        "print('accuracy for 13-NN on test set=', metrics.accuracy_score(y_test_multi, y_predictions_multi))"
      ],
      "execution_count": null,
      "outputs": [
        {
          "output_type": "stream",
          "text": [
            "accuracy for 13-NN on test set= 0.6627906976744186\n"
          ],
          "name": "stdout"
        },
        {
          "output_type": "display_data",
          "data": {
            "image/png": "[encoded data removed]",
            "text/plain": [
              "<Figure size 432x288 with 2 Axes>"
            ]
          },
          "metadata": {
            "tags": [],
            "needs_background": "light"
          }
        }
      ]
    },
    {
      "cell_type": "code",
      "metadata": {
        "id": "m8ePTLhrTMd1",
        "colab": {
          "base_uri": "https://localhost:8080/"
        },
        "outputId": "b5a0fb7c-b773-49a6-d786-6e54553df6f8"
      },
      "source": [
        "npf_test_hidden_raw = pd.read_csv(\"https://raw.githubusercontent.com/williwilliams3/TermProjectIML/master/data/npf_test_hidden.csv\")\n",
        "npf_test_hidden = data_cleaner(npf_test_hidden_raw)\n",
        "\n",
        "#create feature array and target column for test data\n",
        "X_test_hidden = npf_test_hidden.iloc[:,2:]\n",
        "y_test_hidden = npf_test_hidden[\"class2\"]\n",
        "\n",
        "#run algorithm for k=13\n",
        "knn = KNeighborsClassifier(n_neighbors=13) \n",
        "#using the training data as before\n",
        "knn.fit(X_train, y_train) \n",
        "#predicted values for class2\n",
        "y_predictions = knn.predict(X_test_hidden)\n",
        "\n",
        "print(y_predictions)"
      ],
      "execution_count": null,
      "outputs": [
        {
          "output_type": "stream",
          "text": [
            "['event' 'nonevent' 'nonevent' 'event' 'nonevent' 'event' 'event'\n",
            " 'nonevent' 'event' 'event' 'event' 'event' 'event' 'event' 'event'\n",
            " 'event' 'event' 'nonevent' 'nonevent' 'event' 'event' 'event' 'event'\n",
            " 'nonevent' 'nonevent' 'event' 'event' 'nonevent' 'event' 'nonevent'\n",
            " 'event' 'event' 'nonevent' 'event' 'nonevent' 'nonevent' 'nonevent'\n",
            " 'event' 'nonevent' 'nonevent' 'nonevent' 'nonevent' 'nonevent' 'nonevent'\n",
            " 'event' 'event' 'nonevent' 'event' 'event' 'event' 'nonevent' 'nonevent'\n",
            " 'nonevent' 'nonevent' 'event' 'nonevent' 'event' 'nonevent' 'nonevent'\n",
            " 'event' 'event' 'nonevent' 'nonevent' 'event' 'event' 'event' 'event'\n",
            " 'event' 'event' 'nonevent' 'nonevent' 'nonevent' 'event' 'nonevent'\n",
            " 'nonevent' 'nonevent' 'nonevent' 'nonevent' 'nonevent' 'event' 'nonevent'\n",
            " 'nonevent' 'event' 'event' 'event' 'event' 'event' 'event' 'event'\n",
            " 'nonevent' 'event' 'event' 'event' 'event' 'nonevent' 'event' 'nonevent'\n",
            " 'nonevent' 'event' 'event' 'nonevent' 'nonevent' 'nonevent' 'nonevent'\n",
            " 'nonevent' 'event' 'event' 'nonevent' 'nonevent' 'event' 'event' 'event'\n",
            " 'event' 'nonevent' 'nonevent' 'nonevent' 'nonevent' 'event' 'event'\n",
            " 'nonevent' 'event' 'event' 'event' 'event' 'nonevent' 'nonevent'\n",
            " 'nonevent' 'event' 'nonevent' 'event' 'nonevent' 'event' 'nonevent'\n",
            " 'nonevent' 'event' 'nonevent' 'event' 'event' 'event' 'event' 'event'\n",
            " 'nonevent' 'event' 'event' 'event' 'nonevent' 'event' 'event' 'nonevent'\n",
            " 'event' 'nonevent' 'nonevent' 'event' 'event' 'nonevent' 'event' 'event'\n",
            " 'event' 'event' 'nonevent' 'nonevent' 'event' 'nonevent' 'event' 'event'\n",
            " 'nonevent' 'event' 'event' 'event' 'event' 'event' 'nonevent' 'nonevent'\n",
            " 'event' 'nonevent' 'event' 'event' 'event' 'event' 'event' 'nonevent'\n",
            " 'event' 'nonevent' 'nonevent' 'nonevent' 'nonevent' 'event' 'event'\n",
            " 'nonevent' 'nonevent' 'nonevent' 'event' 'nonevent' 'nonevent' 'event'\n",
            " 'event' 'event' 'nonevent' 'nonevent' 'nonevent' 'event' 'event' 'event'\n",
            " 'nonevent' 'event' 'event' 'event' 'nonevent' 'nonevent' 'nonevent'\n",
            " 'event' 'nonevent' 'nonevent' 'nonevent' 'event' 'nonevent' 'event'\n",
            " 'event' 'event' 'nonevent' 'nonevent' 'event' 'nonevent' 'nonevent'\n",
            " 'nonevent' 'event' 'nonevent' 'nonevent' 'event' 'nonevent' 'event'\n",
            " 'event' 'nonevent' 'nonevent' 'event' 'nonevent' 'event' 'nonevent'\n",
            " 'nonevent' 'nonevent' 'nonevent' 'event' 'event' 'nonevent' 'nonevent'\n",
            " 'nonevent' 'event' 'event' 'event' 'nonevent' 'event' 'event' 'nonevent'\n",
            " 'event' 'nonevent' 'nonevent' 'nonevent' 'nonevent' 'nonevent' 'event'\n",
            " 'event' 'nonevent' 'nonevent' 'nonevent' 'event' 'event' 'event' 'event'\n",
            " 'event' 'event' 'nonevent' 'nonevent' 'nonevent' 'event' 'nonevent'\n",
            " 'event' 'event' 'event' 'nonevent' 'event' 'event' 'nonevent' 'event'\n",
            " 'nonevent' 'event' 'event' 'event' 'event' 'nonevent' 'nonevent' 'event'\n",
            " 'event' 'nonevent' 'event' 'nonevent' 'nonevent' 'event' 'event'\n",
            " 'nonevent' 'event' 'event' 'nonevent' 'event' 'nonevent' 'nonevent'\n",
            " 'nonevent' 'event' 'nonevent' 'nonevent' 'nonevent' 'nonevent' 'event'\n",
            " 'nonevent' 'nonevent' 'event' 'event' 'nonevent' 'event' 'event'\n",
            " 'nonevent' 'nonevent' 'nonevent' 'event' 'nonevent' 'nonevent' 'nonevent'\n",
            " 'nonevent' 'nonevent' 'nonevent' 'event' 'event' 'event' 'nonevent'\n",
            " 'nonevent' 'nonevent' 'event' 'event' 'nonevent' 'nonevent' 'event'\n",
            " 'nonevent' 'event' 'nonevent' 'nonevent' 'nonevent' 'nonevent' 'event'\n",
            " 'nonevent' 'nonevent' 'event' 'event' 'nonevent' 'nonevent' 'nonevent'\n",
            " 'event' 'event' 'event' 'event' 'nonevent' 'nonevent' 'nonevent' 'event'\n",
            " 'nonevent' 'event' 'event' 'event' 'nonevent' 'event' 'event' 'nonevent'\n",
            " 'nonevent' 'event' 'event' 'event' 'nonevent' 'event' 'nonevent' 'event'\n",
            " 'nonevent' 'event' 'event' 'event' 'nonevent' 'event' 'event' 'nonevent'\n",
            " 'event' 'event' 'nonevent' 'nonevent' 'nonevent' 'nonevent' 'nonevent'\n",
            " 'nonevent' 'nonevent' 'event' 'nonevent' 'event' 'nonevent' 'nonevent'\n",
            " 'nonevent' 'nonevent' 'event' 'nonevent' 'nonevent' 'nonevent' 'event'\n",
            " 'nonevent' 'event' 'nonevent' 'nonevent' 'nonevent' 'nonevent' 'nonevent'\n",
            " 'nonevent' 'event' 'nonevent' 'event' 'event' 'nonevent' 'event' 'event'\n",
            " 'event' 'event' 'nonevent' 'event' 'event' 'nonevent' 'nonevent'\n",
            " 'nonevent' 'nonevent' 'nonevent' 'event' 'event' 'nonevent' 'nonevent'\n",
            " 'event' 'nonevent' 'nonevent' 'nonevent' 'event' 'nonevent' 'event'\n",
            " 'nonevent' 'event' 'event' 'event' 'nonevent' 'nonevent' 'event'\n",
            " 'nonevent' 'event' 'nonevent' 'event' 'event' 'nonevent' 'event' 'event'\n",
            " 'nonevent' 'event' 'nonevent' 'nonevent' 'event' 'event' 'event' 'event'\n",
            " 'event' 'nonevent' 'nonevent' 'nonevent' 'nonevent' 'nonevent' 'event'\n",
            " 'nonevent' 'event' 'nonevent' 'nonevent' 'nonevent' 'nonevent' 'nonevent'\n",
            " 'event' 'event' 'event' 'nonevent' 'event' 'event' 'nonevent' 'event'\n",
            " 'event' 'nonevent' 'event' 'nonevent' 'nonevent' 'nonevent' 'event'\n",
            " 'nonevent' 'event' 'nonevent' 'event' 'event' 'event' 'event' 'nonevent'\n",
            " 'event' 'event' 'nonevent' 'event' 'event' 'nonevent' 'nonevent'\n",
            " 'nonevent' 'event' 'nonevent' 'event' 'event' 'nonevent' 'event' 'event'\n",
            " 'nonevent' 'nonevent' 'event' 'nonevent' 'event' 'nonevent' 'nonevent'\n",
            " 'event' 'nonevent' 'event' 'nonevent' 'nonevent' 'event' 'nonevent'\n",
            " 'nonevent' 'event' 'nonevent' 'nonevent' 'nonevent' 'event' 'nonevent'\n",
            " 'nonevent' 'nonevent' 'event' 'nonevent' 'nonevent' 'nonevent' 'nonevent'\n",
            " 'nonevent' 'event' 'event' 'event' 'nonevent' 'nonevent' 'event'\n",
            " 'nonevent' 'event' 'event' 'nonevent' 'nonevent' 'event' 'nonevent'\n",
            " 'nonevent' 'nonevent' 'nonevent' 'nonevent' 'event' 'nonevent' 'event'\n",
            " 'event' 'event' 'nonevent' 'event' 'event' 'nonevent' 'nonevent'\n",
            " 'nonevent' 'event' 'nonevent' 'event' 'nonevent' 'event' 'event' 'event'\n",
            " 'nonevent' 'nonevent' 'nonevent' 'event' 'nonevent' 'nonevent' 'nonevent'\n",
            " 'event' 'event' 'nonevent' 'event' 'nonevent' 'nonevent' 'event' 'event'\n",
            " 'event' 'event' 'nonevent' 'nonevent' 'event' 'nonevent' 'event' 'event'\n",
            " 'nonevent' 'event' 'event' 'event' 'event' 'event' 'event' 'nonevent'\n",
            " 'nonevent' 'nonevent' 'event' 'event' 'nonevent' 'nonevent' 'event'\n",
            " 'nonevent' 'nonevent' 'nonevent' 'event' 'event' 'nonevent' 'nonevent'\n",
            " 'nonevent' 'nonevent' 'event' 'event' 'nonevent' 'nonevent' 'nonevent'\n",
            " 'nonevent' 'nonevent' 'nonevent' 'nonevent' 'event' 'nonevent' 'event'\n",
            " 'nonevent' 'event' 'nonevent' 'event' 'nonevent' 'event' 'nonevent'\n",
            " 'event' 'event' 'nonevent' 'event' 'event' 'nonevent' 'nonevent'\n",
            " 'nonevent' 'event' 'nonevent' 'event' 'event' 'event' 'nonevent'\n",
            " 'nonevent' 'nonevent' 'nonevent' 'event' 'nonevent' 'nonevent' 'nonevent'\n",
            " 'nonevent' 'event' 'event' 'nonevent' 'nonevent' 'nonevent' 'event'\n",
            " 'nonevent' 'event' 'event' 'event' 'nonevent' 'nonevent' 'nonevent'\n",
            " 'event' 'nonevent' 'nonevent' 'event' 'nonevent' 'nonevent' 'event'\n",
            " 'event' 'nonevent' 'nonevent' 'event' 'event' 'nonevent' 'event'\n",
            " 'nonevent' 'event' 'nonevent' 'event' 'event' 'nonevent' 'nonevent'\n",
            " 'nonevent' 'nonevent' 'event' 'event' 'event' 'nonevent' 'event'\n",
            " 'nonevent' 'event' 'event' 'nonevent' 'nonevent' 'event' 'event'\n",
            " 'nonevent' 'nonevent' 'nonevent' 'event' 'nonevent' 'nonevent' 'nonevent'\n",
            " 'event' 'nonevent' 'event' 'nonevent' 'event' 'nonevent' 'nonevent'\n",
            " 'nonevent' 'nonevent' 'nonevent' 'event' 'nonevent' 'nonevent' 'nonevent'\n",
            " 'event' 'event' 'event' 'nonevent' 'nonevent' 'nonevent' 'nonevent'\n",
            " 'nonevent' 'nonevent' 'nonevent' 'nonevent' 'event' 'nonevent' 'nonevent'\n",
            " 'nonevent' 'event' 'event' 'event' 'nonevent' 'nonevent' 'nonevent'\n",
            " 'nonevent' 'nonevent' 'nonevent' 'event' 'event' 'nonevent' 'event'\n",
            " 'nonevent' 'nonevent' 'nonevent' 'nonevent' 'nonevent' 'nonevent' 'event'\n",
            " 'nonevent' 'event' 'event' 'event' 'event' 'event' 'event' 'nonevent'\n",
            " 'nonevent' 'nonevent' 'nonevent' 'nonevent' 'nonevent' 'event' 'nonevent'\n",
            " 'event' 'nonevent' 'event' 'event' 'event' 'nonevent' 'event' 'event'\n",
            " 'nonevent' 'nonevent' 'nonevent' 'event' 'event' 'event' 'nonevent'\n",
            " 'event' 'nonevent' 'event' 'nonevent' 'event' 'nonevent' 'nonevent'\n",
            " 'nonevent' 'event' 'nonevent' 'nonevent' 'nonevent' 'event' 'nonevent'\n",
            " 'nonevent' 'nonevent' 'event' 'nonevent' 'event' 'event' 'nonevent'\n",
            " 'event' 'event' 'nonevent' 'nonevent' 'event' 'nonevent' 'nonevent'\n",
            " 'event' 'nonevent' 'event' 'nonevent' 'event' 'event' 'nonevent'\n",
            " 'nonevent' 'nonevent' 'event' 'event' 'event' 'event' 'nonevent'\n",
            " 'nonevent' 'nonevent' 'event' 'event' 'nonevent' 'event' 'nonevent'\n",
            " 'nonevent' 'nonevent' 'nonevent' 'nonevent' 'nonevent' 'event' 'event'\n",
            " 'event' 'event' 'nonevent' 'event' 'nonevent' 'event' 'nonevent'\n",
            " 'nonevent' 'event' 'nonevent' 'nonevent' 'nonevent' 'nonevent' 'event'\n",
            " 'event' 'event' 'event' 'nonevent' 'nonevent' 'nonevent' 'nonevent'\n",
            " 'nonevent' 'nonevent' 'nonevent' 'nonevent' 'event' 'event' 'nonevent'\n",
            " 'nonevent' 'nonevent' 'event' 'nonevent' 'event' 'event' 'event'\n",
            " 'nonevent' 'nonevent' 'event' 'nonevent' 'nonevent' 'event' 'nonevent'\n",
            " 'nonevent' 'event' 'nonevent' 'nonevent' 'nonevent' 'event' 'event'\n",
            " 'nonevent' 'event' 'event' 'event' 'event' 'event' 'nonevent' 'event'\n",
            " 'event' 'nonevent' 'nonevent' 'event' 'nonevent' 'nonevent' 'event'\n",
            " 'event' 'event' 'event' 'event' 'event' 'nonevent' 'nonevent' 'nonevent'\n",
            " 'nonevent' 'nonevent' 'nonevent' 'nonevent' 'event' 'nonevent' 'nonevent'\n",
            " 'nonevent' 'nonevent' 'event' 'event' 'event' 'nonevent' 'nonevent'\n",
            " 'event' 'nonevent' 'event' 'nonevent' 'nonevent' 'nonevent' 'event'\n",
            " 'nonevent' 'nonevent' 'nonevent' 'event' 'nonevent' 'event' 'event'\n",
            " 'event' 'event' 'nonevent' 'nonevent' 'nonevent']\n"
          ],
          "name": "stdout"
        }
      ]
    },
    {
      "cell_type": "code",
      "metadata": {
        "id": "inWU5Ih1YHbB",
        "colab": {
          "base_uri": "https://localhost:8080/",
          "height": 297
        },
        "outputId": "4d1c267c-b9e2-4239-cf80-7a5529a334bc"
      },
      "source": [
        "#logistic regression\n",
        "import seaborn as sns\n",
        "import pandas as pd\n",
        "from sklearn.linear_model import LogisticRegression\n",
        "from sklearn import metrics\n",
        "import matplotlib.pyplot as plt\n",
        "\n",
        "#normalise the X data\n",
        "from sklearn.preprocessing import StandardScaler\n",
        "X_train_norm = StandardScaler().fit_transform(X_train)\n",
        "X_test_norm = StandardScaler().fit_transform(X_test)\n",
        "\n",
        "#binary classifier with logistic regression\n",
        "logistic_regression= LogisticRegression()\n",
        "logistic_regression.fit(X_train_norm,y_train)\n",
        "y_pred_lr = logistic_regression.predict(X_test_norm)\n",
        "\n",
        "confusion_matrix = pd.crosstab(y_test, y_pred_lr, rownames=['Actual'], colnames=['Predicted'])\n",
        "sns.heatmap(confusion_matrix, annot=True)\n",
        "\n",
        "print('Accuracy on test set: ',metrics.accuracy_score(y_test, y_pred_lr))"
      ],
      "execution_count": null,
      "outputs": [
        {
          "output_type": "stream",
          "text": [
            "Accuracy on test set:  0.9534883720930233\n"
          ],
          "name": "stdout"
        },
        {
          "output_type": "display_data",
          "data": {
            "image/png": "[encoded data removed]",
            "text/plain": [
              "<Figure size 432x288 with 2 Axes>"
            ]
          },
          "metadata": {
            "tags": [],
            "needs_background": "light"
          }
        }
      ]
    },
    {
      "cell_type": "code",
      "metadata": {
        "colab": {
          "base_uri": "https://localhost:8080/",
          "height": 438
        },
        "id": "BLh9M0MMuPAn",
        "outputId": "f1540bcc-f365-4a3e-ddbb-6db01890f37a"
      },
      "source": [
        "#multivariate classifier with logistic regression\n",
        "\n",
        "y_train_multi = npf_train[\"class4\"]\n",
        "\n",
        "y_test_multi = npf_test[\"class4\"]\n",
        "\n",
        "logistic_regression = LogisticRegression()\n",
        "logistic_regression.fit(X_train_norm,y_train_multi)\n",
        "y_pred_multi = logistic_regression.predict(X_test_norm)\n",
        "\n",
        "confusion_matrix = pd.crosstab(y_test_multi, y_pred_multi, rownames=['Actual'], colnames=['Predicted'])\n",
        "sns.heatmap(confusion_matrix, annot=True)\n",
        "\n",
        "print('Accuracy: ',metrics.accuracy_score(y_test_multi, y_pred_multi))\n",
        "\n",
        "#conclusion... not doing too good with this one. "
      ],
      "execution_count": null,
      "outputs": [
        {
          "output_type": "stream",
          "text": [
            "/usr/local/lib/python3.6/dist-packages/sklearn/linear_model/_logistic.py:940: ConvergenceWarning: lbfgs failed to converge (status=1):\n",
            "STOP: TOTAL NO. of ITERATIONS REACHED LIMIT.\n",
            "\n",
            "Increase the number of iterations (max_iter) or scale the data as shown in:\n",
            "    https://scikit-learn.org/stable/modules/preprocessing.html\n",
            "Please also refer to the documentation for alternative solver options:\n",
            "    https://scikit-learn.org/stable/modules/linear_model.html#logistic-regression\n",
            "  extra_warning_msg=_LOGISTIC_SOLVER_CONVERGENCE_MSG)\n"
          ],
          "name": "stderr"
        },
        {
          "output_type": "stream",
          "text": [
            "Accuracy:  0.6511627906976745\n"
          ],
          "name": "stdout"
        },
        {
          "output_type": "display_data",
          "data": {
            "image/png": "[encoded data removed]",
            "text/plain": [
              "<Figure size 432x288 with 2 Axes>"
            ]
          },
          "metadata": {
            "tags": [],
            "needs_background": "light"
          }
        }
      ]
    }
  ]
}