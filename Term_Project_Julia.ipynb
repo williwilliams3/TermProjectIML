{
  "nbformat": 4,
  "nbformat_minor": 0,
  "metadata": {
    "colab": {
      "name": "Term Project Julia.ipynb",
      "provenance": [],
      "collapsed_sections": []
    },
    "kernelspec": {
      "name": "python3",
      "display_name": "Python 3"
    }
  },
  "cells": [
    {
      "cell_type": "markdown",
      "metadata": {
        "id": "J4H0nXhGzfNm"
      },
      "source": [
        "##K nearest neighbour\n",
        " \n",
        "- run the k nearest neighbour algorithm for a range of values of k\n",
        "- output the prediction and compare with the true values on the validation set\n",
        "- choose best k and run the k nearest neighbour on the test data using that value"
      ]
    },
    {
      "cell_type": "code",
      "metadata": {
        "id": "GZGrWDgy57wH"
      },
      "source": [
        "import numpy as np\n",
        "import pandas as pd\n",
        "\n",
        "def data_cleaner(data):\n",
        "    #remove the id, partlybad columns\n",
        "    data.drop([\"id\",\"partlybad\"],1,inplace=True)\n",
        "    #set new index using the date column\n",
        "    data.set_index([\"date\"],inplace=True)\n",
        "    #add binary 'class2' col for event/non-event\n",
        "    data[\"class2\"] = np.where(data[\"class4\"] == \"nonevent\", \"nonevent\",\"event\")\n",
        "    #arrange to put class2 col at the front\n",
        "    cols = ['class2'] + [col for col in data if col != 'class2']\n",
        "    data = data[cols]\n",
        "    return data"
      ],
      "execution_count": null,
      "outputs": []
    },
    {
      "cell_type": "code",
      "metadata": {
        "id": "OSY27e4p1Gp5"
      },
      "source": [
        "import pandas as pd\n",
        "import numpy as np\n",
        "\n",
        "#load training data\n",
        "url = \"https://raw.githubusercontent.com/williwilliams3/TermProjectIML/master/data/train.csv\"\n",
        "npf_train_raw = pd.read_csv(url)\n",
        "npf_train = data_cleaner(npf_train_raw)\n",
        "\n",
        "#create feature array and target column for training data\n",
        "X_train = npf_train.iloc[:,2:]\n",
        "y_train = npf_train[\"class2\"]\n",
        "\n",
        "#import test data\n",
        "npf_test_raw = pd.read_csv(\"https://raw.githubusercontent.com/williwilliams3/TermProjectIML/master/data/test.csv\")\n",
        "npf_test = data_cleaner(npf_test_raw)\n",
        "\n",
        "#create feature array and target column for test data\n",
        "X_test = npf_train.iloc[:,2:]\n",
        "y_test = npf_train[\"class2\"]"
      ],
      "execution_count": null,
      "outputs": []
    },
    {
      "cell_type": "code",
      "metadata": {
        "colab": {
          "base_uri": "https://localhost:8080/",
          "height": 951
        },
        "id": "PbZdIsqZzcaY",
        "outputId": "ee562afa-a068-4b55-c28b-b94ad02e2e8c"
      },
      "source": [
        "#this should be done on validation set?\n",
        "#run k nearest neighbours\n",
        "from sklearn.neighbors import KNeighborsClassifier \n",
        "import matplotlib.pyplot as plt\n",
        "\n",
        "pred_rate = np.zeros(40)\n",
        "\n",
        "for k in range(2,40):\n",
        "    #run algorithm\n",
        "    knn = KNeighborsClassifier(n_neighbors=k) \n",
        "    knn.fit(X_train, y_train) \n",
        "    #predicted values for class2\n",
        "    y_predictions = knn.predict(X_test)\n",
        "    #compare predictions with actual results\n",
        "    y_s = np.c_[y_test,y_predictions]\n",
        "    correct_ind = np.where(y_s[:,0] == y_s[:,1], 1,0)\n",
        "    #% accuracy\n",
        "    pred_rate[k] = np.mean(correct_ind)\n",
        "    print('rate of correct predictions for k = %i' %k,pred_rate[k])\n",
        "\n",
        "f, ax = plt.subplots(1)\n",
        "plt.plot(pred_rate,color=\"fuchsia\")\n",
        "ax.set_xlim(xmin=2)"
      ],
      "execution_count": null,
      "outputs": [
        {
          "output_type": "stream",
          "text": [
            "rate of correct predictions for k = 2 0.8914728682170543\n",
            "rate of correct predictions for k = 3 0.8837209302325582\n",
            "rate of correct predictions for k = 4 0.8217054263565892\n",
            "rate of correct predictions for k = 5 0.8294573643410853\n",
            "rate of correct predictions for k = 6 0.8023255813953488\n",
            "rate of correct predictions for k = 7 0.8217054263565892\n",
            "rate of correct predictions for k = 8 0.7945736434108527\n",
            "rate of correct predictions for k = 9 0.813953488372093\n",
            "rate of correct predictions for k = 10 0.7945736434108527\n",
            "rate of correct predictions for k = 11 0.8023255813953488\n",
            "rate of correct predictions for k = 12 0.7868217054263565\n",
            "rate of correct predictions for k = 13 0.7751937984496124\n",
            "rate of correct predictions for k = 14 0.7713178294573644\n",
            "rate of correct predictions for k = 15 0.7829457364341085\n",
            "rate of correct predictions for k = 16 0.7751937984496124\n",
            "rate of correct predictions for k = 17 0.7906976744186046\n",
            "rate of correct predictions for k = 18 0.7751937984496124\n",
            "rate of correct predictions for k = 19 0.7906976744186046\n",
            "rate of correct predictions for k = 20 0.7713178294573644\n",
            "rate of correct predictions for k = 21 0.7674418604651163\n",
            "rate of correct predictions for k = 22 0.7558139534883721\n",
            "rate of correct predictions for k = 23 0.7751937984496124\n",
            "rate of correct predictions for k = 24 0.7635658914728682\n",
            "rate of correct predictions for k = 25 0.7635658914728682\n",
            "rate of correct predictions for k = 26 0.7635658914728682\n",
            "rate of correct predictions for k = 27 0.7674418604651163\n",
            "rate of correct predictions for k = 28 0.7558139534883721\n",
            "rate of correct predictions for k = 29 0.7596899224806202\n",
            "rate of correct predictions for k = 30 0.7596899224806202\n",
            "rate of correct predictions for k = 31 0.7558139534883721\n",
            "rate of correct predictions for k = 32 0.748062015503876\n",
            "rate of correct predictions for k = 33 0.751937984496124\n",
            "rate of correct predictions for k = 34 0.748062015503876\n",
            "rate of correct predictions for k = 35 0.748062015503876\n",
            "rate of correct predictions for k = 36 0.748062015503876\n",
            "rate of correct predictions for k = 37 0.748062015503876\n",
            "rate of correct predictions for k = 38 0.748062015503876\n",
            "rate of correct predictions for k = 39 0.748062015503876\n"
          ],
          "name": "stdout"
        },
        {
          "output_type": "execute_result",
          "data": {
            "text/plain": [
              "(2.0, 40.95)"
            ]
          },
          "metadata": {
            "tags": []
          },
          "execution_count": 3
        },
        {
          "output_type": "display_data",
          "data": {
            "image/png": "[encoded data removed]",
            "text/plain": [
              "<Figure size 432x288 with 1 Axes>"
            ]
          },
          "metadata": {
            "tags": [],
            "needs_background": "light"
          }
        }
      ]
    },
    {
      "cell_type": "code",
      "metadata": {
        "id": "m8ePTLhrTMd1",
        "colab": {
          "base_uri": "https://localhost:8080/"
        },
        "outputId": "a940b4c1-dd3a-46f9-f0cd-e839a30f8c6e"
      },
      "source": [
        "#run the same with optimal k = ...? \n",
        "#npf 'hidden' data set\n",
        "\n",
        "npf_test_hidden_raw = pd.read_csv(\"https://raw.githubusercontent.com/williwilliams3/TermProjectIML/master/data/npf_test_hidden.csv\")\n",
        "npf_test_hidden = data_cleaner(npf_test_hidden_raw)\n",
        "\n",
        "#create feature array and target column for test data\n",
        "X_test_hidden = npf_test_hidden.iloc[:,2:]\n",
        "y_test_hidden = npf_test_hidden[\"class2\"]\n",
        "\n",
        "#run algorithm for k=2\n",
        "knn = KNeighborsClassifier(n_neighbors=2) \n",
        "#using the training data as before\n",
        "knn.fit(X_train, y_train) \n",
        "#predicted values for class2\n",
        "y_predictions = knn.predict(X_test_hidden)\n",
        "\n",
        "print(y_predictions)"
      ],
      "execution_count": null,
      "outputs": [
        {
          "output_type": "stream",
          "text": [
            "['event' 'event' 'nonevent' 'event' 'event' 'event' 'event' 'nonevent'\n",
            " 'nonevent' 'event' 'nonevent' 'event' 'event' 'event' 'event' 'event'\n",
            " 'nonevent' 'nonevent' 'event' 'event' 'event' 'event' 'event' 'nonevent'\n",
            " 'event' 'event' 'event' 'nonevent' 'event' 'nonevent' 'event' 'event'\n",
            " 'nonevent' 'event' 'nonevent' 'nonevent' 'nonevent' 'event' 'event'\n",
            " 'event' 'nonevent' 'event' 'event' 'nonevent' 'nonevent' 'event'\n",
            " 'nonevent' 'event' 'event' 'event' 'nonevent' 'nonevent' 'event'\n",
            " 'nonevent' 'nonevent' 'nonevent' 'event' 'nonevent' 'nonevent' 'nonevent'\n",
            " 'event' 'nonevent' 'event' 'event' 'event' 'event' 'event' 'event'\n",
            " 'event' 'nonevent' 'nonevent' 'nonevent' 'event' 'event' 'nonevent'\n",
            " 'event' 'event' 'nonevent' 'nonevent' 'event' 'nonevent' 'event' 'event'\n",
            " 'event' 'event' 'event' 'event' 'event' 'event' 'nonevent' 'event'\n",
            " 'nonevent' 'event' 'event' 'nonevent' 'event' 'nonevent' 'event' 'event'\n",
            " 'event' 'nonevent' 'nonevent' 'nonevent' 'event' 'event' 'event' 'event'\n",
            " 'event' 'nonevent' 'event' 'event' 'event' 'event' 'event' 'event'\n",
            " 'nonevent' 'nonevent' 'event' 'event' 'event' 'event' 'event' 'nonevent'\n",
            " 'event' 'nonevent' 'event' 'nonevent' 'event' 'nonevent' 'event' 'event'\n",
            " 'event' 'nonevent' 'nonevent' 'event' 'event' 'nonevent' 'event' 'event'\n",
            " 'event' 'event' 'nonevent' 'event' 'event' 'event' 'nonevent' 'event'\n",
            " 'event' 'nonevent' 'event' 'nonevent' 'nonevent' 'event' 'event' 'event'\n",
            " 'event' 'event' 'nonevent' 'event' 'event' 'nonevent' 'nonevent' 'event'\n",
            " 'event' 'event' 'event' 'event' 'event' 'event' 'event' 'event'\n",
            " 'nonevent' 'nonevent' 'nonevent' 'event' 'event' 'event' 'event' 'event'\n",
            " 'event' 'nonevent' 'event' 'nonevent' 'nonevent' 'nonevent' 'event'\n",
            " 'event' 'event' 'event' 'event' 'event' 'event' 'nonevent' 'nonevent'\n",
            " 'event' 'event' 'event' 'event' 'event' 'nonevent' 'event' 'event'\n",
            " 'event' 'nonevent' 'event' 'event' 'event' 'nonevent' 'nonevent'\n",
            " 'nonevent' 'event' 'nonevent' 'nonevent' 'event' 'event' 'nonevent'\n",
            " 'event' 'event' 'event' 'nonevent' 'nonevent' 'event' 'nonevent'\n",
            " 'nonevent' 'nonevent' 'event' 'event' 'event' 'event' 'event' 'event'\n",
            " 'event' 'nonevent' 'nonevent' 'event' 'nonevent' 'event' 'event' 'event'\n",
            " 'nonevent' 'nonevent' 'event' 'event' 'nonevent' 'nonevent' 'nonevent'\n",
            " 'event' 'event' 'event' 'nonevent' 'event' 'event' 'nonevent' 'event'\n",
            " 'nonevent' 'nonevent' 'nonevent' 'event' 'nonevent' 'event' 'event'\n",
            " 'nonevent' 'nonevent' 'nonevent' 'event' 'event' 'event' 'event' 'event'\n",
            " 'event' 'event' 'nonevent' 'nonevent' 'event' 'nonevent' 'event' 'event'\n",
            " 'event' 'event' 'event' 'event' 'event' 'event' 'nonevent' 'event'\n",
            " 'event' 'event' 'event' 'nonevent' 'nonevent' 'event' 'event' 'event'\n",
            " 'event' 'nonevent' 'nonevent' 'event' 'event' 'nonevent' 'nonevent'\n",
            " 'event' 'nonevent' 'event' 'event' 'event' 'nonevent' 'event' 'nonevent'\n",
            " 'event' 'nonevent' 'nonevent' 'event' 'nonevent' 'nonevent' 'event'\n",
            " 'event' 'nonevent' 'event' 'event' 'nonevent' 'nonevent' 'event'\n",
            " 'nonevent' 'event' 'event' 'nonevent' 'nonevent' 'nonevent' 'event'\n",
            " 'event' 'event' 'event' 'nonevent' 'nonevent' 'nonevent' 'nonevent'\n",
            " 'event' 'nonevent' 'nonevent' 'event' 'event' 'event' 'event' 'nonevent'\n",
            " 'nonevent' 'nonevent' 'event' 'event' 'nonevent' 'event' 'event' 'event'\n",
            " 'nonevent' 'event' 'event' 'event' 'event' 'event' 'nonevent' 'event'\n",
            " 'event' 'event' 'nonevent' 'nonevent' 'event' 'event' 'event' 'event'\n",
            " 'event' 'nonevent' 'event' 'event' 'event' 'event' 'nonevent' 'event'\n",
            " 'nonevent' 'event' 'nonevent' 'event' 'event' 'event' 'event' 'event'\n",
            " 'event' 'nonevent' 'event' 'event' 'nonevent' 'nonevent' 'nonevent'\n",
            " 'event' 'event' 'event' 'nonevent' 'event' 'nonevent' 'event' 'nonevent'\n",
            " 'event' 'nonevent' 'nonevent' 'event' 'nonevent' 'event' 'nonevent'\n",
            " 'event' 'event' 'event' 'nonevent' 'nonevent' 'nonevent' 'nonevent'\n",
            " 'event' 'nonevent' 'event' 'event' 'event' 'event' 'nonevent' 'event'\n",
            " 'event' 'event' 'event' 'nonevent' 'event' 'event' 'nonevent' 'nonevent'\n",
            " 'nonevent' 'nonevent' 'nonevent' 'event' 'event' 'nonevent' 'event'\n",
            " 'event' 'nonevent' 'nonevent' 'event' 'event' 'event' 'event' 'nonevent'\n",
            " 'event' 'event' 'event' 'nonevent' 'nonevent' 'event' 'nonevent' 'event'\n",
            " 'nonevent' 'event' 'event' 'event' 'event' 'event' 'nonevent' 'event'\n",
            " 'event' 'nonevent' 'nonevent' 'event' 'event' 'event' 'event' 'event'\n",
            " 'event' 'nonevent' 'nonevent' 'event' 'event' 'event' 'event' 'nonevent'\n",
            " 'event' 'nonevent' 'nonevent' 'event' 'event' 'event' 'event' 'nonevent'\n",
            " 'event' 'event' 'nonevent' 'event' 'event' 'nonevent' 'event' 'nonevent'\n",
            " 'nonevent' 'nonevent' 'event' 'nonevent' 'event' 'event' 'event'\n",
            " 'nonevent' 'event' 'event' 'nonevent' 'event' 'event' 'event' 'event'\n",
            " 'nonevent' 'nonevent' 'event' 'event' 'event' 'nonevent' 'event' 'event'\n",
            " 'nonevent' 'event' 'event' 'nonevent' 'nonevent' 'event' 'nonevent'\n",
            " 'event' 'nonevent' 'nonevent' 'event' 'event' 'event' 'event' 'nonevent'\n",
            " 'event' 'nonevent' 'nonevent' 'event' 'event' 'nonevent' 'nonevent'\n",
            " 'event' 'nonevent' 'nonevent' 'nonevent' 'nonevent' 'event' 'nonevent'\n",
            " 'nonevent' 'nonevent' 'event' 'event' 'event' 'event' 'nonevent'\n",
            " 'nonevent' 'event' 'nonevent' 'event' 'event' 'nonevent' 'event' 'event'\n",
            " 'nonevent' 'nonevent' 'event' 'nonevent' 'event' 'event' 'nonevent'\n",
            " 'event' 'event' 'event' 'nonevent' 'event' 'event' 'event' 'nonevent'\n",
            " 'nonevent' 'event' 'nonevent' 'event' 'event' 'event' 'event' 'event'\n",
            " 'nonevent' 'nonevent' 'event' 'event' 'nonevent' 'nonevent' 'nonevent'\n",
            " 'event' 'event' 'nonevent' 'event' 'nonevent' 'nonevent' 'event' 'event'\n",
            " 'nonevent' 'event' 'nonevent' 'nonevent' 'nonevent' 'event' 'event'\n",
            " 'event' 'event' 'event' 'event' 'event' 'event' 'event' 'event'\n",
            " 'nonevent' 'nonevent' 'nonevent' 'event' 'nonevent' 'event' 'nonevent'\n",
            " 'event' 'nonevent' 'event' 'nonevent' 'event' 'event' 'nonevent'\n",
            " 'nonevent' 'nonevent' 'nonevent' 'nonevent' 'event' 'nonevent' 'event'\n",
            " 'event' 'nonevent' 'nonevent' 'event' 'event' 'event' 'nonevent' 'event'\n",
            " 'nonevent' 'event' 'nonevent' 'event' 'event' 'event' 'nonevent' 'event'\n",
            " 'event' 'nonevent' 'event' 'event' 'nonevent' 'nonevent' 'nonevent'\n",
            " 'event' 'event' 'nonevent' 'event' 'event' 'nonevent' 'nonevent' 'event'\n",
            " 'event' 'event' 'event' 'nonevent' 'nonevent' 'event' 'nonevent' 'event'\n",
            " 'nonevent' 'event' 'nonevent' 'event' 'nonevent' 'event' 'event' 'event'\n",
            " 'nonevent' 'event' 'event' 'event' 'event' 'nonevent' 'event' 'event'\n",
            " 'nonevent' 'event' 'event' 'event' 'nonevent' 'event' 'event' 'nonevent'\n",
            " 'event' 'nonevent' 'event' 'nonevent' 'event' 'event' 'event' 'nonevent'\n",
            " 'event' 'event' 'event' 'event' 'event' 'nonevent' 'event' 'nonevent'\n",
            " 'event' 'event' 'nonevent' 'nonevent' 'event' 'event' 'nonevent'\n",
            " 'nonevent' 'event' 'event' 'nonevent' 'nonevent' 'nonevent' 'event'\n",
            " 'nonevent' 'event' 'event' 'event' 'nonevent' 'nonevent' 'nonevent'\n",
            " 'event' 'event' 'event' 'nonevent' 'nonevent' 'nonevent' 'event' 'event'\n",
            " 'event' 'nonevent' 'nonevent' 'nonevent' 'event' 'event' 'event'\n",
            " 'nonevent' 'nonevent' 'event' 'event' 'event' 'event' 'event' 'event'\n",
            " 'event' 'nonevent' 'nonevent' 'nonevent' 'nonevent' 'event' 'nonevent'\n",
            " 'event' 'event' 'nonevent' 'event' 'nonevent' 'event' 'event' 'nonevent'\n",
            " 'nonevent' 'nonevent' 'event' 'nonevent' 'event' 'event' 'event' 'event'\n",
            " 'event' 'nonevent' 'nonevent' 'nonevent' 'event' 'nonevent' 'nonevent'\n",
            " 'event' 'event' 'nonevent' 'event' 'nonevent' 'event' 'event' 'event'\n",
            " 'nonevent' 'event' 'event' 'nonevent' 'event' 'nonevent' 'event' 'event'\n",
            " 'event' 'nonevent' 'event' 'event' 'event' 'nonevent' 'event' 'nonevent'\n",
            " 'event' 'nonevent' 'event' 'nonevent' 'event' 'event' 'event' 'nonevent'\n",
            " 'nonevent' 'event' 'event' 'nonevent' 'event' 'nonevent' 'event' 'event'\n",
            " 'event' 'nonevent' 'event' 'event' 'nonevent' 'nonevent' 'event'\n",
            " 'nonevent' 'event' 'nonevent' 'event' 'nonevent' 'nonevent' 'nonevent'\n",
            " 'nonevent' 'nonevent' 'nonevent' 'event' 'event' 'nonevent' 'nonevent'\n",
            " 'event' 'nonevent' 'event' 'nonevent' 'event' 'nonevent' 'nonevent'\n",
            " 'event' 'event' 'nonevent' 'nonevent' 'event' 'event' 'event' 'event'\n",
            " 'nonevent' 'event' 'event' 'event' 'event' 'nonevent' 'event' 'event'\n",
            " 'event' 'nonevent' 'nonevent' 'event' 'event' 'event' 'event' 'nonevent'\n",
            " 'nonevent' 'event' 'nonevent' 'nonevent' 'nonevent' 'nonevent' 'nonevent'\n",
            " 'event' 'event' 'nonevent' 'nonevent' 'nonevent' 'event' 'nonevent'\n",
            " 'event' 'event' 'event' 'nonevent' 'event' 'event' 'nonevent' 'nonevent'\n",
            " 'event' 'nonevent' 'nonevent' 'event' 'event' 'nonevent' 'event' 'event'\n",
            " 'event' 'nonevent' 'event' 'event' 'event' 'event' 'event' 'nonevent'\n",
            " 'event' 'event' 'event' 'nonevent' 'event' 'nonevent' 'event' 'event'\n",
            " 'event' 'event' 'event' 'nonevent' 'event' 'event' 'event' 'nonevent'\n",
            " 'event' 'event' 'nonevent' 'nonevent' 'event' 'nonevent' 'event'\n",
            " 'nonevent' 'event' 'event' 'event' 'event' 'event' 'nonevent' 'event'\n",
            " 'nonevent' 'nonevent' 'event' 'nonevent' 'nonevent' 'event' 'nonevent'\n",
            " 'nonevent' 'nonevent' 'nonevent' 'nonevent' 'event' 'event' 'event'\n",
            " 'event' 'nonevent' 'event' 'nonevent']\n"
          ],
          "name": "stdout"
        }
      ]
    },
    {
      "cell_type": "code",
      "metadata": {
        "id": "inWU5Ih1YHbB"
      },
      "source": [
        ""
      ],
      "execution_count": null,
      "outputs": []
    }
  ]
}