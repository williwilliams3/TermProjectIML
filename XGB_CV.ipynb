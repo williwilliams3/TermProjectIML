{
 "cells": [
  {
   "cell_type": "markdown",
   "metadata": {},
   "source": [
    "### Extreme gradient boosting classifier fitted by cross\n",
    "\n",
    " 1. Load clean data into memory\n",
    " 2. The 5 parameters found through random grid search and then error estimated through cross validation \n",
    "     \n",
    "     - colsample_bytree: the subsample ratio of columns when constructing each tree\n",
    "     - gamma: Minimum loss reduction required to make a further partition on a leaf node of the tree\n",
    "     - learning_rate: Step size shrinkage used in update to prevents overfitting\n",
    "     - max_depth: Maximum depth of a tree\n",
    "     -  n_estimators: Size of sample of trees generated\n",
    "     - subsample: Subsample ratio of the training instances\n",
    "     \n",
    " 3. Measure accuracy over test set and AUC"
   ]
  },
  {
   "cell_type": "code",
   "execution_count": 1,
   "metadata": {},
   "outputs": [],
   "source": [
    "import numpy as np\n",
    "import pandas as pd\n",
    "import os\n",
    "\n",
    "os.chdir('/Users/bwilliams/GoogleDrive/UniversityOfHelsinki/Fall2020/IML/TeamProject/TermProjectIML/bin')\n",
    "from SplitData import *\n",
    "\n",
    "from collections import OrderedDict\n",
    "\n",
    "import matplotlib.pyplot as plt\n",
    "from sklearn import metrics\n",
    "from sklearn.metrics import plot_confusion_matrix\n",
    "from sklearn.model_selection import cross_val_score, GridSearchCV, KFold, RandomizedSearchCV, train_test_split\n",
    "from sklearn.metrics import plot_confusion_matrix\n",
    "\n",
    "import xgboost as xgb\n",
    "\n",
    "from scipy.stats import uniform, randint\n"
   ]
  },
  {
   "cell_type": "code",
   "execution_count": 2,
   "metadata": {},
   "outputs": [
    {
     "name": "stdout",
     "output_type": "stream",
     "text": [
      "Fitting 5 folds for each of 200 candidates, totalling 1000 fits\n"
     ]
    },
    {
     "name": "stderr",
     "output_type": "stream",
     "text": [
      "[Parallel(n_jobs=1)]: Using backend SequentialBackend with 1 concurrent workers.\n"
     ]
    },
    {
     "name": "stdout",
     "output_type": "stream",
     "text": [
      "{'colsample_bytree': 0.8854654189948783, 'gamma': 0.05056133806139512, 'learning_rate': 0.05523204183449923, 'max_depth': 2, 'n_estimators': 267, 'subsample': 0.6291052025456774}\n"
     ]
    },
    {
     "name": "stderr",
     "output_type": "stream",
     "text": [
      "[Parallel(n_jobs=1)]: Done 1000 out of 1000 | elapsed:  1.1min finished\n"
     ]
    }
   ],
   "source": [
    "# Cross validation on grid of values XGB\n",
    "\n",
    "xgb_model = xgb.XGBClassifier(objective=\"binary:logistic\", random_state=42)\n",
    "params = {\n",
    "    \"colsample_bytree\": uniform(0.7, 0.3),\n",
    "    \"gamma\": uniform(0, 0.5),\n",
    "    \"learning_rate\": uniform(0.03, 0.3), # default 0.1 \n",
    "    \"max_depth\": randint(2, 6), # default 3\n",
    "    \"n_estimators\": randint(100, 400), # default 100\n",
    "    \"subsample\": uniform(0.6, 0.4)\n",
    "}\n",
    "\n",
    "search = RandomizedSearchCV(xgb_model, param_distributions=params, random_state=42, n_iter=200, cv=5, verbose=1, n_jobs=1, return_train_score=True)\n",
    "\n",
    "search.fit(X_trainval, y_trainval_bin)\n",
    "xgb_params = search.best_params_\n",
    "\n",
    "print(search.best_params_)\n"
   ]
  },
  {
   "cell_type": "code",
   "execution_count": 5,
   "metadata": {},
   "outputs": [
    {
     "name": "stdout",
     "output_type": "stream",
     "text": [
      "Accuracy on Train: 0.9951456310679612\n",
      "5-Fold CV Accuracy:  0.8933797909407666\n",
      "Accuracy on Test: 0.8846153846153846\n"
     ]
    }
   ],
   "source": [
    "xgb_model = search.best_estimator_\n",
    "\n",
    "y_pred_train = xgb_model.predict(X_trainval)\n",
    "\n",
    "print(\"Accuracy on Train:\", metrics.accuracy_score(y_trainval_bin, y_pred_train))\n",
    "\n",
    "y_pred = xgb_model.predict(X_test)\n",
    "# probabilities of class event\n",
    "y_pred_proba = xgb_model.predict_proba(X_test)[:,0]\n",
    "\n",
    "print('5-Fold CV Accuracy: ', search.best_score_)\n",
    "\n",
    "print(\"Accuracy on Test:\",metrics.accuracy_score(y_test_bin, y_pred))\n"
   ]
  },
  {
   "cell_type": "code",
   "execution_count": 7,
   "metadata": {},
   "outputs": [
    {
     "data": {
      "text/plain": [
       "<sklearn.metrics._plot.confusion_matrix.ConfusionMatrixDisplay at 0x12fd27f10>"
      ]
     },
     "execution_count": 7,
     "metadata": {},
     "output_type": "execute_result"
    },
    {
     "data": {
      "image/png": "[encoded data removed]",
      "text/plain": [
       "<Figure size 432x288 with 2 Axes>"
      ]
     },
     "metadata": {
      "needs_background": "light"
     },
     "output_type": "display_data"
    }
   ],
   "source": [
    "plot_confusion_matrix(xgb_model, X_test, y_test_bin,\n",
    "                                 cmap=plt.cm.Blues,\n",
    "                                 # normalize='true'\n",
    "                                 )\n"
   ]
  },
  {
   "cell_type": "code",
   "execution_count": 12,
   "metadata": {},
   "outputs": [
    {
     "data": {
      "image/png": "[encoded data removed]",
      "text/plain": [
       "<Figure size 432x288 with 1 Axes>"
      ]
     },
     "metadata": {
      "needs_background": "light"
     },
     "output_type": "display_data"
    }
   ],
   "source": [
    "y_test_01 = pd.get_dummies(y_test_bin)['event']\n",
    "\n",
    "fpr, tpr, thresholds = metrics.roc_curve(y_test_01, y_pred_proba)\n",
    "auc = metrics.auc(fpr, tpr)\n",
    "\n",
    "plt.plot(fpr,tpr , marker='.', label='DT')\n",
    "plt.title('AUC: '+ str(round(100*auc,1)) ) \n",
    "plt.plot(fpr, fpr, linestyle='--', label='Baseline')\n",
    "plt.xlabel('False Positive Rate')\n",
    "plt.ylabel('True Positive Rate')\n",
    "plt.legend()\n",
    "plt.show()\n"
   ]
  },
  {
   "cell_type": "code",
   "execution_count": 13,
   "metadata": {},
   "outputs": [
    {
     "name": "stdout",
     "output_type": "stream",
     "text": [
      "Fitting 5 folds for each of 200 candidates, totalling 1000 fits\n"
     ]
    },
    {
     "name": "stderr",
     "output_type": "stream",
     "text": [
      "[Parallel(n_jobs=1)]: Using backend SequentialBackend with 1 concurrent workers.\n",
      "[Parallel(n_jobs=1)]: Done 1000 out of 1000 | elapsed:  4.1min finished\n"
     ]
    },
    {
     "name": "stdout",
     "output_type": "stream",
     "text": [
      "{'colsample_bytree': 0.7816396748153905, 'gamma': 0.32384506027068116, 'learning_rate': 0.030156113098594745, 'max_depth': 2, 'n_estimators': 332, 'subsample': 0.7219125032632117}\n"
     ]
    }
   ],
   "source": [
    "########################################################\n",
    "# Multiclass\n",
    "\n",
    "xgb_model = xgb.XGBClassifier(objective=\"multi:softprob\", random_state=42)\n",
    "params = {\n",
    "    \"colsample_bytree\": uniform(0.7, 0.3),\n",
    "    \"gamma\": uniform(0, 0.5),\n",
    "    \"learning_rate\": uniform(0.03, 0.3), # default 0.1 \n",
    "    \"max_depth\": randint(2, 6), # default 3\n",
    "    \"n_estimators\": randint(100, 400), # default 100\n",
    "    \"subsample\": uniform(0.6, 0.4)\n",
    "}\n",
    "\n",
    "search = RandomizedSearchCV(xgb_model, param_distributions=params, random_state=42, n_iter=200, cv=5, verbose=1, n_jobs=1, return_train_score=True)\n",
    "\n",
    "search.fit(X_trainval, y_trainval)\n",
    "xgb_params = search.best_params_\n",
    "\n",
    "print(search.best_params_)\n",
    "\n",
    "\n",
    "\n",
    "xgb_model = search.best_estimator_\n"
   ]
  },
  {
   "cell_type": "code",
   "execution_count": 14,
   "metadata": {},
   "outputs": [
    {
     "name": "stdout",
     "output_type": "stream",
     "text": [
      "Accuracy on Train: 1.0\n",
      "5-Fold CV Accuracy:  0.6699186991869919\n",
      "Accuracy on Test: 0.6153846153846154\n"
     ]
    }
   ],
   "source": [
    "y_pred_train = xgb_model.predict(X_trainval)\n",
    "\n",
    "print(\"Accuracy on Train:\",metrics.accuracy_score(y_trainval, y_pred_train))\n",
    "\n",
    "\n",
    "y_pred = xgb_model.predict(X_test)\n",
    "\n",
    "print('5-Fold CV Accuracy: ', search.best_score_)\n",
    "\n",
    "print(\"Accuracy on Test:\",metrics.accuracy_score(y_test, y_pred))\n"
   ]
  },
  {
   "cell_type": "code",
   "execution_count": 15,
   "metadata": {},
   "outputs": [
    {
     "data": {
      "text/plain": [
       "<sklearn.metrics._plot.confusion_matrix.ConfusionMatrixDisplay at 0x12e0f3820>"
      ]
     },
     "execution_count": 15,
     "metadata": {},
     "output_type": "execute_result"
    },
    {
     "data": {
      "image/png": "[encoded data removed]",
      "text/plain": [
       "<Figure size 432x288 with 2 Axes>"
      ]
     },
     "metadata": {
      "needs_background": "light"
     },
     "output_type": "display_data"
    }
   ],
   "source": [
    "plot_confusion_matrix(xgb_model, X_test, y_test,\n",
    "                                 cmap=plt.cm.Blues,\n",
    "                                 # normalize='true'\n",
    "                                 )\n"
   ]
  },
  {
   "cell_type": "markdown",
   "metadata": {},
   "source": [
    "| Accuracy   | DT Binary  | RF Binary   | XGB Binary   | DT Multiclass | RF Multiclass | XGB Multiclass |\n",
    "|------------|------------|-------------|-------------|---------------|---------------|----------------|\n",
    "| Training   |        89% |        100% |        100% |        66%    |        100%   |        100%    |\n",
    "| Validation |        83% |        86%  |        89%  |        61%    |        61%    |        67%     |\n",
    "| Test       |        81% |        83%  |        88%  |        60%    |        67%    |        62%     |"
   ]
  },
  {
   "cell_type": "code",
   "execution_count": null,
   "metadata": {},
   "outputs": [],
   "source": []
  }
 ],
 "metadata": {
  "kernelspec": {
   "display_name": "Python 3",
   "language": "python",
   "name": "python3"
  },
  "language_info": {
   "codemirror_mode": {
    "name": "ipython",
    "version": 3
   },
   "file_extension": ".py",
   "mimetype": "text/x-python",
   "name": "python",
   "nbconvert_exporter": "python",
   "pygments_lexer": "ipython3",
   "version": "3.8.5"
  }
 },
 "nbformat": 4,
 "nbformat_minor": 4
}
